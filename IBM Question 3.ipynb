{
 "cells": [
  {
   "cell_type": "markdown",
   "metadata": {},
   "source": [
    "## Section for PLUTO Dataset"
   ]
  },
  {
   "cell_type": "code",
   "execution_count": 1,
   "metadata": {},
   "outputs": [],
   "source": [
    "import numpy as np\n",
    "import pandas as pd\n",
    "import matplotlib.pyplot as plt\n",
    "import seaborn as sns\n",
    "import warnings\n",
    "import statsmodels.api as sm\n",
    "import statsmodels.formula.api as smf\n",
    "warnings.filterwarnings(\"ignore\")\n",
    "%matplotlib inline\n",
    "\n",
    "from sklearn.preprocessing import StandardScaler  \n",
    "from sklearn.pipeline import make_pipeline \n",
    "from sklearn.model_selection import train_test_split\n",
    "from sklearn.linear_model import LinearRegression\n",
    "from sklearn.ensemble import RandomForestRegressor\n",
    "from sklearn.metrics import explained_variance_score, mean_absolute_error, mean_squared_error, r2_score\n",
    "from xgboost import XGBRegressor\n",
    "from xgboost import plot_importance\n"
   ]
  },
  {
   "cell_type": "markdown",
   "metadata": {},
   "source": [
    "### Column Name                                          Description\n",
    "***\n",
    "1.Address:\t       An address for the tax lot.(STRING)<br>\n",
    "2.BldgArea:        The total gross area in square feet.(NUMERIC)<br>\n",
    "3.BldgDepth:       The building’s depth, which is the effective perpendicular distance, measured in feet.(NUMERIC)<br>\n",
    "4.BuiltFAR:        Total building floor area divided by the area of the tax lot.(NUMERIC)<br>\n",
    "5.CommFAR:         The Maximum Allowable Commercial Floor Area Ratio(NUMERIC)<br>\n",
    "6.FacilFAR:        The Maximum Allowable Community Facility Floor Area Ratio(NUMERIC).<br>\n",
    "7.Lot:             The number of the tax lot.(DISCRETE)<br>\n",
    "8.LotArea:         Total area of the tax lot, expressed in square feet rounded to the nearest integer.(NUMERIC)<br>\n",
    "9.LotDepth:        The tax lot's depth measured in feet.(NUMERIC)<br>\n",
    "10.NumBldgs:       The number of buildings on the tax lot.(NUMERIC)<br>\n",
    "11.NumFloors:      In the tallest building on the tax lot, the number of full and partial stories starting from the ground floor.(NUMERIC)<br>\n",
    "12.OfficeArea:    An estimate of the exterior dimensions of the portion of the structure(s) allocated for office use.(NUMERIC)<br>\n",
    "13.ResArea:       An estimate of the exterior dimensions of the portion of the structure(s) allocated for residential use.(NUMERIC)<br>\n",
    "14.ResidFAR:      The Maximum Allowable Residential Floor Area Ratio.(NUMERIC)<br>\n",
    "15.RetailArea:    An estimate of the exterior dimensions of the portion of the structure(s) allocated for retail use.(NUMERIC)<br>\n",
    "16.YearBuilt:    The year construction of the building was completed.(DISCRETE)<br>\n",
    "17.YearAlter1:   If a building has been altered more than once, YEAR ALTERED 1 is the year of the second most recent alteration.(DISCRETE)<br>\n",
    "18.ZipCode:    The zip code that the tax lot is located in.(NUMERIC)<br>\n",
    "19.YCoord:     The Y coordinate of the XY coordinate pair which depicts the approximate location of the lot.(NUMERIC)<br>\n",
    "20.XCoord:     The X coordinate of the XY coordinate pair which depicts the approximate location of the lot.(NUMERIC)<br>"
   ]
  },
  {
   "cell_type": "markdown",
   "metadata": {},
   "source": [
    "## Explore Bronx Dataset"
   ]
  },
  {
   "cell_type": "code",
   "execution_count": 2,
   "metadata": {},
   "outputs": [],
   "source": [
    "import types\n",
    "import pandas as pd\n",
    "from botocore.client import Config\n",
    "import ibm_boto3\n",
    "\n",
    "def __iter__(self): return 0\n",
    "\n",
    "# @hidden_cell\n",
    "# The following code accesses a file in your IBM Cloud Object Storage. It includes your credentials.\n",
    "# You might want to remove those credentials before you share your notebook.\n",
    "client_******************* = ibm_boto3.client(service_name='s3',\n",
    "    ibm_api_key_id='************************',\n",
    "    ibm_auth_endpoint=\"https://iam.bluemix.net/oidc/token\",\n",
    "    config=Config(signature_version='oauth'),\n",
    "    endpoint_url='https://s3-api.us-geo.objectstorage.service.networklayer.com')\n",
    "\n",
    "body = client_***************.get_object(Bucket='*********',Key='**********')['Body']\n",
    "# add missing __iter__ method, so pandas accepts body as file-like object\n",
    "if not hasattr(body, \"__iter__\"): body.__iter__ = types.MethodType( __iter__, body )\n",
    "\n",
    "df2 = pd.read_csv(body)\n"
   ]
  },
  {
   "cell_type": "code",
   "execution_count": 3,
   "metadata": {},
   "outputs": [
    {
     "data": {
      "text/plain": [
       "(89854, 87)"
      ]
     },
     "execution_count": 3,
     "metadata": {},
     "output_type": "execute_result"
    }
   ],
   "source": [
    "df2.shape\n",
    "#89854 rows, 87 columns"
   ]
  },
  {
   "cell_type": "code",
   "execution_count": 4,
   "metadata": {},
   "outputs": [
    {
     "name": "stdout",
     "output_type": "stream",
     "text": [
      "<class 'pandas.core.frame.DataFrame'>\n",
      "RangeIndex: 89854 entries, 0 to 89853\n",
      "Data columns (total 87 columns):\n",
      "Borough                 89854 non-null object\n",
      "Block                   89854 non-null int64\n",
      "Lot                     89854 non-null int64\n",
      "CD                      89854 non-null int64\n",
      "CT2010                  89447 non-null float64\n",
      "CB2010                  87342 non-null float64\n",
      "SchoolDist              89695 non-null float64\n",
      "Council                 89649 non-null float64\n",
      "ZipCode                 89525 non-null float64\n",
      "FireComp                89568 non-null object\n",
      "PolicePrct              89692 non-null float64\n",
      "HealthCenterDistrict    89727 non-null float64\n",
      "HealthArea              89630 non-null float64\n",
      "SanitBoro               89235 non-null float64\n",
      "SanitDistrict           89238 non-null float64\n",
      "SanitSub                88789 non-null object\n",
      "Address                 89785 non-null object\n",
      "ZoneDist1               89795 non-null object\n",
      "ZoneDist2               2553 non-null object\n",
      "ZoneDist3               34 non-null object\n",
      "ZoneDist4               2 non-null object\n",
      "Overlay1                8827 non-null object\n",
      "Overlay2                96 non-null object\n",
      "SPDist1                 4602 non-null object\n",
      "SPDist2                 0 non-null float64\n",
      "SPDist3                 0 non-null float64\n",
      "LtdHeight               0 non-null float64\n",
      "SplitZone               89788 non-null object\n",
      "BldgClass               89788 non-null object\n",
      "LandUse                 89440 non-null float64\n",
      "Easements               89854 non-null int64\n",
      "OwnerType               16374 non-null object\n",
      "OwnerName               89280 non-null object\n",
      "LotArea                 89854 non-null int64\n",
      "BldgArea                89854 non-null int64\n",
      "ComArea                 89854 non-null int64\n",
      "ResArea                 89854 non-null int64\n",
      "OfficeArea              89854 non-null int64\n",
      "RetailArea              89854 non-null int64\n",
      "GarageArea              89854 non-null int64\n",
      "StrgeArea               89854 non-null int64\n",
      "FactryArea              89854 non-null int64\n",
      "OtherArea               89854 non-null int64\n",
      "AreaSource              89854 non-null int64\n",
      "NumBldgs                89854 non-null int64\n",
      "NumFloors               89854 non-null float64\n",
      "UnitsRes                89854 non-null int64\n",
      "UnitsTotal              89854 non-null int64\n",
      "LotFront                89854 non-null float64\n",
      "LotDepth                89854 non-null float64\n",
      "BldgFront               89854 non-null float64\n",
      "BldgDepth               89854 non-null float64\n",
      "Ext                     29034 non-null object\n",
      "ProxCode                89788 non-null float64\n",
      "IrrLotCode              89788 non-null object\n",
      "LotType                 89788 non-null float64\n",
      "BsmtCode                89788 non-null float64\n",
      "AssessLand              89854 non-null int64\n",
      "AssessTot               89854 non-null int64\n",
      "ExemptLand              89854 non-null int64\n",
      "ExemptTot               89854 non-null int64\n",
      "YearBuilt               89854 non-null int64\n",
      "YearAlter1              89854 non-null int64\n",
      "YearAlter2              89854 non-null int64\n",
      "HistDist                854 non-null object\n",
      "Landmark                111 non-null object\n",
      "BuiltFAR                89854 non-null float64\n",
      "ResidFAR                89854 non-null float64\n",
      "CommFAR                 89854 non-null float64\n",
      "FacilFAR                89854 non-null float64\n",
      "BoroCode                89854 non-null int64\n",
      "BBL                     89854 non-null int64\n",
      "CondoNo                 89854 non-null int64\n",
      "Tract2010               89854 non-null int64\n",
      "XCoord                  86595 non-null float64\n",
      "YCoord                  86595 non-null float64\n",
      "ZoneMap                 89817 non-null object\n",
      "ZMCode                  1688 non-null object\n",
      "Sanborn                 89735 non-null object\n",
      "TaxMap                  89735 non-null float64\n",
      "EDesigNum               1470 non-null object\n",
      "APPBBL                  89788 non-null float64\n",
      "APPDate                 10969 non-null object\n",
      "PLUTOMapID              89854 non-null int64\n",
      "FIRM07_FLAG             3511 non-null float64\n",
      "PFIRM15_FLAG            3332 non-null float64\n",
      "Version                 89854 non-null object\n",
      "dtypes: float64(32), int64(30), object(25)\n",
      "memory usage: 59.6+ MB\n"
     ]
    }
   ],
   "source": [
    "df2.info()"
   ]
  },
  {
   "cell_type": "code",
   "execution_count": 5,
   "metadata": {},
   "outputs": [
    {
     "data": {
      "text/html": [
       "<div>\n",
       "<style scoped>\n",
       "    .dataframe tbody tr th:only-of-type {\n",
       "        vertical-align: middle;\n",
       "    }\n",
       "\n",
       "    .dataframe tbody tr th {\n",
       "        vertical-align: top;\n",
       "    }\n",
       "\n",
       "    .dataframe thead th {\n",
       "        text-align: right;\n",
       "    }\n",
       "</style>\n",
       "<table border=\"1\" class=\"dataframe\">\n",
       "  <thead>\n",
       "    <tr style=\"text-align: right;\">\n",
       "      <th></th>\n",
       "      <th>Borough</th>\n",
       "      <th>Block</th>\n",
       "      <th>Lot</th>\n",
       "      <th>CD</th>\n",
       "      <th>CT2010</th>\n",
       "      <th>CB2010</th>\n",
       "      <th>SchoolDist</th>\n",
       "      <th>Council</th>\n",
       "      <th>ZipCode</th>\n",
       "      <th>FireComp</th>\n",
       "      <th>...</th>\n",
       "      <th>ZMCode</th>\n",
       "      <th>Sanborn</th>\n",
       "      <th>TaxMap</th>\n",
       "      <th>EDesigNum</th>\n",
       "      <th>APPBBL</th>\n",
       "      <th>APPDate</th>\n",
       "      <th>PLUTOMapID</th>\n",
       "      <th>FIRM07_FLAG</th>\n",
       "      <th>PFIRM15_FLAG</th>\n",
       "      <th>Version</th>\n",
       "    </tr>\n",
       "  </thead>\n",
       "  <tbody>\n",
       "    <tr>\n",
       "      <th>0</th>\n",
       "      <td>BRONX</td>\n",
       "      <td>2260</td>\n",
       "      <td>1</td>\n",
       "      <td>201</td>\n",
       "      <td>19.0</td>\n",
       "      <td>1022.0</td>\n",
       "      <td>7.0</td>\n",
       "      <td>8.0</td>\n",
       "      <td>10454.0</td>\n",
       "      <td>L029</td>\n",
       "      <td>...</td>\n",
       "      <td>NaN</td>\n",
       "      <td>209S016</td>\n",
       "      <td>20901.0</td>\n",
       "      <td>E-143</td>\n",
       "      <td>0.0</td>\n",
       "      <td>NaN</td>\n",
       "      <td>1</td>\n",
       "      <td>NaN</td>\n",
       "      <td>NaN</td>\n",
       "      <td>18V1</td>\n",
       "    </tr>\n",
       "    <tr>\n",
       "      <th>1</th>\n",
       "      <td>BRONX</td>\n",
       "      <td>2260</td>\n",
       "      <td>4</td>\n",
       "      <td>201</td>\n",
       "      <td>19.0</td>\n",
       "      <td>1022.0</td>\n",
       "      <td>7.0</td>\n",
       "      <td>8.0</td>\n",
       "      <td>10454.0</td>\n",
       "      <td>L029</td>\n",
       "      <td>...</td>\n",
       "      <td>NaN</td>\n",
       "      <td>209S016</td>\n",
       "      <td>20901.0</td>\n",
       "      <td>E-143</td>\n",
       "      <td>0.0</td>\n",
       "      <td>NaN</td>\n",
       "      <td>1</td>\n",
       "      <td>NaN</td>\n",
       "      <td>NaN</td>\n",
       "      <td>18V1</td>\n",
       "    </tr>\n",
       "    <tr>\n",
       "      <th>2</th>\n",
       "      <td>BRONX</td>\n",
       "      <td>2260</td>\n",
       "      <td>10</td>\n",
       "      <td>201</td>\n",
       "      <td>19.0</td>\n",
       "      <td>1022.0</td>\n",
       "      <td>7.0</td>\n",
       "      <td>8.0</td>\n",
       "      <td>10454.0</td>\n",
       "      <td>L029</td>\n",
       "      <td>...</td>\n",
       "      <td>NaN</td>\n",
       "      <td>209S016</td>\n",
       "      <td>20901.0</td>\n",
       "      <td>E-143</td>\n",
       "      <td>0.0</td>\n",
       "      <td>NaN</td>\n",
       "      <td>1</td>\n",
       "      <td>NaN</td>\n",
       "      <td>NaN</td>\n",
       "      <td>18V1</td>\n",
       "    </tr>\n",
       "    <tr>\n",
       "      <th>3</th>\n",
       "      <td>BRONX</td>\n",
       "      <td>2260</td>\n",
       "      <td>17</td>\n",
       "      <td>201</td>\n",
       "      <td>19.0</td>\n",
       "      <td>1022.0</td>\n",
       "      <td>7.0</td>\n",
       "      <td>8.0</td>\n",
       "      <td>10454.0</td>\n",
       "      <td>L029</td>\n",
       "      <td>...</td>\n",
       "      <td>NaN</td>\n",
       "      <td>209S016</td>\n",
       "      <td>20901.0</td>\n",
       "      <td>E-143</td>\n",
       "      <td>0.0</td>\n",
       "      <td>NaN</td>\n",
       "      <td>1</td>\n",
       "      <td>NaN</td>\n",
       "      <td>NaN</td>\n",
       "      <td>18V1</td>\n",
       "    </tr>\n",
       "    <tr>\n",
       "      <th>4</th>\n",
       "      <td>BRONX</td>\n",
       "      <td>2260</td>\n",
       "      <td>18</td>\n",
       "      <td>201</td>\n",
       "      <td>19.0</td>\n",
       "      <td>1022.0</td>\n",
       "      <td>7.0</td>\n",
       "      <td>8.0</td>\n",
       "      <td>10454.0</td>\n",
       "      <td>L029</td>\n",
       "      <td>...</td>\n",
       "      <td>NaN</td>\n",
       "      <td>209S016</td>\n",
       "      <td>20901.0</td>\n",
       "      <td>E-143</td>\n",
       "      <td>0.0</td>\n",
       "      <td>NaN</td>\n",
       "      <td>1</td>\n",
       "      <td>NaN</td>\n",
       "      <td>NaN</td>\n",
       "      <td>18V1</td>\n",
       "    </tr>\n",
       "  </tbody>\n",
       "</table>\n",
       "<p>5 rows × 87 columns</p>\n",
       "</div>"
      ],
      "text/plain": [
       "  Borough  Block  Lot   CD  CT2010  CB2010  SchoolDist  Council  ZipCode  \\\n",
       "0   BRONX   2260    1  201    19.0  1022.0         7.0      8.0  10454.0   \n",
       "1   BRONX   2260    4  201    19.0  1022.0         7.0      8.0  10454.0   \n",
       "2   BRONX   2260   10  201    19.0  1022.0         7.0      8.0  10454.0   \n",
       "3   BRONX   2260   17  201    19.0  1022.0         7.0      8.0  10454.0   \n",
       "4   BRONX   2260   18  201    19.0  1022.0         7.0      8.0  10454.0   \n",
       "\n",
       "  FireComp   ...    ZMCode  Sanborn   TaxMap  EDesigNum  APPBBL APPDate  \\\n",
       "0     L029   ...       NaN  209S016  20901.0      E-143     0.0     NaN   \n",
       "1     L029   ...       NaN  209S016  20901.0      E-143     0.0     NaN   \n",
       "2     L029   ...       NaN  209S016  20901.0      E-143     0.0     NaN   \n",
       "3     L029   ...       NaN  209S016  20901.0      E-143     0.0     NaN   \n",
       "4     L029   ...       NaN  209S016  20901.0      E-143     0.0     NaN   \n",
       "\n",
       "  PLUTOMapID FIRM07_FLAG PFIRM15_FLAG Version  \n",
       "0          1         NaN          NaN    18V1  \n",
       "1          1         NaN          NaN    18V1  \n",
       "2          1         NaN          NaN    18V1  \n",
       "3          1         NaN          NaN    18V1  \n",
       "4          1         NaN          NaN    18V1  \n",
       "\n",
       "[5 rows x 87 columns]"
      ]
     },
     "execution_count": 5,
     "metadata": {},
     "output_type": "execute_result"
    }
   ],
   "source": [
    "df2.head()"
   ]
  },
  {
   "cell_type": "code",
   "execution_count": 6,
   "metadata": {},
   "outputs": [
    {
     "data": {
      "text/html": [
       "<div>\n",
       "<style scoped>\n",
       "    .dataframe tbody tr th:only-of-type {\n",
       "        vertical-align: middle;\n",
       "    }\n",
       "\n",
       "    .dataframe tbody tr th {\n",
       "        vertical-align: top;\n",
       "    }\n",
       "\n",
       "    .dataframe thead th {\n",
       "        text-align: right;\n",
       "    }\n",
       "</style>\n",
       "<table border=\"1\" class=\"dataframe\">\n",
       "  <thead>\n",
       "    <tr style=\"text-align: right;\">\n",
       "      <th></th>\n",
       "      <th>Borough</th>\n",
       "      <th>Block</th>\n",
       "      <th>Lot</th>\n",
       "      <th>CD</th>\n",
       "      <th>CT2010</th>\n",
       "      <th>CB2010</th>\n",
       "      <th>SchoolDist</th>\n",
       "      <th>Council</th>\n",
       "      <th>ZipCode</th>\n",
       "      <th>FireComp</th>\n",
       "      <th>...</th>\n",
       "      <th>ZMCode</th>\n",
       "      <th>Sanborn</th>\n",
       "      <th>TaxMap</th>\n",
       "      <th>EDesigNum</th>\n",
       "      <th>APPBBL</th>\n",
       "      <th>APPDate</th>\n",
       "      <th>PLUTOMapID</th>\n",
       "      <th>FIRM07_FLAG</th>\n",
       "      <th>PFIRM15_FLAG</th>\n",
       "      <th>Version</th>\n",
       "    </tr>\n",
       "  </thead>\n",
       "  <tbody>\n",
       "    <tr>\n",
       "      <th>89849</th>\n",
       "      <td>BRONX</td>\n",
       "      <td>9999</td>\n",
       "      <td>100</td>\n",
       "      <td>204</td>\n",
       "      <td>NaN</td>\n",
       "      <td>NaN</td>\n",
       "      <td>NaN</td>\n",
       "      <td>NaN</td>\n",
       "      <td>NaN</td>\n",
       "      <td>NaN</td>\n",
       "      <td>...</td>\n",
       "      <td>NaN</td>\n",
       "      <td>200 000</td>\n",
       "      <td>2.0</td>\n",
       "      <td>NaN</td>\n",
       "      <td>NaN</td>\n",
       "      <td>NaN</td>\n",
       "      <td>3</td>\n",
       "      <td>NaN</td>\n",
       "      <td>NaN</td>\n",
       "      <td>18V1</td>\n",
       "    </tr>\n",
       "    <tr>\n",
       "      <th>89850</th>\n",
       "      <td>BRONX</td>\n",
       "      <td>9999</td>\n",
       "      <td>150</td>\n",
       "      <td>205</td>\n",
       "      <td>NaN</td>\n",
       "      <td>NaN</td>\n",
       "      <td>NaN</td>\n",
       "      <td>NaN</td>\n",
       "      <td>NaN</td>\n",
       "      <td>NaN</td>\n",
       "      <td>...</td>\n",
       "      <td>NaN</td>\n",
       "      <td>200 000</td>\n",
       "      <td>2.0</td>\n",
       "      <td>NaN</td>\n",
       "      <td>NaN</td>\n",
       "      <td>NaN</td>\n",
       "      <td>3</td>\n",
       "      <td>NaN</td>\n",
       "      <td>NaN</td>\n",
       "      <td>18V1</td>\n",
       "    </tr>\n",
       "    <tr>\n",
       "      <th>89851</th>\n",
       "      <td>BRONX</td>\n",
       "      <td>9999</td>\n",
       "      <td>200</td>\n",
       "      <td>205</td>\n",
       "      <td>NaN</td>\n",
       "      <td>NaN</td>\n",
       "      <td>NaN</td>\n",
       "      <td>NaN</td>\n",
       "      <td>NaN</td>\n",
       "      <td>NaN</td>\n",
       "      <td>...</td>\n",
       "      <td>NaN</td>\n",
       "      <td>200 000</td>\n",
       "      <td>2.0</td>\n",
       "      <td>NaN</td>\n",
       "      <td>NaN</td>\n",
       "      <td>NaN</td>\n",
       "      <td>3</td>\n",
       "      <td>NaN</td>\n",
       "      <td>NaN</td>\n",
       "      <td>18V1</td>\n",
       "    </tr>\n",
       "    <tr>\n",
       "      <th>89852</th>\n",
       "      <td>BRONX</td>\n",
       "      <td>9999</td>\n",
       "      <td>8900</td>\n",
       "      <td>209</td>\n",
       "      <td>NaN</td>\n",
       "      <td>NaN</td>\n",
       "      <td>NaN</td>\n",
       "      <td>NaN</td>\n",
       "      <td>NaN</td>\n",
       "      <td>NaN</td>\n",
       "      <td>...</td>\n",
       "      <td>NaN</td>\n",
       "      <td>200 000</td>\n",
       "      <td>2.0</td>\n",
       "      <td>NaN</td>\n",
       "      <td>NaN</td>\n",
       "      <td>NaN</td>\n",
       "      <td>3</td>\n",
       "      <td>NaN</td>\n",
       "      <td>NaN</td>\n",
       "      <td>18V1</td>\n",
       "    </tr>\n",
       "    <tr>\n",
       "      <th>89853</th>\n",
       "      <td>BRONX</td>\n",
       "      <td>0</td>\n",
       "      <td>8900</td>\n",
       "      <td>208</td>\n",
       "      <td>NaN</td>\n",
       "      <td>NaN</td>\n",
       "      <td>NaN</td>\n",
       "      <td>NaN</td>\n",
       "      <td>NaN</td>\n",
       "      <td>NaN</td>\n",
       "      <td>...</td>\n",
       "      <td>NaN</td>\n",
       "      <td>NaN</td>\n",
       "      <td>NaN</td>\n",
       "      <td>NaN</td>\n",
       "      <td>NaN</td>\n",
       "      <td>NaN</td>\n",
       "      <td>3</td>\n",
       "      <td>NaN</td>\n",
       "      <td>NaN</td>\n",
       "      <td>18V1</td>\n",
       "    </tr>\n",
       "  </tbody>\n",
       "</table>\n",
       "<p>5 rows × 87 columns</p>\n",
       "</div>"
      ],
      "text/plain": [
       "      Borough  Block   Lot   CD  CT2010  CB2010  SchoolDist  Council  ZipCode  \\\n",
       "89849   BRONX   9999   100  204     NaN     NaN         NaN      NaN      NaN   \n",
       "89850   BRONX   9999   150  205     NaN     NaN         NaN      NaN      NaN   \n",
       "89851   BRONX   9999   200  205     NaN     NaN         NaN      NaN      NaN   \n",
       "89852   BRONX   9999  8900  209     NaN     NaN         NaN      NaN      NaN   \n",
       "89853   BRONX      0  8900  208     NaN     NaN         NaN      NaN      NaN   \n",
       "\n",
       "      FireComp   ...    ZMCode  Sanborn  TaxMap  EDesigNum  APPBBL APPDate  \\\n",
       "89849      NaN   ...       NaN  200 000     2.0        NaN     NaN     NaN   \n",
       "89850      NaN   ...       NaN  200 000     2.0        NaN     NaN     NaN   \n",
       "89851      NaN   ...       NaN  200 000     2.0        NaN     NaN     NaN   \n",
       "89852      NaN   ...       NaN  200 000     2.0        NaN     NaN     NaN   \n",
       "89853      NaN   ...       NaN      NaN     NaN        NaN     NaN     NaN   \n",
       "\n",
       "      PLUTOMapID FIRM07_FLAG PFIRM15_FLAG Version  \n",
       "89849          3         NaN          NaN    18V1  \n",
       "89850          3         NaN          NaN    18V1  \n",
       "89851          3         NaN          NaN    18V1  \n",
       "89852          3         NaN          NaN    18V1  \n",
       "89853          3         NaN          NaN    18V1  \n",
       "\n",
       "[5 rows x 87 columns]"
      ]
     },
     "execution_count": 6,
     "metadata": {},
     "output_type": "execute_result"
    }
   ],
   "source": [
    "df2.tail()"
   ]
  },
  {
   "cell_type": "code",
   "execution_count": 7,
   "metadata": {},
   "outputs": [],
   "source": [
    "#Select the columns we want\n",
    "df2 = df2[['Address','BldgArea','BldgDepth', 'BuiltFAR', 'CommFAR', 'FacilFAR', 'Lot', 'LotArea', \n",
    "              'LotDepth', 'NumBldgs', 'NumFloors', 'OfficeArea', 'ResArea', 'ResidFAR', 'RetailArea', \n",
    "              'YearBuilt', 'YearAlter1', 'ZipCode', 'YCoord', 'XCoord']]"
   ]
  },
  {
   "cell_type": "code",
   "execution_count": 8,
   "metadata": {},
   "outputs": [
    {
     "data": {
      "text/plain": [
       "(89854, 20)"
      ]
     },
     "execution_count": 8,
     "metadata": {},
     "output_type": "execute_result"
    }
   ],
   "source": [
    "df2.shape"
   ]
  },
  {
   "cell_type": "code",
   "execution_count": 9,
   "metadata": {},
   "outputs": [
    {
     "data": {
      "text/html": [
       "<div>\n",
       "<style scoped>\n",
       "    .dataframe tbody tr th:only-of-type {\n",
       "        vertical-align: middle;\n",
       "    }\n",
       "\n",
       "    .dataframe tbody tr th {\n",
       "        vertical-align: top;\n",
       "    }\n",
       "\n",
       "    .dataframe thead th {\n",
       "        text-align: right;\n",
       "    }\n",
       "</style>\n",
       "<table border=\"1\" class=\"dataframe\">\n",
       "  <thead>\n",
       "    <tr style=\"text-align: right;\">\n",
       "      <th></th>\n",
       "      <th>Address</th>\n",
       "      <th>BldgArea</th>\n",
       "      <th>BldgDepth</th>\n",
       "      <th>BuiltFAR</th>\n",
       "      <th>CommFAR</th>\n",
       "      <th>FacilFAR</th>\n",
       "      <th>Lot</th>\n",
       "      <th>LotArea</th>\n",
       "      <th>LotDepth</th>\n",
       "      <th>NumBldgs</th>\n",
       "      <th>NumFloors</th>\n",
       "      <th>OfficeArea</th>\n",
       "      <th>ResArea</th>\n",
       "      <th>ResidFAR</th>\n",
       "      <th>RetailArea</th>\n",
       "      <th>YearBuilt</th>\n",
       "      <th>YearAlter1</th>\n",
       "      <th>ZipCode</th>\n",
       "      <th>YCoord</th>\n",
       "      <th>XCoord</th>\n",
       "    </tr>\n",
       "  </thead>\n",
       "  <tbody>\n",
       "    <tr>\n",
       "      <th>0</th>\n",
       "      <td>122 BRUCKNER BOULEVARD</td>\n",
       "      <td>0</td>\n",
       "      <td>0.0</td>\n",
       "      <td>0.00</td>\n",
       "      <td>5.0</td>\n",
       "      <td>6.5</td>\n",
       "      <td>1</td>\n",
       "      <td>15000</td>\n",
       "      <td>200.0</td>\n",
       "      <td>1</td>\n",
       "      <td>0.0</td>\n",
       "      <td>0</td>\n",
       "      <td>0</td>\n",
       "      <td>6.02</td>\n",
       "      <td>0</td>\n",
       "      <td>0</td>\n",
       "      <td>0</td>\n",
       "      <td>10454.0</td>\n",
       "      <td>232162.0</td>\n",
       "      <td>1005957.0</td>\n",
       "    </tr>\n",
       "    <tr>\n",
       "      <th>1</th>\n",
       "      <td>126 BRUCKNER BOULEVARD</td>\n",
       "      <td>752</td>\n",
       "      <td>16.0</td>\n",
       "      <td>0.05</td>\n",
       "      <td>5.0</td>\n",
       "      <td>6.5</td>\n",
       "      <td>4</td>\n",
       "      <td>13770</td>\n",
       "      <td>100.0</td>\n",
       "      <td>2</td>\n",
       "      <td>1.0</td>\n",
       "      <td>272</td>\n",
       "      <td>0</td>\n",
       "      <td>6.02</td>\n",
       "      <td>0</td>\n",
       "      <td>1931</td>\n",
       "      <td>1994</td>\n",
       "      <td>10454.0</td>\n",
       "      <td>232156.0</td>\n",
       "      <td>1006076.0</td>\n",
       "    </tr>\n",
       "    <tr>\n",
       "      <th>2</th>\n",
       "      <td>138 BRUCKNER BOULEVARD</td>\n",
       "      <td>39375</td>\n",
       "      <td>200.0</td>\n",
       "      <td>1.13</td>\n",
       "      <td>5.0</td>\n",
       "      <td>6.5</td>\n",
       "      <td>10</td>\n",
       "      <td>35000</td>\n",
       "      <td>200.0</td>\n",
       "      <td>1</td>\n",
       "      <td>2.0</td>\n",
       "      <td>0</td>\n",
       "      <td>0</td>\n",
       "      <td>6.02</td>\n",
       "      <td>0</td>\n",
       "      <td>1931</td>\n",
       "      <td>0</td>\n",
       "      <td>10454.0</td>\n",
       "      <td>232036.0</td>\n",
       "      <td>1006187.0</td>\n",
       "    </tr>\n",
       "    <tr>\n",
       "      <th>3</th>\n",
       "      <td>144 BRUCKNER BOULEVARD</td>\n",
       "      <td>12500</td>\n",
       "      <td>85.0</td>\n",
       "      <td>5.00</td>\n",
       "      <td>5.0</td>\n",
       "      <td>6.5</td>\n",
       "      <td>17</td>\n",
       "      <td>2500</td>\n",
       "      <td>100.0</td>\n",
       "      <td>1</td>\n",
       "      <td>5.0</td>\n",
       "      <td>0</td>\n",
       "      <td>12500</td>\n",
       "      <td>6.02</td>\n",
       "      <td>0</td>\n",
       "      <td>1931</td>\n",
       "      <td>2001</td>\n",
       "      <td>10454.0</td>\n",
       "      <td>232033.0</td>\n",
       "      <td>1006299.0</td>\n",
       "    </tr>\n",
       "    <tr>\n",
       "      <th>4</th>\n",
       "      <td>148 BRUCKNER BOULEVARD</td>\n",
       "      <td>8595</td>\n",
       "      <td>70.0</td>\n",
       "      <td>4.58</td>\n",
       "      <td>5.0</td>\n",
       "      <td>6.5</td>\n",
       "      <td>18</td>\n",
       "      <td>1875</td>\n",
       "      <td>75.0</td>\n",
       "      <td>1</td>\n",
       "      <td>5.0</td>\n",
       "      <td>0</td>\n",
       "      <td>6876</td>\n",
       "      <td>6.02</td>\n",
       "      <td>1719</td>\n",
       "      <td>1920</td>\n",
       "      <td>2009</td>\n",
       "      <td>10454.0</td>\n",
       "      <td>232040.0</td>\n",
       "      <td>1006363.0</td>\n",
       "    </tr>\n",
       "  </tbody>\n",
       "</table>\n",
       "</div>"
      ],
      "text/plain": [
       "                  Address  BldgArea  BldgDepth  BuiltFAR  CommFAR  FacilFAR  \\\n",
       "0  122 BRUCKNER BOULEVARD         0        0.0      0.00      5.0       6.5   \n",
       "1  126 BRUCKNER BOULEVARD       752       16.0      0.05      5.0       6.5   \n",
       "2  138 BRUCKNER BOULEVARD     39375      200.0      1.13      5.0       6.5   \n",
       "3  144 BRUCKNER BOULEVARD     12500       85.0      5.00      5.0       6.5   \n",
       "4  148 BRUCKNER BOULEVARD      8595       70.0      4.58      5.0       6.5   \n",
       "\n",
       "   Lot  LotArea  LotDepth  NumBldgs  NumFloors  OfficeArea  ResArea  ResidFAR  \\\n",
       "0    1    15000     200.0         1        0.0           0        0      6.02   \n",
       "1    4    13770     100.0         2        1.0         272        0      6.02   \n",
       "2   10    35000     200.0         1        2.0           0        0      6.02   \n",
       "3   17     2500     100.0         1        5.0           0    12500      6.02   \n",
       "4   18     1875      75.0         1        5.0           0     6876      6.02   \n",
       "\n",
       "   RetailArea  YearBuilt  YearAlter1  ZipCode    YCoord     XCoord  \n",
       "0           0          0           0  10454.0  232162.0  1005957.0  \n",
       "1           0       1931        1994  10454.0  232156.0  1006076.0  \n",
       "2           0       1931           0  10454.0  232036.0  1006187.0  \n",
       "3           0       1931        2001  10454.0  232033.0  1006299.0  \n",
       "4        1719       1920        2009  10454.0  232040.0  1006363.0  "
      ]
     },
     "execution_count": 9,
     "metadata": {},
     "output_type": "execute_result"
    }
   ],
   "source": [
    "df2.head()"
   ]
  },
  {
   "cell_type": "code",
   "execution_count": 10,
   "metadata": {},
   "outputs": [
    {
     "name": "stdout",
     "output_type": "stream",
     "text": [
      "<class 'pandas.core.frame.DataFrame'>\n",
      "RangeIndex: 89854 entries, 0 to 89853\n",
      "Data columns (total 20 columns):\n",
      "Address       89785 non-null object\n",
      "BldgArea      89854 non-null int64\n",
      "BldgDepth     89854 non-null float64\n",
      "BuiltFAR      89854 non-null float64\n",
      "CommFAR       89854 non-null float64\n",
      "FacilFAR      89854 non-null float64\n",
      "Lot           89854 non-null int64\n",
      "LotArea       89854 non-null int64\n",
      "LotDepth      89854 non-null float64\n",
      "NumBldgs      89854 non-null int64\n",
      "NumFloors     89854 non-null float64\n",
      "OfficeArea    89854 non-null int64\n",
      "ResArea       89854 non-null int64\n",
      "ResidFAR      89854 non-null float64\n",
      "RetailArea    89854 non-null int64\n",
      "YearBuilt     89854 non-null int64\n",
      "YearAlter1    89854 non-null int64\n",
      "ZipCode       89525 non-null float64\n",
      "YCoord        86595 non-null float64\n",
      "XCoord        86595 non-null float64\n",
      "dtypes: float64(10), int64(9), object(1)\n",
      "memory usage: 13.7+ MB\n"
     ]
    }
   ],
   "source": [
    "df2.info()"
   ]
  },
  {
   "cell_type": "code",
   "execution_count": 11,
   "metadata": {},
   "outputs": [
    {
     "data": {
      "text/plain": [
       "5791 BROADWAY                1\n",
       "4204 NAPIER AVENUE           1\n",
       "2226 EASTCHESTER ROAD        1\n",
       "1153 VINCENT AVENUE          1\n",
       "1889 O'BRIEN AVENUE          1\n",
       "4430 BAYCHESTER AVENUE       1\n",
       "1401 PELHAM PARKWAY NORTH    1\n",
       "2519 CRESTON AVENUE          1\n",
       "711 EAST 233 STREET          1\n",
       "748 EAST 218 STREET          1\n",
       "255 KEARNEY AVENUE           1\n",
       "3904 DYRE AVENUE             1\n",
       "1152 RHINELANDER AVENUE      1\n",
       "1815 NEREID AVENUE           1\n",
       "2004 MAYFLOWER AVENUE        1\n",
       "1367 HOLLYWOOD AVENUE        1\n",
       "1226 BRYANT AVENUE           1\n",
       "292 WEST 234 STREET          1\n",
       "1608 KENNELWORTH PLACE       1\n",
       "1153 GRENADA PLACE           1\n",
       "2588 CRESTON AVENUE          1\n",
       "760 SOUNDVIEW AVENUE         1\n",
       "3415 KNOX PLACE              1\n",
       "626 WEST 256 STREET          1\n",
       "2238 VALENTINE AVENUE        1\n",
       "5420 SYLVAN AVENUE           1\n",
       "4755 RICHARDSON AVENUE       1\n",
       "2220 NORTON AVENUE           1\n",
       "4812 MURDOCK AVENUE          1\n",
       "4450 DE REIMER AVENUE        1\n",
       "                            ..\n",
       "810 RIVER AVENUE             1\n",
       "2907 ELY AVENUE              1\n",
       "3636 PAULDING AVENUE         1\n",
       "315 EAST 238 STREET          1\n",
       "557 EAST 148 STREET          1\n",
       "920 EAST 232 STREET          1\n",
       "1403 BRYANT AVENUE           1\n",
       "719 CALHOUN AVENUE           1\n",
       "2675 GRAND CONCOURSE         1\n",
       "1806 VYSE AVENUE             1\n",
       "1047 HALL PLACE              1\n",
       "4292 ONEIDA AVENUE           1\n",
       "1368 SIEGFRIED PLACE         1\n",
       "3190 GLENNON PLACE           1\n",
       "3719 ROMBOUTS AVENUE         1\n",
       "451 CASTLE HILL AVENUE       1\n",
       "1620 HONE AVENUE             1\n",
       "810 CLARENCE AVENUE          1\n",
       "900 VAN NEST AVENUE          1\n",
       "1270 MAYFLOWER AVENUE        1\n",
       "169 WEST 164 STREET          1\n",
       "1111 FTELEY AVENUE           1\n",
       "3033 HONE AVENUE             1\n",
       "1250 GIVAN AVENUE            1\n",
       "2723 YATES AVENUE            1\n",
       "1441 FERRIS PLACE            1\n",
       "2300 GRAND CONCOURSE         1\n",
       "2418 WESTERVELT AVENUE       1\n",
       "3339 PARK AVENUE             1\n",
       "1367 WHITE PLAINS ROAD       1\n",
       "Name: Address, Length: 87017, dtype: int64"
      ]
     },
     "execution_count": 11,
     "metadata": {},
     "output_type": "execute_result"
    }
   ],
   "source": [
    "df2['Address'].value_counts(sort=False)"
   ]
  },
  {
   "cell_type": "code",
   "execution_count": 12,
   "metadata": {},
   "outputs": [
    {
     "data": {
      "text/plain": [
       "0         6423\n",
       "2049        11\n",
       "4098         2\n",
       "6147         1\n",
       "53274        1\n",
       "2113         6\n",
       "8260         2\n",
       "28750        2\n",
       "47191        1\n",
       "128          1\n",
       "2177         8\n",
       "4226         4\n",
       "6275         1\n",
       "57500        7\n",
       "192          1\n",
       "2241        13\n",
       "4290         5\n",
       "12486        1\n",
       "14535        1\n",
       "20682        1\n",
       "24780        2\n",
       "30927        1\n",
       "32976        1\n",
       "86250        1\n",
       "256          1\n",
       "2305        10\n",
       "8452         1\n",
       "12550        2\n",
       "43285        1\n",
       "115000       2\n",
       "          ... \n",
       "16056        1\n",
       "3774         5\n",
       "1727        13\n",
       "98000        4\n",
       "26355        1\n",
       "16120        3\n",
       "5885         1\n",
       "3838         1\n",
       "1791        21\n",
       "73500        3\n",
       "32560        1\n",
       "12090        2\n",
       "10043        1\n",
       "3902         1\n",
       "1855        10\n",
       "49000        9\n",
       "8060         3\n",
       "1919         7\n",
       "34735        1\n",
       "24500       11\n",
       "4030         5\n",
       "1983         5\n",
       "876500       1\n",
       "81880        1\n",
       "73692        1\n",
       "30705        1\n",
       "8188         5\n",
       "6141         1\n",
       "4094         1\n",
       "2047         8\n",
       "Name: BldgArea, Length: 11474, dtype: int64"
      ]
     },
     "execution_count": 12,
     "metadata": {},
     "output_type": "execute_result"
    }
   ],
   "source": [
    "df2['BldgArea'].value_counts(sort=False)\n",
    "#A TOTAL BUILDING FLOOR AREA of zero can mean it is either not available or not applicable. If NUMBER OF BUILDINGS is greater than zero, then a TOTAL BUILDING FLOOR AREA of zero means it is not available. \n",
    "#If NUMBER OF BUILDINGS is zero, then a TOTAL BUILDING FLOOR AREA of zero means it is not applicable."
   ]
  },
  {
   "cell_type": "code",
   "execution_count": 13,
   "metadata": {},
   "outputs": [
    {
     "data": {
      "text/plain": [
       "0.00      6687\n",
       "32.00     2769\n",
       "64.00      461\n",
       "128.00      15\n",
       "6.00         3\n",
       "2.00         1\n",
       "8.00         5\n",
       "40.32        2\n",
       "142.17       1\n",
       "48.64        1\n",
       "126.08       1\n",
       "78.42        1\n",
       "57.28        1\n",
       "192.33       1\n",
       "29.83        3\n",
       "249.00       1\n",
       "56.75        5\n",
       "46.08        8\n",
       "62.42        5\n",
       "29.67       10\n",
       "107.52       1\n",
       "45.99        1\n",
       "98.17        2\n",
       "42.65        2\n",
       "58.60        3\n",
       "60.42        3\n",
       "36.10        1\n",
       "128.25       1\n",
       "121.00      23\n",
       "35.25        5\n",
       "          ... \n",
       "638.00       1\n",
       "109.58       1\n",
       "319.00       2\n",
       "39.00     1041\n",
       "57.50       20\n",
       "244.00       3\n",
       "53.26        4\n",
       "78.53        1\n",
       "152.50       1\n",
       "65.83        4\n",
       "97.67        3\n",
       "25.33        2\n",
       "149.00       2\n",
       "100.68       1\n",
       "112.33       1\n",
       "31.66        1\n",
       "118.58       1\n",
       "94.56        1\n",
       "35.50       79\n",
       "116.67       1\n",
       "28.84        1\n",
       "138.50       1\n",
       "123.08       1\n",
       "28.70        1\n",
       "31.58        2\n",
       "540.00       3\n",
       "131.50       1\n",
       "31.65        1\n",
       "31.60        2\n",
       "127.58       1\n",
       "Name: BldgDepth, Length: 2176, dtype: int64"
      ]
     },
     "execution_count": 13,
     "metadata": {},
     "output_type": "execute_result"
    }
   ],
   "source": [
    "df2['BldgDepth'].value_counts(sort=False)\n",
    "#Building Depth cannot be zero"
   ]
  },
  {
   "cell_type": "code",
   "execution_count": 14,
   "metadata": {},
   "outputs": [
    {
     "data": {
      "text/plain": [
       "0.00     6521\n",
       "2.00      244\n",
       "0.50      650\n",
       "0.25      232\n",
       "1.01      699\n",
       "0.19      157\n",
       "0.61      712\n",
       "1.04      570\n",
       "4.76       19\n",
       "0.42      425\n",
       "5.43       10\n",
       "4.32       33\n",
       "0.11       90\n",
       "5.39        6\n",
       "1.13      403\n",
       "4.65       23\n",
       "1.76       80\n",
       "4.30       34\n",
       "1.52      167\n",
       "8.96        1\n",
       "6.07        3\n",
       "6.18        3\n",
       "4.62       21\n",
       "0.44      485\n",
       "1.72       68\n",
       "0.22      191\n",
       "3.04       14\n",
       "2.30       31\n",
       "0.26      277\n",
       "0.60      829\n",
       "         ... \n",
       "5.65        4\n",
       "5.70        4\n",
       "3.48       52\n",
       "0.02       49\n",
       "0.34      342\n",
       "3.64       24\n",
       "6.79        1\n",
       "6.26        1\n",
       "1.21      278\n",
       "0.29      318\n",
       "3.11       13\n",
       "6.05        1\n",
       "6.77        1\n",
       "5.28       15\n",
       "3.91       31\n",
       "6.87        1\n",
       "7.48        1\n",
       "7.06        2\n",
       "7.13        1\n",
       "9.80        1\n",
       "25.68       1\n",
       "6.35        1\n",
       "5.91        3\n",
       "4.56       29\n",
       "7.21        1\n",
       "2.57       20\n",
       "5.60        6\n",
       "7.98        1\n",
       "3.89       28\n",
       "7.90        1\n",
       "Name: BuiltFAR, Length: 780, dtype: int64"
      ]
     },
     "execution_count": 14,
     "metadata": {},
     "output_type": "execute_result"
    }
   ],
   "source": [
    "df2['BuiltFAR'].value_counts(sort=False)\n",
    "#BuiltFAR cannot be zero"
   ]
  },
  {
   "cell_type": "code",
   "execution_count": 15,
   "metadata": {},
   "outputs": [
    {
     "data": {
      "text/plain": [
       "5.0      106\n",
       "2.0     2139\n",
       "0.0    83828\n",
       "0.5      335\n",
       "3.0       11\n",
       "4.2       58\n",
       "9.0       17\n",
       "1.0     2222\n",
       "4.0      205\n",
       "3.4      887\n",
       "6.0       46\n",
       "Name: CommFAR, dtype: int64"
      ]
     },
     "execution_count": 15,
     "metadata": {},
     "output_type": "execute_result"
    }
   ],
   "source": [
    "df2['CommFAR'].value_counts(sort=False)\n",
    "#CommFAR cannot be zero"
   ]
  },
  {
   "cell_type": "code",
   "execution_count": 16,
   "metadata": {},
   "outputs": [
    {
     "data": {
      "text/plain": [
       "0.00      1104\n",
       "2.00     43644\n",
       "1.00     12035\n",
       "7.52        48\n",
       "2.40      2008\n",
       "10.00        7\n",
       "3.00      1849\n",
       "4.20       197\n",
       "6.50      3947\n",
       "4.00       767\n",
       "9.00        17\n",
       "4.80     23823\n",
       "5.00       204\n",
       "6.00       204\n",
       "Name: FacilFAR, dtype: int64"
      ]
     },
     "execution_count": 16,
     "metadata": {},
     "output_type": "execute_result"
    }
   ],
   "source": [
    "df2['FacilFAR'].value_counts(sort=False)\n",
    "#FacilFAR cannot be zero"
   ]
  },
  {
   "cell_type": "code",
   "execution_count": 17,
   "metadata": {},
   "outputs": [
    {
     "data": {
      "text/plain": [
       "2049      1\n",
       "64      569\n",
       "128     147\n",
       "192      37\n",
       "4290      1\n",
       "256      21\n",
       "320      18\n",
       "384       4\n",
       "448       6\n",
       "512       7\n",
       "576       2\n",
       "640       2\n",
       "704       2\n",
       "8900      6\n",
       "768       2\n",
       "832       1\n",
       "896       1\n",
       "960       3\n",
       "3009      1\n",
       "1088      1\n",
       "1152      2\n",
       "1216      1\n",
       "1280      2\n",
       "1408      1\n",
       "1472      1\n",
       "1536      1\n",
       "1664      1\n",
       "1792      1\n",
       "1920      1\n",
       "1984      1\n",
       "       ... \n",
       "1790      1\n",
       "1918      1\n",
       "2046      1\n",
       "63      600\n",
       "127     136\n",
       "2238      1\n",
       "191      32\n",
       "255      20\n",
       "319      15\n",
       "383       5\n",
       "447       4\n",
       "2558      1\n",
       "511       6\n",
       "575       3\n",
       "2686      1\n",
       "639       2\n",
       "2750      1\n",
       "703       2\n",
       "767       1\n",
       "831       1\n",
       "9083      1\n",
       "895       2\n",
       "1151      2\n",
       "3262      1\n",
       "1215      1\n",
       "1279      1\n",
       "1343      2\n",
       "1535      3\n",
       "3710      1\n",
       "1791      1\n",
       "Name: Lot, Length: 1960, dtype: int64"
      ]
     },
     "execution_count": 17,
     "metadata": {},
     "output_type": "execute_result"
    }
   ],
   "source": [
    "df2['Lot'].value_counts(sort=False)"
   ]
  },
  {
   "cell_type": "code",
   "execution_count": 18,
   "metadata": {},
   "outputs": [
    {
     "data": {
      "text/plain": [
       "0         301\n",
       "2049        3\n",
       "10245       2\n",
       "14343       1\n",
       "28686       1\n",
       "64          1\n",
       "2113       12\n",
       "4162        1\n",
       "8260        1\n",
       "12358       1\n",
       "28750       1\n",
       "128         1\n",
       "2177       35\n",
       "4226        1\n",
       "6275        2\n",
       "8324        2\n",
       "16520       1\n",
       "57500       2\n",
       "192         1\n",
       "2241        8\n",
       "4290       12\n",
       "8388        1\n",
       "18633       1\n",
       "39123       1\n",
       "49368       1\n",
       "184538      1\n",
       "2305        8\n",
       "4354        2\n",
       "10501       1\n",
       "12550       2\n",
       "         ... \n",
       "3774        6\n",
       "1727        7\n",
       "16120       1\n",
       "12026       1\n",
       "9979        1\n",
       "5885        2\n",
       "3838        7\n",
       "1791       17\n",
       "14137       1\n",
       "5949        1\n",
       "3902        1\n",
       "1855       16\n",
       "49000       2\n",
       "16248       1\n",
       "14201       1\n",
       "12154       1\n",
       "10107       2\n",
       "8060        2\n",
       "6013        2\n",
       "3966        4\n",
       "1919        6\n",
       "24500       2\n",
       "20406       1\n",
       "4030        2\n",
       "1983       39\n",
       "79833       1\n",
       "12282       2\n",
       "6141        2\n",
       "4094       12\n",
       "2047        8\n",
       "Name: LotArea, Length: 12063, dtype: int64"
      ]
     },
     "execution_count": 18,
     "metadata": {},
     "output_type": "execute_result"
    }
   ],
   "source": [
    "df2['LotArea'].value_counts(sort=False)\n",
    "#LotArea cannot be zero"
   ]
  },
  {
   "cell_type": "code",
   "execution_count": 19,
   "metadata": {},
   "outputs": [
    {
     "data": {
      "text/plain": [
       "0.00      259\n",
       "128.00     27\n",
       "64.00      32\n",
       "32.00      15\n",
       "8.00        2\n",
       "2.00        5\n",
       "256.00      1\n",
       "125.59      1\n",
       "302.33      1\n",
       "495.67      1\n",
       "96.86       1\n",
       "0.22        1\n",
       "221.26      1\n",
       "125.83      2\n",
       "142.83      1\n",
       "206.17      1\n",
       "85.81       1\n",
       "48.86       1\n",
       "56.64       1\n",
       "84.19       2\n",
       "93.01       1\n",
       "117.07      1\n",
       "188.50      2\n",
       "94.08      36\n",
       "126.42     10\n",
       "113.29      1\n",
       "113.21      1\n",
       "99.44       3\n",
       "98.56       1\n",
       "149.45      1\n",
       "         ... \n",
       "499.00      1\n",
       "39.25       2\n",
       "112.09      2\n",
       "31.92       1\n",
       "122.04      1\n",
       "122.46      2\n",
       "136.21      1\n",
       "120.65      1\n",
       "121.33     10\n",
       "266.50      1\n",
       "121.17     13\n",
       "62.01       3\n",
       "149.99      2\n",
       "213.35      1\n",
       "125.45      1\n",
       "89.99       3\n",
       "119.64      1\n",
       "119.86      3\n",
       "120.57      2\n",
       "131.50      6\n",
       "124.71      1\n",
       "208.69      2\n",
       "54.44       1\n",
       "127.58      4\n",
       "259.50      1\n",
       "87.56       1\n",
       "86.44       1\n",
       "7.95        1\n",
       "24.83       2\n",
       "122.82      1\n",
       "Name: LotDepth, Length: 7725, dtype: int64"
      ]
     },
     "execution_count": 19,
     "metadata": {},
     "output_type": "execute_result"
    }
   ],
   "source": [
    "df2['LotDepth'].value_counts(sort=False)\n",
    "#LotDepth cannot be zero"
   ]
  },
  {
   "cell_type": "code",
   "execution_count": 20,
   "metadata": {},
   "outputs": [
    {
     "data": {
      "text/plain": [
       "0       6071\n",
       "64         1\n",
       "1      67052\n",
       "129        1\n",
       "2      15324\n",
       "3        897\n",
       "4        203\n",
       "5         77\n",
       "6         44\n",
       "70         1\n",
       "7         27\n",
       "8         16\n",
       "72         1\n",
       "9         15\n",
       "10        15\n",
       "74         1\n",
       "11        10\n",
       "12         9\n",
       "13         5\n",
       "14         8\n",
       "78         1\n",
       "15         5\n",
       "16         4\n",
       "208        1\n",
       "17         4\n",
       "18         3\n",
       "82         1\n",
       "19         2\n",
       "20         3\n",
       "21         3\n",
       "22         3\n",
       "23         2\n",
       "24         2\n",
       "26         3\n",
       "91         1\n",
       "28         1\n",
       "29         1\n",
       "30         2\n",
       "31         3\n",
       "33         1\n",
       "35         3\n",
       "100        1\n",
       "37         2\n",
       "230        1\n",
       "39         4\n",
       "40         1\n",
       "41         1\n",
       "44         1\n",
       "46         2\n",
       "47         1\n",
       "48         2\n",
       "52         1\n",
       "54         3\n",
       "55         1\n",
       "57         2\n",
       "58         2\n",
       "251        1\n",
       "62         1\n",
       "Name: NumBldgs, dtype: int64"
      ]
     },
     "execution_count": 20,
     "metadata": {},
     "output_type": "execute_result"
    }
   ],
   "source": [
    "df2['NumBldgs'].value_counts(sort=False)"
   ]
  },
  {
   "cell_type": "code",
   "execution_count": 21,
   "metadata": {},
   "outputs": [
    {
     "data": {
      "text/plain": [
       "0.00      6549\n",
       "2.00     42187\n",
       "4.00      1711\n",
       "8.00       160\n",
       "0.50         1\n",
       "1.33         1\n",
       "25.00        6\n",
       "18.00       11\n",
       "44.00        1\n",
       "33.00        2\n",
       "10.00       43\n",
       "3.50        61\n",
       "29.00        1\n",
       "22.00        7\n",
       "4.50         1\n",
       "17.00        5\n",
       "3.00     15207\n",
       "20.00       25\n",
       "1.50      1531\n",
       "14.00       42\n",
       "3.75        18\n",
       "2.50      5077\n",
       "2.67        20\n",
       "42.00        1\n",
       "30.00        5\n",
       "23.00        2\n",
       "13.00       38\n",
       "1.00      9033\n",
       "12.00       51\n",
       "16.00       24\n",
       "9.00        77\n",
       "5.50         1\n",
       "5.00      3239\n",
       "2.25         9\n",
       "28.00        2\n",
       "11.00       39\n",
       "31.00        1\n",
       "19.00       13\n",
       "6.00      2172\n",
       "1.75       716\n",
       "24.00        1\n",
       "1.67       341\n",
       "7.00       233\n",
       "2.75      1165\n",
       "1.25         1\n",
       "21.00       12\n",
       "15.00       11\n",
       "Name: NumFloors, dtype: int64"
      ]
     },
     "execution_count": 21,
     "metadata": {},
     "output_type": "execute_result"
    }
   ],
   "source": [
    "df2['NumFloors'].value_counts(sort=False)\n",
    "#If the NUMBER OF FLOORS is zero and the NUMBER OF BUILDINGS is greater than zero, then NUMBER OF FLOORS is not available for the tax lot.\n",
    "#If the NUMBER OF FLOORS is zero and the NUMBER OF BUILDINGS is zero, then NUMBER OF FLOORS is not applicable for the tax lot."
   ]
  },
  {
   "cell_type": "code",
   "execution_count": 22,
   "metadata": {},
   "outputs": [
    {
     "data": {
      "text/plain": [
       "0         87319\n",
       "128           1\n",
       "4226          1\n",
       "43285         1\n",
       "320           3\n",
       "4482          1\n",
       "16776         1\n",
       "512           3\n",
       "25100         1\n",
       "66080         1\n",
       "640           2\n",
       "66208         1\n",
       "8900          1\n",
       "17224         1\n",
       "960           3\n",
       "1024          1\n",
       "1088          2\n",
       "1152          2\n",
       "5250          4\n",
       "34000         1\n",
       "1280          2\n",
       "1344          1\n",
       "1408          1\n",
       "17800         1\n",
       "1472          1\n",
       "1600         15\n",
       "17992         1\n",
       "1728          4\n",
       "1920          4\n",
       "59292         1\n",
       "          ...  \n",
       "1150          3\n",
       "30000         4\n",
       "23925         1\n",
       "5500          1\n",
       "1470          1\n",
       "1598          1\n",
       "9850          1\n",
       "5884          2\n",
       "1790          1\n",
       "3903          1\n",
       "2110          1\n",
       "14520         1\n",
       "2238          1\n",
       "2430          1\n",
       "2494          1\n",
       "211608        1\n",
       "2750          2\n",
       "15160         1\n",
       "831           1\n",
       "11194         1\n",
       "3006          1\n",
       "959           1\n",
       "1087          1\n",
       "11450         1\n",
       "3262          2\n",
       "1215          2\n",
       "89300         1\n",
       "1535          1\n",
       "7740          1\n",
       "7868          1\n",
       "Name: OfficeArea, Length: 1495, dtype: int64"
      ]
     },
     "execution_count": 22,
     "metadata": {},
     "output_type": "execute_result"
    }
   ],
   "source": [
    "df2['OfficeArea'].value_counts(sort=False)\n",
    "#OfficeArea cannot be zero"
   ]
  },
  {
   "cell_type": "code",
   "execution_count": 23,
   "metadata": {},
   "outputs": [
    {
     "data": {
      "text/plain": [
       "0         14487\n",
       "2049          5\n",
       "53274         1\n",
       "2113         10\n",
       "20554         1\n",
       "28750         2\n",
       "2177          4\n",
       "4226          2\n",
       "57500         7\n",
       "2241          9\n",
       "4290          3\n",
       "24780         1\n",
       "30927         1\n",
       "32976         1\n",
       "37074         1\n",
       "86250         1\n",
       "2305          2\n",
       "12550         1\n",
       "98608         1\n",
       "115000        2\n",
       "2369          4\n",
       "10565         1\n",
       "41300         1\n",
       "51545         1\n",
       "2433          2\n",
       "8580         12\n",
       "18825         1\n",
       "39315         1\n",
       "86442         1\n",
       "448           1\n",
       "          ...  \n",
       "1599          8\n",
       "24180         1\n",
       "3710          3\n",
       "1663          2\n",
       "61090         1\n",
       "30385         1\n",
       "26291         1\n",
       "20150         1\n",
       "3774          4\n",
       "1727          1\n",
       "98000         2\n",
       "16120         3\n",
       "3838          1\n",
       "1791          8\n",
       "73500         3\n",
       "63265         1\n",
       "32560         1\n",
       "18231         1\n",
       "3902          1\n",
       "1855          8\n",
       "49000        11\n",
       "8060          2\n",
       "1919          4\n",
       "34735         1\n",
       "24500         8\n",
       "4030          3\n",
       "1983          4\n",
       "8188          4\n",
       "4094          1\n",
       "2047          3\n",
       "Name: ResArea, Length: 8775, dtype: int64"
      ]
     },
     "execution_count": 23,
     "metadata": {},
     "output_type": "execute_result"
    }
   ],
   "source": [
    "df2['ResArea'].value_counts(sort=False)\n",
    "#ResArea cannot be zero"
   ]
  },
  {
   "cell_type": "code",
   "execution_count": 24,
   "metadata": {},
   "outputs": [
    {
     "data": {
      "text/plain": [
       "0.00      4358\n",
       "0.50      1573\n",
       "2.00      1054\n",
       "3.44     12083\n",
       "7.52        49\n",
       "2.43     11990\n",
       "10.00        6\n",
       "0.90     26374\n",
       "3.00      1849\n",
       "1.25     12901\n",
       "4.20       197\n",
       "3.75        32\n",
       "4.00       767\n",
       "6.02      2416\n",
       "1.10      2824\n",
       "9.00        17\n",
       "0.60     10462\n",
       "5.00       172\n",
       "7.20        14\n",
       "1.35       491\n",
       "6.00       204\n",
       "5.40        21\n",
       "Name: ResidFAR, dtype: int64"
      ]
     },
     "execution_count": 24,
     "metadata": {},
     "output_type": "execute_result"
    }
   ],
   "source": [
    "df2['ResidFAR'].value_counts(sort=False)\n",
    "#ResidFAR cannot be zero"
   ]
  },
  {
   "cell_type": "code",
   "execution_count": 25,
   "metadata": {},
   "outputs": [
    {
     "data": {
      "text/plain": [
       "0         83962\n",
       "4098          1\n",
       "8260          1\n",
       "6275          1\n",
       "4290          1\n",
       "12550         1\n",
       "2369          1\n",
       "2433          1\n",
       "448           1\n",
       "2497          1\n",
       "4610          1\n",
       "576           2\n",
       "2625          4\n",
       "12870         1\n",
       "640           5\n",
       "704           1\n",
       "768           1\n",
       "832           2\n",
       "896           1\n",
       "2945          1\n",
       "4994          1\n",
       "960          12\n",
       "7107          1\n",
       "1024          1\n",
       "9220          1\n",
       "5250          9\n",
       "249017        1\n",
       "1216          1\n",
       "1280          6\n",
       "1344          5\n",
       "          ...  \n",
       "10362         1\n",
       "4221          1\n",
       "6332          1\n",
       "255           1\n",
       "2366          2\n",
       "2494          1\n",
       "575           1\n",
       "2686          1\n",
       "6844          1\n",
       "4797          1\n",
       "2750         11\n",
       "703           1\n",
       "4925          1\n",
       "7100          2\n",
       "3070          3\n",
       "1023          2\n",
       "1087          2\n",
       "11450         1\n",
       "1215          4\n",
       "1279          1\n",
       "23860         1\n",
       "7484          1\n",
       "15800         1\n",
       "7612          1\n",
       "1535          1\n",
       "16056         1\n",
       "12218         1\n",
       "4030          1\n",
       "6141          2\n",
       "2047          1\n",
       "Name: RetailArea, Length: 2336, dtype: int64"
      ]
     },
     "execution_count": 25,
     "metadata": {},
     "output_type": "execute_result"
    }
   ],
   "source": [
    "df2['RetailArea'].value_counts(sort=False)\n",
    "#RetailArea cannot be zero"
   ]
  },
  {
   "cell_type": "code",
   "execution_count": 26,
   "metadata": {},
   "outputs": [
    {
     "data": {
      "text/plain": [
       "0       6367\n",
       "1920    7550\n",
       "1984      52\n",
       "1921     116\n",
       "1985     201\n",
       "1922     249\n",
       "1986     174\n",
       "1923     291\n",
       "1987     446\n",
       "1924     534\n",
       "1988     398\n",
       "1925    6343\n",
       "1989     330\n",
       "1926     776\n",
       "1990     363\n",
       "1927    1085\n",
       "1991     447\n",
       "1800      55\n",
       "1928     986\n",
       "1992     642\n",
       "1929     529\n",
       "1993     520\n",
       "1930    5856\n",
       "1994     248\n",
       "1931    3224\n",
       "1995     327\n",
       "1868       1\n",
       "1932     210\n",
       "1996     294\n",
       "1933      96\n",
       "        ... \n",
       "1971      79\n",
       "1780       1\n",
       "1908      61\n",
       "1972      94\n",
       "1909     133\n",
       "1973      91\n",
       "1910    3870\n",
       "1974     106\n",
       "1911     181\n",
       "1975     444\n",
       "1848       1\n",
       "1912     175\n",
       "1976      53\n",
       "1849       1\n",
       "1913     218\n",
       "1977      36\n",
       "1850       1\n",
       "1914     104\n",
       "1978      43\n",
       "1915    1738\n",
       "1979      50\n",
       "1916     146\n",
       "1980     124\n",
       "1853       1\n",
       "1917      89\n",
       "1981      44\n",
       "1918      45\n",
       "1982      51\n",
       "1919      35\n",
       "1983      46\n",
       "Name: YearBuilt, Length: 146, dtype: int64"
      ]
     },
     "execution_count": 26,
     "metadata": {},
     "output_type": "execute_result"
    }
   ],
   "source": [
    "df2['YearBuilt'].value_counts(sort=False)\n",
    "#Year Built is accurate for the decade but not necessarily for the specific year.\n",
    "#Two outliers – 1910 & 1920. Structures built between 1800s and early 1900s usually have a Year Built date of either 1910 or 1920."
   ]
  },
  {
   "cell_type": "code",
   "execution_count": 27,
   "metadata": {},
   "outputs": [
    {
     "data": {
      "text/plain": [
       "0       81912\n",
       "1920        3\n",
       "1984       68\n",
       "1921        2\n",
       "1985       69\n",
       "1922        5\n",
       "1986       75\n",
       "1923        1\n",
       "1987       82\n",
       "1924        1\n",
       "1988      113\n",
       "1925        4\n",
       "1989       99\n",
       "1926        2\n",
       "1990      180\n",
       "1927        1\n",
       "1991      292\n",
       "1992      173\n",
       "1929        2\n",
       "1993      202\n",
       "1930        3\n",
       "1994      296\n",
       "1931        3\n",
       "1995      196\n",
       "1932        1\n",
       "1996      263\n",
       "1933        1\n",
       "1997      202\n",
       "1998      247\n",
       "1935        1\n",
       "        ...  \n",
       "1967       23\n",
       "1968       13\n",
       "1905        1\n",
       "1969       13\n",
       "1906        1\n",
       "1970       11\n",
       "1971        9\n",
       "1908        1\n",
       "1972       20\n",
       "1973       19\n",
       "1910        1\n",
       "1974       33\n",
       "1911        2\n",
       "1975       27\n",
       "1912        2\n",
       "1976       22\n",
       "1913        3\n",
       "1977       32\n",
       "1914        1\n",
       "1978       32\n",
       "1915        4\n",
       "1979       48\n",
       "1916        2\n",
       "1980       70\n",
       "1917        1\n",
       "1981       48\n",
       "1918        2\n",
       "1982       75\n",
       "1919        1\n",
       "1983       72\n",
       "Name: YearAlter1, Length: 109, dtype: int64"
      ]
     },
     "execution_count": 27,
     "metadata": {},
     "output_type": "execute_result"
    }
   ],
   "source": [
    "df2['YearAlter1'].value_counts(sort=False)\n",
    "#YearAlter1 cannot be zero"
   ]
  },
  {
   "cell_type": "code",
   "execution_count": 28,
   "metadata": {},
   "outputs": [
    {
     "data": {
      "text/plain": [
       "10451.0     1228\n",
       "10452.0     1548\n",
       "10453.0     2102\n",
       "10454.0     1746\n",
       "10455.0     1793\n",
       "10456.0     2876\n",
       "10457.0     3028\n",
       "10458.0     2769\n",
       "10459.0     2605\n",
       "10460.0     2892\n",
       "10461.0     7499\n",
       "10462.0     4671\n",
       "10463.0     2247\n",
       "10464.0     1550\n",
       "10465.0     8163\n",
       "10466.0     9229\n",
       "10467.0     4673\n",
       "10468.0     1627\n",
       "10469.0    11349\n",
       "10470.0     2334\n",
       "10471.0     2352\n",
       "10472.0     4329\n",
       "10473.0     4870\n",
       "10474.0     1220\n",
       "10475.0      823\n",
       "11370.0        2\n",
       "Name: ZipCode, dtype: int64"
      ]
     },
     "execution_count": 28,
     "metadata": {},
     "output_type": "execute_result"
    }
   ],
   "source": [
    "df2['ZipCode'].value_counts(sort=False)"
   ]
  },
  {
   "cell_type": "code",
   "execution_count": 29,
   "metadata": {},
   "outputs": [
    {
     "data": {
      "text/plain": [
       "262144.0    2\n",
       "262146.0    1\n",
       "262147.0    2\n",
       "262148.0    2\n",
       "262149.0    1\n",
       "262150.0    1\n",
       "262151.0    3\n",
       "262152.0    1\n",
       "262153.0    3\n",
       "262154.0    1\n",
       "262157.0    1\n",
       "262159.0    3\n",
       "262160.0    1\n",
       "262161.0    3\n",
       "262163.0    3\n",
       "262164.0    1\n",
       "262165.0    1\n",
       "262166.0    1\n",
       "262167.0    1\n",
       "262168.0    3\n",
       "262169.0    4\n",
       "262170.0    2\n",
       "262171.0    1\n",
       "262172.0    3\n",
       "262173.0    1\n",
       "262174.0    2\n",
       "262176.0    2\n",
       "262177.0    2\n",
       "262179.0    1\n",
       "262180.0    2\n",
       "           ..\n",
       "262107.0    3\n",
       "262108.0    3\n",
       "262111.0    2\n",
       "262112.0    1\n",
       "262113.0    1\n",
       "262114.0    4\n",
       "262115.0    1\n",
       "262116.0    2\n",
       "262118.0    3\n",
       "262119.0    2\n",
       "262122.0    2\n",
       "262123.0    2\n",
       "262124.0    2\n",
       "262125.0    1\n",
       "262126.0    1\n",
       "262127.0    2\n",
       "262128.0    4\n",
       "262129.0    1\n",
       "262130.0    1\n",
       "262131.0    3\n",
       "262133.0    4\n",
       "262134.0    1\n",
       "262136.0    2\n",
       "262137.0    1\n",
       "262138.0    1\n",
       "262139.0    1\n",
       "262140.0    2\n",
       "262141.0    1\n",
       "262142.0    1\n",
       "262143.0    2\n",
       "Name: YCoord, Length: 33050, dtype: int64"
      ]
     },
     "execution_count": 29,
     "metadata": {},
     "output_type": "execute_result"
    }
   ],
   "source": [
    "df2['YCoord'].value_counts(sort=False)"
   ]
  },
  {
   "cell_type": "code",
   "execution_count": 30,
   "metadata": {},
   "outputs": [
    {
     "data": {
      "text/plain": [
       "1002677.0    1\n",
       "1002831.0    1\n",
       "1002856.0    1\n",
       "1002895.0    1\n",
       "1002904.0    1\n",
       "1002937.0    1\n",
       "1002938.0    1\n",
       "1002974.0    1\n",
       "1002982.0    1\n",
       "1002987.0    1\n",
       "1003001.0    1\n",
       "1003007.0    1\n",
       "1003015.0    1\n",
       "1003044.0    1\n",
       "1003067.0    1\n",
       "1003098.0    1\n",
       "1003121.0    1\n",
       "1003127.0    1\n",
       "1003138.0    1\n",
       "1003145.0    2\n",
       "1003147.0    1\n",
       "1003155.0    1\n",
       "1003165.0    1\n",
       "1003166.0    1\n",
       "1003171.0    1\n",
       "1003183.0    1\n",
       "1003190.0    1\n",
       "1003197.0    1\n",
       "1003203.0    1\n",
       "1003204.0    1\n",
       "            ..\n",
       "1044437.0    1\n",
       "1044439.0    1\n",
       "1044452.0    1\n",
       "1044463.0    1\n",
       "1044467.0    1\n",
       "1044486.0    1\n",
       "1044494.0    2\n",
       "1044498.0    1\n",
       "1044500.0    1\n",
       "1044507.0    1\n",
       "1044525.0    1\n",
       "1044534.0    1\n",
       "1044562.0    1\n",
       "1044579.0    1\n",
       "1044583.0    1\n",
       "1044586.0    1\n",
       "1044593.0    1\n",
       "1044608.0    1\n",
       "1044644.0    1\n",
       "1044687.0    1\n",
       "1044698.0    1\n",
       "1044724.0    1\n",
       "1044776.0    1\n",
       "1044803.0    1\n",
       "1044830.0    1\n",
       "1044883.0    1\n",
       "1044890.0    1\n",
       "1044952.0    1\n",
       "1045112.0    1\n",
       "1047777.0    1\n",
       "Name: XCoord, Length: 29660, dtype: int64"
      ]
     },
     "execution_count": 30,
     "metadata": {},
     "output_type": "execute_result"
    }
   ],
   "source": [
    "df2['XCoord'].value_counts(sort=False)"
   ]
  },
  {
   "cell_type": "code",
   "execution_count": 31,
   "metadata": {},
   "outputs": [
    {
     "data": {
      "text/plain": [
       "Address         69\n",
       "BldgArea         0\n",
       "BldgDepth        0\n",
       "BuiltFAR         0\n",
       "CommFAR          0\n",
       "FacilFAR         0\n",
       "Lot              0\n",
       "LotArea          0\n",
       "LotDepth         0\n",
       "NumBldgs         0\n",
       "NumFloors        0\n",
       "OfficeArea       0\n",
       "ResArea          0\n",
       "ResidFAR         0\n",
       "RetailArea       0\n",
       "YearBuilt        0\n",
       "YearAlter1       0\n",
       "ZipCode        329\n",
       "YCoord        3259\n",
       "XCoord        3259\n",
       "dtype: int64"
      ]
     },
     "execution_count": 31,
     "metadata": {},
     "output_type": "execute_result"
    }
   ],
   "source": [
    "#Are there any variables with missing values?\n",
    "df2.isnull().sum()"
   ]
  },
  {
   "cell_type": "code",
   "execution_count": 32,
   "metadata": {},
   "outputs": [],
   "source": [
    "#Drop all missing values from BK dataset\n",
    "pd.options.mode.chained_assignment = None\n",
    "df2.dropna(axis=0, inplace=True)"
   ]
  },
  {
   "cell_type": "code",
   "execution_count": 33,
   "metadata": {},
   "outputs": [
    {
     "data": {
      "text/plain": [
       "Address       0\n",
       "BldgArea      0\n",
       "BldgDepth     0\n",
       "BuiltFAR      0\n",
       "CommFAR       0\n",
       "FacilFAR      0\n",
       "Lot           0\n",
       "LotArea       0\n",
       "LotDepth      0\n",
       "NumBldgs      0\n",
       "NumFloors     0\n",
       "OfficeArea    0\n",
       "ResArea       0\n",
       "ResidFAR      0\n",
       "RetailArea    0\n",
       "YearBuilt     0\n",
       "YearAlter1    0\n",
       "ZipCode       0\n",
       "YCoord        0\n",
       "XCoord        0\n",
       "dtype: int64"
      ]
     },
     "execution_count": 33,
     "metadata": {},
     "output_type": "execute_result"
    }
   ],
   "source": [
    "df2.isnull().sum()"
   ]
  },
  {
   "cell_type": "code",
   "execution_count": 34,
   "metadata": {},
   "outputs": [
    {
     "data": {
      "text/plain": [
       "(86591, 20)"
      ]
     },
     "execution_count": 34,
     "metadata": {},
     "output_type": "execute_result"
    }
   ],
   "source": [
    "df2.shape"
   ]
  },
  {
   "cell_type": "code",
   "execution_count": 35,
   "metadata": {},
   "outputs": [],
   "source": [
    "#Change column Zipcode to incident_zip\n",
    "df2.columns = ['Address','BldgArea','BldgDepth', 'BuiltFAR', 'CommFAR', 'FacilFAR', 'Lot', 'LotArea', \n",
    "              'LotDepth', 'NumBldgs', 'NumFloors', 'OfficeArea', 'ResArea', 'ResidFAR', 'RetailArea', \n",
    "              'YearBuilt', 'YearAlter1', 'incident_zip', 'YCoord', 'XCoord']"
   ]
  },
  {
   "cell_type": "code",
   "execution_count": 36,
   "metadata": {},
   "outputs": [
    {
     "data": {
      "text/plain": [
       "array(['Address', 'BldgArea', 'BldgDepth', 'BuiltFAR', 'CommFAR',\n",
       "       'FacilFAR', 'Lot', 'LotArea', 'LotDepth', 'NumBldgs', 'NumFloors',\n",
       "       'OfficeArea', 'ResArea', 'ResidFAR', 'RetailArea', 'YearBuilt',\n",
       "       'YearAlter1', 'incident_zip', 'YCoord', 'XCoord'], dtype=object)"
      ]
     },
     "execution_count": 36,
     "metadata": {},
     "output_type": "execute_result"
    }
   ],
   "source": [
    "df2.columns.values"
   ]
  },
  {
   "cell_type": "code",
   "execution_count": 37,
   "metadata": {},
   "outputs": [
    {
     "data": {
      "text/html": [
       "<div>\n",
       "<style scoped>\n",
       "    .dataframe tbody tr th:only-of-type {\n",
       "        vertical-align: middle;\n",
       "    }\n",
       "\n",
       "    .dataframe tbody tr th {\n",
       "        vertical-align: top;\n",
       "    }\n",
       "\n",
       "    .dataframe thead th {\n",
       "        text-align: right;\n",
       "    }\n",
       "</style>\n",
       "<table border=\"1\" class=\"dataframe\">\n",
       "  <thead>\n",
       "    <tr style=\"text-align: right;\">\n",
       "      <th></th>\n",
       "      <th>Address</th>\n",
       "      <th>BldgArea</th>\n",
       "      <th>BldgDepth</th>\n",
       "      <th>BuiltFAR</th>\n",
       "      <th>CommFAR</th>\n",
       "      <th>FacilFAR</th>\n",
       "      <th>Lot</th>\n",
       "      <th>LotArea</th>\n",
       "      <th>LotDepth</th>\n",
       "      <th>NumBldgs</th>\n",
       "      <th>NumFloors</th>\n",
       "      <th>OfficeArea</th>\n",
       "      <th>ResArea</th>\n",
       "      <th>ResidFAR</th>\n",
       "      <th>RetailArea</th>\n",
       "      <th>YearBuilt</th>\n",
       "      <th>YearAlter1</th>\n",
       "      <th>incident_zip</th>\n",
       "      <th>YCoord</th>\n",
       "      <th>XCoord</th>\n",
       "    </tr>\n",
       "  </thead>\n",
       "  <tbody>\n",
       "    <tr>\n",
       "      <th>0</th>\n",
       "      <td>122 BRUCKNER BOULEVARD</td>\n",
       "      <td>0</td>\n",
       "      <td>0.0</td>\n",
       "      <td>0.00</td>\n",
       "      <td>5.0</td>\n",
       "      <td>6.5</td>\n",
       "      <td>1</td>\n",
       "      <td>15000</td>\n",
       "      <td>200.0</td>\n",
       "      <td>1</td>\n",
       "      <td>0.0</td>\n",
       "      <td>0</td>\n",
       "      <td>0</td>\n",
       "      <td>6.02</td>\n",
       "      <td>0</td>\n",
       "      <td>0</td>\n",
       "      <td>0</td>\n",
       "      <td>10454.0</td>\n",
       "      <td>232162.0</td>\n",
       "      <td>1005957.0</td>\n",
       "    </tr>\n",
       "    <tr>\n",
       "      <th>1</th>\n",
       "      <td>126 BRUCKNER BOULEVARD</td>\n",
       "      <td>752</td>\n",
       "      <td>16.0</td>\n",
       "      <td>0.05</td>\n",
       "      <td>5.0</td>\n",
       "      <td>6.5</td>\n",
       "      <td>4</td>\n",
       "      <td>13770</td>\n",
       "      <td>100.0</td>\n",
       "      <td>2</td>\n",
       "      <td>1.0</td>\n",
       "      <td>272</td>\n",
       "      <td>0</td>\n",
       "      <td>6.02</td>\n",
       "      <td>0</td>\n",
       "      <td>1931</td>\n",
       "      <td>1994</td>\n",
       "      <td>10454.0</td>\n",
       "      <td>232156.0</td>\n",
       "      <td>1006076.0</td>\n",
       "    </tr>\n",
       "    <tr>\n",
       "      <th>2</th>\n",
       "      <td>138 BRUCKNER BOULEVARD</td>\n",
       "      <td>39375</td>\n",
       "      <td>200.0</td>\n",
       "      <td>1.13</td>\n",
       "      <td>5.0</td>\n",
       "      <td>6.5</td>\n",
       "      <td>10</td>\n",
       "      <td>35000</td>\n",
       "      <td>200.0</td>\n",
       "      <td>1</td>\n",
       "      <td>2.0</td>\n",
       "      <td>0</td>\n",
       "      <td>0</td>\n",
       "      <td>6.02</td>\n",
       "      <td>0</td>\n",
       "      <td>1931</td>\n",
       "      <td>0</td>\n",
       "      <td>10454.0</td>\n",
       "      <td>232036.0</td>\n",
       "      <td>1006187.0</td>\n",
       "    </tr>\n",
       "    <tr>\n",
       "      <th>3</th>\n",
       "      <td>144 BRUCKNER BOULEVARD</td>\n",
       "      <td>12500</td>\n",
       "      <td>85.0</td>\n",
       "      <td>5.00</td>\n",
       "      <td>5.0</td>\n",
       "      <td>6.5</td>\n",
       "      <td>17</td>\n",
       "      <td>2500</td>\n",
       "      <td>100.0</td>\n",
       "      <td>1</td>\n",
       "      <td>5.0</td>\n",
       "      <td>0</td>\n",
       "      <td>12500</td>\n",
       "      <td>6.02</td>\n",
       "      <td>0</td>\n",
       "      <td>1931</td>\n",
       "      <td>2001</td>\n",
       "      <td>10454.0</td>\n",
       "      <td>232033.0</td>\n",
       "      <td>1006299.0</td>\n",
       "    </tr>\n",
       "    <tr>\n",
       "      <th>4</th>\n",
       "      <td>148 BRUCKNER BOULEVARD</td>\n",
       "      <td>8595</td>\n",
       "      <td>70.0</td>\n",
       "      <td>4.58</td>\n",
       "      <td>5.0</td>\n",
       "      <td>6.5</td>\n",
       "      <td>18</td>\n",
       "      <td>1875</td>\n",
       "      <td>75.0</td>\n",
       "      <td>1</td>\n",
       "      <td>5.0</td>\n",
       "      <td>0</td>\n",
       "      <td>6876</td>\n",
       "      <td>6.02</td>\n",
       "      <td>1719</td>\n",
       "      <td>1920</td>\n",
       "      <td>2009</td>\n",
       "      <td>10454.0</td>\n",
       "      <td>232040.0</td>\n",
       "      <td>1006363.0</td>\n",
       "    </tr>\n",
       "  </tbody>\n",
       "</table>\n",
       "</div>"
      ],
      "text/plain": [
       "                  Address  BldgArea  BldgDepth  BuiltFAR  CommFAR  FacilFAR  \\\n",
       "0  122 BRUCKNER BOULEVARD         0        0.0      0.00      5.0       6.5   \n",
       "1  126 BRUCKNER BOULEVARD       752       16.0      0.05      5.0       6.5   \n",
       "2  138 BRUCKNER BOULEVARD     39375      200.0      1.13      5.0       6.5   \n",
       "3  144 BRUCKNER BOULEVARD     12500       85.0      5.00      5.0       6.5   \n",
       "4  148 BRUCKNER BOULEVARD      8595       70.0      4.58      5.0       6.5   \n",
       "\n",
       "   Lot  LotArea  LotDepth  NumBldgs  NumFloors  OfficeArea  ResArea  ResidFAR  \\\n",
       "0    1    15000     200.0         1        0.0           0        0      6.02   \n",
       "1    4    13770     100.0         2        1.0         272        0      6.02   \n",
       "2   10    35000     200.0         1        2.0           0        0      6.02   \n",
       "3   17     2500     100.0         1        5.0           0    12500      6.02   \n",
       "4   18     1875      75.0         1        5.0           0     6876      6.02   \n",
       "\n",
       "   RetailArea  YearBuilt  YearAlter1  incident_zip    YCoord     XCoord  \n",
       "0           0          0           0       10454.0  232162.0  1005957.0  \n",
       "1           0       1931        1994       10454.0  232156.0  1006076.0  \n",
       "2           0       1931           0       10454.0  232036.0  1006187.0  \n",
       "3           0       1931        2001       10454.0  232033.0  1006299.0  \n",
       "4        1719       1920        2009       10454.0  232040.0  1006363.0  "
      ]
     },
     "execution_count": 37,
     "metadata": {},
     "output_type": "execute_result"
    }
   ],
   "source": [
    "df2.head()"
   ]
  },
  {
   "cell_type": "code",
   "execution_count": 38,
   "metadata": {},
   "outputs": [],
   "source": [
    "#Drop Duplicates\n",
    "df2.drop_duplicates(inplace=True)"
   ]
  },
  {
   "cell_type": "code",
   "execution_count": 39,
   "metadata": {},
   "outputs": [
    {
     "data": {
      "text/plain": [
       "(86591, 20)"
      ]
     },
     "execution_count": 39,
     "metadata": {},
     "output_type": "execute_result"
    }
   ],
   "source": [
    "df2.shape"
   ]
  },
  {
   "cell_type": "code",
   "execution_count": 40,
   "metadata": {},
   "outputs": [],
   "source": [
    "#Change to numeric figures in terms of years\n",
    "df2['YearBuilt'] = 2019 - df2['YearBuilt']"
   ]
  },
  {
   "cell_type": "code",
   "execution_count": 41,
   "metadata": {},
   "outputs": [
    {
     "data": {
      "text/plain": [
       "99      7540\n",
       "94      6330\n",
       "89      5838\n",
       "69      5255\n",
       "59      4569\n",
       "109     3868\n",
       "79      3652\n",
       "118     3614\n",
       "64      3542\n",
       "2019    3466\n",
       "88      3172\n",
       "84      2598\n",
       "54      2385\n",
       "74      1794\n",
       "104     1736\n",
       "49      1485\n",
       "120     1442\n",
       "92      1085\n",
       "91       984\n",
       "13       812\n",
       "93       775\n",
       "14       743\n",
       "15       728\n",
       "27       641\n",
       "17       627\n",
       "12       559\n",
       "19       541\n",
       "16       540\n",
       "114      531\n",
       "90       529\n",
       "        ... \n",
       "42        36\n",
       "100       35\n",
       "75        25\n",
       "2         23\n",
       "117       15\n",
       "129        6\n",
       "123        4\n",
       "128        4\n",
       "133        4\n",
       "131        4\n",
       "122        3\n",
       "121        3\n",
       "130        2\n",
       "239        1\n",
       "169        1\n",
       "170        1\n",
       "171        1\n",
       "126        1\n",
       "132        1\n",
       "166        1\n",
       "139        1\n",
       "134        1\n",
       "135        1\n",
       "151        1\n",
       "149        1\n",
       "136        1\n",
       "207        1\n",
       "124        1\n",
       "141        1\n",
       "127        1\n",
       "Name: YearBuilt, Length: 146, dtype: int64"
      ]
     },
     "execution_count": 41,
     "metadata": {},
     "output_type": "execute_result"
    }
   ],
   "source": [
    "df2['YearBuilt'].value_counts()"
   ]
  },
  {
   "cell_type": "code",
   "execution_count": 42,
   "metadata": {},
   "outputs": [],
   "source": [
    "#Change to numeric figures in terms of years\n",
    "df2['YearAlter1'] = 2019 - df2['YearAlter1']"
   ]
  },
  {
   "cell_type": "code",
   "execution_count": 43,
   "metadata": {},
   "outputs": [
    {
     "data": {
      "text/plain": [
       "2019    78691\n",
       "18        416\n",
       "20        385\n",
       "19        380\n",
       "16        364\n",
       "15        357\n",
       "12        341\n",
       "14        326\n",
       "25        295\n",
       "28        292\n",
       "13        289\n",
       "11        273\n",
       "23        262\n",
       "21        244\n",
       "17        217\n",
       "10        216\n",
       "26        202\n",
       "22        202\n",
       "24        196\n",
       "29        179\n",
       "27        172\n",
       "4         167\n",
       "9         156\n",
       "5         150\n",
       "3         141\n",
       "6         120\n",
       "8         119\n",
       "31        113\n",
       "30         99\n",
       "7          94\n",
       "        ...  \n",
       "88          3\n",
       "106         3\n",
       "66          3\n",
       "72          2\n",
       "63          2\n",
       "81          2\n",
       "90          2\n",
       "108         2\n",
       "107         2\n",
       "103         2\n",
       "101         2\n",
       "98          2\n",
       "93          2\n",
       "92          1\n",
       "114         1\n",
       "113         1\n",
       "111         1\n",
       "109         1\n",
       "76          1\n",
       "84          1\n",
       "105         1\n",
       "87          1\n",
       "102         1\n",
       "74          1\n",
       "100         1\n",
       "83          1\n",
       "71          1\n",
       "96          1\n",
       "95          1\n",
       "86          1\n",
       "Name: YearAlter1, Length: 109, dtype: int64"
      ]
     },
     "execution_count": 43,
     "metadata": {},
     "output_type": "execute_result"
    }
   ],
   "source": [
    "df2['YearAlter1'].value_counts()"
   ]
  },
  {
   "cell_type": "code",
   "execution_count": 44,
   "metadata": {},
   "outputs": [
    {
     "name": "stdout",
     "output_type": "stream",
     "text": [
      "<class 'pandas.core.frame.DataFrame'>\n",
      "Int64Index: 86591 entries, 0 to 89845\n",
      "Data columns (total 20 columns):\n",
      "Address         86591 non-null object\n",
      "BldgArea        86591 non-null int64\n",
      "BldgDepth       86591 non-null float64\n",
      "BuiltFAR        86591 non-null float64\n",
      "CommFAR         86591 non-null float64\n",
      "FacilFAR        86591 non-null float64\n",
      "Lot             86591 non-null int64\n",
      "LotArea         86591 non-null int64\n",
      "LotDepth        86591 non-null float64\n",
      "NumBldgs        86591 non-null int64\n",
      "NumFloors       86591 non-null float64\n",
      "OfficeArea      86591 non-null int64\n",
      "ResArea         86591 non-null int64\n",
      "ResidFAR        86591 non-null float64\n",
      "RetailArea      86591 non-null int64\n",
      "YearBuilt       86591 non-null int64\n",
      "YearAlter1      86591 non-null int64\n",
      "incident_zip    86591 non-null float64\n",
      "YCoord          86591 non-null float64\n",
      "XCoord          86591 non-null float64\n",
      "dtypes: float64(10), int64(9), object(1)\n",
      "memory usage: 13.9+ MB\n"
     ]
    }
   ],
   "source": [
    "df2.info()"
   ]
  },
  {
   "cell_type": "code",
   "execution_count": 45,
   "metadata": {},
   "outputs": [],
   "source": [
    "df2.drop(['Address', 'YCoord', 'XCoord'], axis=1, inplace=True)"
   ]
  },
  {
   "cell_type": "code",
   "execution_count": 46,
   "metadata": {},
   "outputs": [
    {
     "data": {
      "text/html": [
       "<div>\n",
       "<style scoped>\n",
       "    .dataframe tbody tr th:only-of-type {\n",
       "        vertical-align: middle;\n",
       "    }\n",
       "\n",
       "    .dataframe tbody tr th {\n",
       "        vertical-align: top;\n",
       "    }\n",
       "\n",
       "    .dataframe thead th {\n",
       "        text-align: right;\n",
       "    }\n",
       "</style>\n",
       "<table border=\"1\" class=\"dataframe\">\n",
       "  <thead>\n",
       "    <tr style=\"text-align: right;\">\n",
       "      <th></th>\n",
       "      <th>BldgArea</th>\n",
       "      <th>BldgDepth</th>\n",
       "      <th>BuiltFAR</th>\n",
       "      <th>CommFAR</th>\n",
       "      <th>FacilFAR</th>\n",
       "      <th>Lot</th>\n",
       "      <th>LotArea</th>\n",
       "      <th>LotDepth</th>\n",
       "      <th>NumBldgs</th>\n",
       "      <th>NumFloors</th>\n",
       "      <th>OfficeArea</th>\n",
       "      <th>ResArea</th>\n",
       "      <th>ResidFAR</th>\n",
       "      <th>RetailArea</th>\n",
       "      <th>YearBuilt</th>\n",
       "      <th>YearAlter1</th>\n",
       "      <th>incident_zip</th>\n",
       "    </tr>\n",
       "  </thead>\n",
       "  <tbody>\n",
       "    <tr>\n",
       "      <th>0</th>\n",
       "      <td>0</td>\n",
       "      <td>0.0</td>\n",
       "      <td>0.00</td>\n",
       "      <td>5.0</td>\n",
       "      <td>6.5</td>\n",
       "      <td>1</td>\n",
       "      <td>15000</td>\n",
       "      <td>200.0</td>\n",
       "      <td>1</td>\n",
       "      <td>0.0</td>\n",
       "      <td>0</td>\n",
       "      <td>0</td>\n",
       "      <td>6.02</td>\n",
       "      <td>0</td>\n",
       "      <td>2019</td>\n",
       "      <td>2019</td>\n",
       "      <td>10454.0</td>\n",
       "    </tr>\n",
       "    <tr>\n",
       "      <th>1</th>\n",
       "      <td>752</td>\n",
       "      <td>16.0</td>\n",
       "      <td>0.05</td>\n",
       "      <td>5.0</td>\n",
       "      <td>6.5</td>\n",
       "      <td>4</td>\n",
       "      <td>13770</td>\n",
       "      <td>100.0</td>\n",
       "      <td>2</td>\n",
       "      <td>1.0</td>\n",
       "      <td>272</td>\n",
       "      <td>0</td>\n",
       "      <td>6.02</td>\n",
       "      <td>0</td>\n",
       "      <td>88</td>\n",
       "      <td>25</td>\n",
       "      <td>10454.0</td>\n",
       "    </tr>\n",
       "    <tr>\n",
       "      <th>2</th>\n",
       "      <td>39375</td>\n",
       "      <td>200.0</td>\n",
       "      <td>1.13</td>\n",
       "      <td>5.0</td>\n",
       "      <td>6.5</td>\n",
       "      <td>10</td>\n",
       "      <td>35000</td>\n",
       "      <td>200.0</td>\n",
       "      <td>1</td>\n",
       "      <td>2.0</td>\n",
       "      <td>0</td>\n",
       "      <td>0</td>\n",
       "      <td>6.02</td>\n",
       "      <td>0</td>\n",
       "      <td>88</td>\n",
       "      <td>2019</td>\n",
       "      <td>10454.0</td>\n",
       "    </tr>\n",
       "    <tr>\n",
       "      <th>3</th>\n",
       "      <td>12500</td>\n",
       "      <td>85.0</td>\n",
       "      <td>5.00</td>\n",
       "      <td>5.0</td>\n",
       "      <td>6.5</td>\n",
       "      <td>17</td>\n",
       "      <td>2500</td>\n",
       "      <td>100.0</td>\n",
       "      <td>1</td>\n",
       "      <td>5.0</td>\n",
       "      <td>0</td>\n",
       "      <td>12500</td>\n",
       "      <td>6.02</td>\n",
       "      <td>0</td>\n",
       "      <td>88</td>\n",
       "      <td>18</td>\n",
       "      <td>10454.0</td>\n",
       "    </tr>\n",
       "    <tr>\n",
       "      <th>4</th>\n",
       "      <td>8595</td>\n",
       "      <td>70.0</td>\n",
       "      <td>4.58</td>\n",
       "      <td>5.0</td>\n",
       "      <td>6.5</td>\n",
       "      <td>18</td>\n",
       "      <td>1875</td>\n",
       "      <td>75.0</td>\n",
       "      <td>1</td>\n",
       "      <td>5.0</td>\n",
       "      <td>0</td>\n",
       "      <td>6876</td>\n",
       "      <td>6.02</td>\n",
       "      <td>1719</td>\n",
       "      <td>99</td>\n",
       "      <td>10</td>\n",
       "      <td>10454.0</td>\n",
       "    </tr>\n",
       "  </tbody>\n",
       "</table>\n",
       "</div>"
      ],
      "text/plain": [
       "   BldgArea  BldgDepth  BuiltFAR  CommFAR  FacilFAR  Lot  LotArea  LotDepth  \\\n",
       "0         0        0.0      0.00      5.0       6.5    1    15000     200.0   \n",
       "1       752       16.0      0.05      5.0       6.5    4    13770     100.0   \n",
       "2     39375      200.0      1.13      5.0       6.5   10    35000     200.0   \n",
       "3     12500       85.0      5.00      5.0       6.5   17     2500     100.0   \n",
       "4      8595       70.0      4.58      5.0       6.5   18     1875      75.0   \n",
       "\n",
       "   NumBldgs  NumFloors  OfficeArea  ResArea  ResidFAR  RetailArea  YearBuilt  \\\n",
       "0         1        0.0           0        0      6.02           0       2019   \n",
       "1         2        1.0         272        0      6.02           0         88   \n",
       "2         1        2.0           0        0      6.02           0         88   \n",
       "3         1        5.0           0    12500      6.02           0         88   \n",
       "4         1        5.0           0     6876      6.02        1719         99   \n",
       "\n",
       "   YearAlter1  incident_zip  \n",
       "0        2019       10454.0  \n",
       "1          25       10454.0  \n",
       "2        2019       10454.0  \n",
       "3          18       10454.0  \n",
       "4          10       10454.0  "
      ]
     },
     "execution_count": 46,
     "metadata": {},
     "output_type": "execute_result"
    }
   ],
   "source": [
    "df2.head()"
   ]
  },
  {
   "cell_type": "code",
   "execution_count": 47,
   "metadata": {},
   "outputs": [
    {
     "data": {
      "text/plain": [
       "(86591, 17)"
      ]
     },
     "execution_count": 47,
     "metadata": {},
     "output_type": "execute_result"
    }
   ],
   "source": [
    "df2.shape"
   ]
  },
  {
   "cell_type": "code",
   "execution_count": 48,
   "metadata": {},
   "outputs": [],
   "source": [
    "#sns.pairplot(df2, size=1.5)"
   ]
  },
  {
   "cell_type": "code",
   "execution_count": 49,
   "metadata": {},
   "outputs": [
    {
     "data": {
      "text/html": [
       "<div>\n",
       "<style scoped>\n",
       "    .dataframe tbody tr th:only-of-type {\n",
       "        vertical-align: middle;\n",
       "    }\n",
       "\n",
       "    .dataframe tbody tr th {\n",
       "        vertical-align: top;\n",
       "    }\n",
       "\n",
       "    .dataframe thead th {\n",
       "        text-align: right;\n",
       "    }\n",
       "</style>\n",
       "<table border=\"1\" class=\"dataframe\">\n",
       "  <thead>\n",
       "    <tr style=\"text-align: right;\">\n",
       "      <th></th>\n",
       "      <th>BldgArea</th>\n",
       "      <th>BldgDepth</th>\n",
       "      <th>BuiltFAR</th>\n",
       "      <th>CommFAR</th>\n",
       "      <th>FacilFAR</th>\n",
       "      <th>Lot</th>\n",
       "      <th>LotArea</th>\n",
       "      <th>LotDepth</th>\n",
       "      <th>NumBldgs</th>\n",
       "      <th>NumFloors</th>\n",
       "      <th>OfficeArea</th>\n",
       "      <th>ResArea</th>\n",
       "      <th>ResidFAR</th>\n",
       "      <th>RetailArea</th>\n",
       "      <th>YearBuilt</th>\n",
       "      <th>YearAlter1</th>\n",
       "      <th>incident_zip</th>\n",
       "    </tr>\n",
       "  </thead>\n",
       "  <tbody>\n",
       "    <tr>\n",
       "      <th>BldgArea</th>\n",
       "      <td>1.000000</td>\n",
       "      <td>0.252848</td>\n",
       "      <td>0.281482</td>\n",
       "      <td>0.042521</td>\n",
       "      <td>0.094024</td>\n",
       "      <td>0.073404</td>\n",
       "      <td>0.171596</td>\n",
       "      <td>0.267843</td>\n",
       "      <td>0.538966</td>\n",
       "      <td>0.362131</td>\n",
       "      <td>0.230615</td>\n",
       "      <td>0.891821</td>\n",
       "      <td>0.086504</td>\n",
       "      <td>0.166135</td>\n",
       "      <td>-0.023165</td>\n",
       "      <td>-0.096663</td>\n",
       "      <td>0.092002</td>\n",
       "    </tr>\n",
       "    <tr>\n",
       "      <th>BldgDepth</th>\n",
       "      <td>0.252848</td>\n",
       "      <td>1.000000</td>\n",
       "      <td>0.268993</td>\n",
       "      <td>0.189929</td>\n",
       "      <td>0.280596</td>\n",
       "      <td>-0.005369</td>\n",
       "      <td>0.030599</td>\n",
       "      <td>0.272519</td>\n",
       "      <td>0.064160</td>\n",
       "      <td>0.376513</td>\n",
       "      <td>0.194307</td>\n",
       "      <td>0.140357</td>\n",
       "      <td>0.229939</td>\n",
       "      <td>0.205707</td>\n",
       "      <td>-0.331221</td>\n",
       "      <td>-0.265584</td>\n",
       "      <td>-0.113630</td>\n",
       "    </tr>\n",
       "    <tr>\n",
       "      <th>BuiltFAR</th>\n",
       "      <td>0.281482</td>\n",
       "      <td>0.268993</td>\n",
       "      <td>1.000000</td>\n",
       "      <td>0.029214</td>\n",
       "      <td>0.257845</td>\n",
       "      <td>0.108804</td>\n",
       "      <td>-0.004657</td>\n",
       "      <td>-0.009419</td>\n",
       "      <td>0.082615</td>\n",
       "      <td>0.443218</td>\n",
       "      <td>0.042184</td>\n",
       "      <td>0.273030</td>\n",
       "      <td>0.267476</td>\n",
       "      <td>0.344289</td>\n",
       "      <td>-0.118713</td>\n",
       "      <td>-0.145726</td>\n",
       "      <td>-0.142182</td>\n",
       "    </tr>\n",
       "    <tr>\n",
       "      <th>CommFAR</th>\n",
       "      <td>0.042521</td>\n",
       "      <td>0.189929</td>\n",
       "      <td>0.029214</td>\n",
       "      <td>1.000000</td>\n",
       "      <td>0.223608</td>\n",
       "      <td>0.004799</td>\n",
       "      <td>0.010342</td>\n",
       "      <td>0.089788</td>\n",
       "      <td>-0.007146</td>\n",
       "      <td>-0.055961</td>\n",
       "      <td>0.052676</td>\n",
       "      <td>-0.008567</td>\n",
       "      <td>0.063574</td>\n",
       "      <td>0.135974</td>\n",
       "      <td>0.112447</td>\n",
       "      <td>-0.121669</td>\n",
       "      <td>-0.109671</td>\n",
       "    </tr>\n",
       "    <tr>\n",
       "      <th>FacilFAR</th>\n",
       "      <td>0.094024</td>\n",
       "      <td>0.280596</td>\n",
       "      <td>0.257845</td>\n",
       "      <td>0.223608</td>\n",
       "      <td>1.000000</td>\n",
       "      <td>-0.030033</td>\n",
       "      <td>-0.010567</td>\n",
       "      <td>-0.008923</td>\n",
       "      <td>-0.036120</td>\n",
       "      <td>0.289399</td>\n",
       "      <td>0.042132</td>\n",
       "      <td>0.081254</td>\n",
       "      <td>0.850971</td>\n",
       "      <td>0.079556</td>\n",
       "      <td>0.058242</td>\n",
       "      <td>-0.175283</td>\n",
       "      <td>-0.448313</td>\n",
       "    </tr>\n",
       "    <tr>\n",
       "      <th>Lot</th>\n",
       "      <td>0.073404</td>\n",
       "      <td>-0.005369</td>\n",
       "      <td>0.108804</td>\n",
       "      <td>0.004799</td>\n",
       "      <td>-0.030033</td>\n",
       "      <td>1.000000</td>\n",
       "      <td>0.007249</td>\n",
       "      <td>0.034591</td>\n",
       "      <td>0.109160</td>\n",
       "      <td>0.095773</td>\n",
       "      <td>0.020729</td>\n",
       "      <td>0.067332</td>\n",
       "      <td>-0.016693</td>\n",
       "      <td>0.082149</td>\n",
       "      <td>0.000050</td>\n",
       "      <td>0.006130</td>\n",
       "      <td>0.039569</td>\n",
       "    </tr>\n",
       "    <tr>\n",
       "      <th>LotArea</th>\n",
       "      <td>0.171596</td>\n",
       "      <td>0.030599</td>\n",
       "      <td>-0.004657</td>\n",
       "      <td>0.010342</td>\n",
       "      <td>-0.010567</td>\n",
       "      <td>0.007249</td>\n",
       "      <td>1.000000</td>\n",
       "      <td>0.340088</td>\n",
       "      <td>0.334775</td>\n",
       "      <td>0.027275</td>\n",
       "      <td>0.078878</td>\n",
       "      <td>0.074994</td>\n",
       "      <td>-0.010638</td>\n",
       "      <td>0.016579</td>\n",
       "      <td>0.004751</td>\n",
       "      <td>-0.026385</td>\n",
       "      <td>0.094928</td>\n",
       "    </tr>\n",
       "    <tr>\n",
       "      <th>LotDepth</th>\n",
       "      <td>0.267843</td>\n",
       "      <td>0.272519</td>\n",
       "      <td>-0.009419</td>\n",
       "      <td>0.089788</td>\n",
       "      <td>-0.008923</td>\n",
       "      <td>0.034591</td>\n",
       "      <td>0.340088</td>\n",
       "      <td>1.000000</td>\n",
       "      <td>0.223923</td>\n",
       "      <td>0.104540</td>\n",
       "      <td>0.190912</td>\n",
       "      <td>0.153990</td>\n",
       "      <td>-0.022925</td>\n",
       "      <td>0.108172</td>\n",
       "      <td>0.054388</td>\n",
       "      <td>-0.078321</td>\n",
       "      <td>0.025720</td>\n",
       "    </tr>\n",
       "    <tr>\n",
       "      <th>NumBldgs</th>\n",
       "      <td>0.538966</td>\n",
       "      <td>0.064160</td>\n",
       "      <td>0.082615</td>\n",
       "      <td>-0.007146</td>\n",
       "      <td>-0.036120</td>\n",
       "      <td>0.109160</td>\n",
       "      <td>0.334775</td>\n",
       "      <td>0.223923</td>\n",
       "      <td>1.000000</td>\n",
       "      <td>0.082019</td>\n",
       "      <td>0.068764</td>\n",
       "      <td>0.454090</td>\n",
       "      <td>-0.040549</td>\n",
       "      <td>0.047743</td>\n",
       "      <td>-0.104652</td>\n",
       "      <td>-0.027176</td>\n",
       "      <td>0.194007</td>\n",
       "    </tr>\n",
       "    <tr>\n",
       "      <th>NumFloors</th>\n",
       "      <td>0.362131</td>\n",
       "      <td>0.376513</td>\n",
       "      <td>0.443218</td>\n",
       "      <td>-0.055961</td>\n",
       "      <td>0.289399</td>\n",
       "      <td>0.095773</td>\n",
       "      <td>0.027275</td>\n",
       "      <td>0.104540</td>\n",
       "      <td>0.082019</td>\n",
       "      <td>1.000000</td>\n",
       "      <td>0.070678</td>\n",
       "      <td>0.365225</td>\n",
       "      <td>0.332354</td>\n",
       "      <td>0.025318</td>\n",
       "      <td>-0.331942</td>\n",
       "      <td>-0.186011</td>\n",
       "      <td>-0.155306</td>\n",
       "    </tr>\n",
       "    <tr>\n",
       "      <th>OfficeArea</th>\n",
       "      <td>0.230615</td>\n",
       "      <td>0.194307</td>\n",
       "      <td>0.042184</td>\n",
       "      <td>0.052676</td>\n",
       "      <td>0.042132</td>\n",
       "      <td>0.020729</td>\n",
       "      <td>0.078878</td>\n",
       "      <td>0.190912</td>\n",
       "      <td>0.068764</td>\n",
       "      <td>0.070678</td>\n",
       "      <td>1.000000</td>\n",
       "      <td>0.021025</td>\n",
       "      <td>0.032889</td>\n",
       "      <td>0.045346</td>\n",
       "      <td>-0.009096</td>\n",
       "      <td>-0.055041</td>\n",
       "      <td>-0.028703</td>\n",
       "    </tr>\n",
       "    <tr>\n",
       "      <th>ResArea</th>\n",
       "      <td>0.891821</td>\n",
       "      <td>0.140357</td>\n",
       "      <td>0.273030</td>\n",
       "      <td>-0.008567</td>\n",
       "      <td>0.081254</td>\n",
       "      <td>0.067332</td>\n",
       "      <td>0.074994</td>\n",
       "      <td>0.153990</td>\n",
       "      <td>0.454090</td>\n",
       "      <td>0.365225</td>\n",
       "      <td>0.021025</td>\n",
       "      <td>1.000000</td>\n",
       "      <td>0.087416</td>\n",
       "      <td>0.077703</td>\n",
       "      <td>-0.018167</td>\n",
       "      <td>-0.063600</td>\n",
       "      <td>-0.031122</td>\n",
       "    </tr>\n",
       "    <tr>\n",
       "      <th>ResidFAR</th>\n",
       "      <td>0.086504</td>\n",
       "      <td>0.229939</td>\n",
       "      <td>0.267476</td>\n",
       "      <td>0.063574</td>\n",
       "      <td>0.850971</td>\n",
       "      <td>-0.016693</td>\n",
       "      <td>-0.010638</td>\n",
       "      <td>-0.022925</td>\n",
       "      <td>-0.040549</td>\n",
       "      <td>0.332354</td>\n",
       "      <td>0.032889</td>\n",
       "      <td>0.087416</td>\n",
       "      <td>1.000000</td>\n",
       "      <td>0.060076</td>\n",
       "      <td>0.034403</td>\n",
       "      <td>-0.152271</td>\n",
       "      <td>-0.449856</td>\n",
       "    </tr>\n",
       "    <tr>\n",
       "      <th>RetailArea</th>\n",
       "      <td>0.166135</td>\n",
       "      <td>0.205707</td>\n",
       "      <td>0.344289</td>\n",
       "      <td>0.135974</td>\n",
       "      <td>0.079556</td>\n",
       "      <td>0.082149</td>\n",
       "      <td>0.016579</td>\n",
       "      <td>0.108172</td>\n",
       "      <td>0.047743</td>\n",
       "      <td>0.025318</td>\n",
       "      <td>0.045346</td>\n",
       "      <td>0.077703</td>\n",
       "      <td>0.060076</td>\n",
       "      <td>1.000000</td>\n",
       "      <td>-0.014401</td>\n",
       "      <td>-0.083975</td>\n",
       "      <td>-0.025092</td>\n",
       "    </tr>\n",
       "    <tr>\n",
       "      <th>YearBuilt</th>\n",
       "      <td>-0.023165</td>\n",
       "      <td>-0.331221</td>\n",
       "      <td>-0.118713</td>\n",
       "      <td>0.112447</td>\n",
       "      <td>0.058242</td>\n",
       "      <td>0.000050</td>\n",
       "      <td>0.004751</td>\n",
       "      <td>0.054388</td>\n",
       "      <td>-0.104652</td>\n",
       "      <td>-0.331942</td>\n",
       "      <td>-0.009096</td>\n",
       "      <td>-0.018167</td>\n",
       "      <td>0.034403</td>\n",
       "      <td>-0.014401</td>\n",
       "      <td>1.000000</td>\n",
       "      <td>0.055512</td>\n",
       "      <td>-0.080881</td>\n",
       "    </tr>\n",
       "    <tr>\n",
       "      <th>YearAlter1</th>\n",
       "      <td>-0.096663</td>\n",
       "      <td>-0.265584</td>\n",
       "      <td>-0.145726</td>\n",
       "      <td>-0.121669</td>\n",
       "      <td>-0.175283</td>\n",
       "      <td>0.006130</td>\n",
       "      <td>-0.026385</td>\n",
       "      <td>-0.078321</td>\n",
       "      <td>-0.027176</td>\n",
       "      <td>-0.186011</td>\n",
       "      <td>-0.055041</td>\n",
       "      <td>-0.063600</td>\n",
       "      <td>-0.152271</td>\n",
       "      <td>-0.083975</td>\n",
       "      <td>0.055512</td>\n",
       "      <td>1.000000</td>\n",
       "      <td>0.121947</td>\n",
       "    </tr>\n",
       "    <tr>\n",
       "      <th>incident_zip</th>\n",
       "      <td>0.092002</td>\n",
       "      <td>-0.113630</td>\n",
       "      <td>-0.142182</td>\n",
       "      <td>-0.109671</td>\n",
       "      <td>-0.448313</td>\n",
       "      <td>0.039569</td>\n",
       "      <td>0.094928</td>\n",
       "      <td>0.025720</td>\n",
       "      <td>0.194007</td>\n",
       "      <td>-0.155306</td>\n",
       "      <td>-0.028703</td>\n",
       "      <td>-0.031122</td>\n",
       "      <td>-0.449856</td>\n",
       "      <td>-0.025092</td>\n",
       "      <td>-0.080881</td>\n",
       "      <td>0.121947</td>\n",
       "      <td>1.000000</td>\n",
       "    </tr>\n",
       "  </tbody>\n",
       "</table>\n",
       "</div>"
      ],
      "text/plain": [
       "              BldgArea  BldgDepth  BuiltFAR   CommFAR  FacilFAR       Lot  \\\n",
       "BldgArea      1.000000   0.252848  0.281482  0.042521  0.094024  0.073404   \n",
       "BldgDepth     0.252848   1.000000  0.268993  0.189929  0.280596 -0.005369   \n",
       "BuiltFAR      0.281482   0.268993  1.000000  0.029214  0.257845  0.108804   \n",
       "CommFAR       0.042521   0.189929  0.029214  1.000000  0.223608  0.004799   \n",
       "FacilFAR      0.094024   0.280596  0.257845  0.223608  1.000000 -0.030033   \n",
       "Lot           0.073404  -0.005369  0.108804  0.004799 -0.030033  1.000000   \n",
       "LotArea       0.171596   0.030599 -0.004657  0.010342 -0.010567  0.007249   \n",
       "LotDepth      0.267843   0.272519 -0.009419  0.089788 -0.008923  0.034591   \n",
       "NumBldgs      0.538966   0.064160  0.082615 -0.007146 -0.036120  0.109160   \n",
       "NumFloors     0.362131   0.376513  0.443218 -0.055961  0.289399  0.095773   \n",
       "OfficeArea    0.230615   0.194307  0.042184  0.052676  0.042132  0.020729   \n",
       "ResArea       0.891821   0.140357  0.273030 -0.008567  0.081254  0.067332   \n",
       "ResidFAR      0.086504   0.229939  0.267476  0.063574  0.850971 -0.016693   \n",
       "RetailArea    0.166135   0.205707  0.344289  0.135974  0.079556  0.082149   \n",
       "YearBuilt    -0.023165  -0.331221 -0.118713  0.112447  0.058242  0.000050   \n",
       "YearAlter1   -0.096663  -0.265584 -0.145726 -0.121669 -0.175283  0.006130   \n",
       "incident_zip  0.092002  -0.113630 -0.142182 -0.109671 -0.448313  0.039569   \n",
       "\n",
       "               LotArea  LotDepth  NumBldgs  NumFloors  OfficeArea   ResArea  \\\n",
       "BldgArea      0.171596  0.267843  0.538966   0.362131    0.230615  0.891821   \n",
       "BldgDepth     0.030599  0.272519  0.064160   0.376513    0.194307  0.140357   \n",
       "BuiltFAR     -0.004657 -0.009419  0.082615   0.443218    0.042184  0.273030   \n",
       "CommFAR       0.010342  0.089788 -0.007146  -0.055961    0.052676 -0.008567   \n",
       "FacilFAR     -0.010567 -0.008923 -0.036120   0.289399    0.042132  0.081254   \n",
       "Lot           0.007249  0.034591  0.109160   0.095773    0.020729  0.067332   \n",
       "LotArea       1.000000  0.340088  0.334775   0.027275    0.078878  0.074994   \n",
       "LotDepth      0.340088  1.000000  0.223923   0.104540    0.190912  0.153990   \n",
       "NumBldgs      0.334775  0.223923  1.000000   0.082019    0.068764  0.454090   \n",
       "NumFloors     0.027275  0.104540  0.082019   1.000000    0.070678  0.365225   \n",
       "OfficeArea    0.078878  0.190912  0.068764   0.070678    1.000000  0.021025   \n",
       "ResArea       0.074994  0.153990  0.454090   0.365225    0.021025  1.000000   \n",
       "ResidFAR     -0.010638 -0.022925 -0.040549   0.332354    0.032889  0.087416   \n",
       "RetailArea    0.016579  0.108172  0.047743   0.025318    0.045346  0.077703   \n",
       "YearBuilt     0.004751  0.054388 -0.104652  -0.331942   -0.009096 -0.018167   \n",
       "YearAlter1   -0.026385 -0.078321 -0.027176  -0.186011   -0.055041 -0.063600   \n",
       "incident_zip  0.094928  0.025720  0.194007  -0.155306   -0.028703 -0.031122   \n",
       "\n",
       "              ResidFAR  RetailArea  YearBuilt  YearAlter1  incident_zip  \n",
       "BldgArea      0.086504    0.166135  -0.023165   -0.096663      0.092002  \n",
       "BldgDepth     0.229939    0.205707  -0.331221   -0.265584     -0.113630  \n",
       "BuiltFAR      0.267476    0.344289  -0.118713   -0.145726     -0.142182  \n",
       "CommFAR       0.063574    0.135974   0.112447   -0.121669     -0.109671  \n",
       "FacilFAR      0.850971    0.079556   0.058242   -0.175283     -0.448313  \n",
       "Lot          -0.016693    0.082149   0.000050    0.006130      0.039569  \n",
       "LotArea      -0.010638    0.016579   0.004751   -0.026385      0.094928  \n",
       "LotDepth     -0.022925    0.108172   0.054388   -0.078321      0.025720  \n",
       "NumBldgs     -0.040549    0.047743  -0.104652   -0.027176      0.194007  \n",
       "NumFloors     0.332354    0.025318  -0.331942   -0.186011     -0.155306  \n",
       "OfficeArea    0.032889    0.045346  -0.009096   -0.055041     -0.028703  \n",
       "ResArea       0.087416    0.077703  -0.018167   -0.063600     -0.031122  \n",
       "ResidFAR      1.000000    0.060076   0.034403   -0.152271     -0.449856  \n",
       "RetailArea    0.060076    1.000000  -0.014401   -0.083975     -0.025092  \n",
       "YearBuilt     0.034403   -0.014401   1.000000    0.055512     -0.080881  \n",
       "YearAlter1   -0.152271   -0.083975   0.055512    1.000000      0.121947  \n",
       "incident_zip -0.449856   -0.025092  -0.080881    0.121947      1.000000  "
      ]
     },
     "execution_count": 49,
     "metadata": {},
     "output_type": "execute_result"
    }
   ],
   "source": [
    "df2.corr()"
   ]
  },
  {
   "cell_type": "code",
   "execution_count": 50,
   "metadata": {},
   "outputs": [
    {
     "data": {
      "text/plain": [
       "<matplotlib.axes._subplots.AxesSubplot at 0x1eb590284a8>"
      ]
     },
     "execution_count": 50,
     "metadata": {},
     "output_type": "execute_result"
    },
    {
     "data": {
      "image/png": "[encoded data removed]",
      "text/plain": [
       "<Figure size 1440x720 with 2 Axes>"
      ]
     },
     "metadata": {
      "needs_background": "light"
     },
     "output_type": "display_data"
    }
   ],
   "source": [
    "plt.figure(figsize=(20,10))\n",
    "sns.heatmap(df2.corr(),annot=True)"
   ]
  },
  {
   "cell_type": "code",
   "execution_count": 51,
   "metadata": {},
   "outputs": [],
   "source": [
    "#df2.to_csv('q3pt1.csv',index=False)"
   ]
  },
  {
   "cell_type": "markdown",
   "metadata": {},
   "source": [
    "## Modify the NY311 dataset"
   ]
  },
  {
   "cell_type": "code",
   "execution_count": 52,
   "metadata": {},
   "outputs": [],
   "source": [
    "body = client_****.get_object(Bucket='********',Key='*******')['Body']\n",
    "# add missing __iter__ method, so pandas accepts body as file-like object\n",
    "if not hasattr(body, \"__iter__\"): body.__iter__ = types.MethodType( __iter__, body )\n",
    "\n",
    "df= pd.read_csv(body)\n"
   ]
  },
  {
   "cell_type": "code",
   "execution_count": 53,
   "metadata": {},
   "outputs": [
    {
     "data": {
      "text/plain": [
       "(533283, 15)"
      ]
     },
     "execution_count": 53,
     "metadata": {},
     "output_type": "execute_result"
    }
   ],
   "source": [
    "df.shape"
   ]
  },
  {
   "cell_type": "code",
   "execution_count": 54,
   "metadata": {},
   "outputs": [
    {
     "data": {
      "text/html": [
       "<div>\n",
       "<style scoped>\n",
       "    .dataframe tbody tr th:only-of-type {\n",
       "        vertical-align: middle;\n",
       "    }\n",
       "\n",
       "    .dataframe tbody tr th {\n",
       "        vertical-align: top;\n",
       "    }\n",
       "\n",
       "    .dataframe thead th {\n",
       "        text-align: right;\n",
       "    }\n",
       "</style>\n",
       "<table border=\"1\" class=\"dataframe\">\n",
       "  <thead>\n",
       "    <tr style=\"text-align: right;\">\n",
       "      <th></th>\n",
       "      <th>address_type</th>\n",
       "      <th>borough</th>\n",
       "      <th>city</th>\n",
       "      <th>closed_date</th>\n",
       "      <th>complaint_type</th>\n",
       "      <th>created_date</th>\n",
       "      <th>incident_address</th>\n",
       "      <th>incident_zip</th>\n",
       "      <th>latitude</th>\n",
       "      <th>location_type</th>\n",
       "      <th>longitude</th>\n",
       "      <th>resolution_description</th>\n",
       "      <th>status</th>\n",
       "      <th>street_name</th>\n",
       "      <th>unique_key</th>\n",
       "    </tr>\n",
       "  </thead>\n",
       "  <tbody>\n",
       "    <tr>\n",
       "      <th>0</th>\n",
       "      <td>ADDRESS</td>\n",
       "      <td>BRONX</td>\n",
       "      <td>BRONX</td>\n",
       "      <td>11/6/2015 11:40:01 AM</td>\n",
       "      <td>HEAT/HOT WATER</td>\n",
       "      <td>11/6/2015 7:06:37 AM</td>\n",
       "      <td>1505 TOWNSEND AVENUE</td>\n",
       "      <td>10452.0</td>\n",
       "      <td>40.842340</td>\n",
       "      <td>RESIDENTIAL BUILDING</td>\n",
       "      <td>-73.915038</td>\n",
       "      <td>The Department of Housing Preservation and Dev...</td>\n",
       "      <td>Closed</td>\n",
       "      <td>TOWNSEND AVENUE</td>\n",
       "      <td>31930038</td>\n",
       "    </tr>\n",
       "    <tr>\n",
       "      <th>1</th>\n",
       "      <td>ADDRESS</td>\n",
       "      <td>BRONX</td>\n",
       "      <td>BRONX</td>\n",
       "      <td>11/7/2015 1:08:51 AM</td>\n",
       "      <td>HEAT/HOT WATER</td>\n",
       "      <td>11/6/2015 6:43:48 AM</td>\n",
       "      <td>1390 PROSPECT AVENUE</td>\n",
       "      <td>10459.0</td>\n",
       "      <td>40.831536</td>\n",
       "      <td>RESIDENTIAL BUILDING</td>\n",
       "      <td>-73.896778</td>\n",
       "      <td>The Department of Housing Preservation and Dev...</td>\n",
       "      <td>Closed</td>\n",
       "      <td>PROSPECT AVENUE</td>\n",
       "      <td>31930075</td>\n",
       "    </tr>\n",
       "    <tr>\n",
       "      <th>2</th>\n",
       "      <td>ADDRESS</td>\n",
       "      <td>BRONX</td>\n",
       "      <td>BRONX</td>\n",
       "      <td>11/9/2015 5:24:18 PM</td>\n",
       "      <td>HEAT/HOT WATER</td>\n",
       "      <td>11/7/2015 8:23:56 PM</td>\n",
       "      <td>2995 BOTANICAL SQUARE</td>\n",
       "      <td>10458.0</td>\n",
       "      <td>40.867716</td>\n",
       "      <td>RESIDENTIAL BUILDING</td>\n",
       "      <td>-73.881612</td>\n",
       "      <td>The Department of Housing Preservation and Dev...</td>\n",
       "      <td>Closed</td>\n",
       "      <td>BOTANICAL SQUARE</td>\n",
       "      <td>31930602</td>\n",
       "    </tr>\n",
       "    <tr>\n",
       "      <th>3</th>\n",
       "      <td>ADDRESS</td>\n",
       "      <td>BRONX</td>\n",
       "      <td>BRONX</td>\n",
       "      <td>11/8/2015 12:52:50 PM</td>\n",
       "      <td>HEAT/HOT WATER</td>\n",
       "      <td>11/7/2015 4:26:04 PM</td>\n",
       "      <td>2351 GRAND CONCOURSE</td>\n",
       "      <td>10468.0</td>\n",
       "      <td>40.858889</td>\n",
       "      <td>RESIDENTIAL BUILDING</td>\n",
       "      <td>-73.899100</td>\n",
       "      <td>The complaint you filed is a duplicate of a co...</td>\n",
       "      <td>Closed</td>\n",
       "      <td>GRAND CONCOURSE</td>\n",
       "      <td>31930609</td>\n",
       "    </tr>\n",
       "    <tr>\n",
       "      <th>4</th>\n",
       "      <td>ADDRESS</td>\n",
       "      <td>BRONX</td>\n",
       "      <td>BRONX</td>\n",
       "      <td>11/11/2015 1:11:15 AM</td>\n",
       "      <td>HEAT/HOT WATER</td>\n",
       "      <td>11/7/2015 7:55:25 AM</td>\n",
       "      <td>750 GRAND CONCOURSE</td>\n",
       "      <td>10451.0</td>\n",
       "      <td>40.823104</td>\n",
       "      <td>RESIDENTIAL BUILDING</td>\n",
       "      <td>-73.924572</td>\n",
       "      <td>The Department of Housing Preservation and Dev...</td>\n",
       "      <td>Closed</td>\n",
       "      <td>GRAND CONCOURSE</td>\n",
       "      <td>31930628</td>\n",
       "    </tr>\n",
       "  </tbody>\n",
       "</table>\n",
       "</div>"
      ],
      "text/plain": [
       "  address_type borough   city            closed_date  complaint_type  \\\n",
       "0      ADDRESS   BRONX  BRONX  11/6/2015 11:40:01 AM  HEAT/HOT WATER   \n",
       "1      ADDRESS   BRONX  BRONX   11/7/2015 1:08:51 AM  HEAT/HOT WATER   \n",
       "2      ADDRESS   BRONX  BRONX   11/9/2015 5:24:18 PM  HEAT/HOT WATER   \n",
       "3      ADDRESS   BRONX  BRONX  11/8/2015 12:52:50 PM  HEAT/HOT WATER   \n",
       "4      ADDRESS   BRONX  BRONX  11/11/2015 1:11:15 AM  HEAT/HOT WATER   \n",
       "\n",
       "           created_date       incident_address  incident_zip   latitude  \\\n",
       "0  11/6/2015 7:06:37 AM   1505 TOWNSEND AVENUE       10452.0  40.842340   \n",
       "1  11/6/2015 6:43:48 AM   1390 PROSPECT AVENUE       10459.0  40.831536   \n",
       "2  11/7/2015 8:23:56 PM  2995 BOTANICAL SQUARE       10458.0  40.867716   \n",
       "3  11/7/2015 4:26:04 PM   2351 GRAND CONCOURSE       10468.0  40.858889   \n",
       "4  11/7/2015 7:55:25 AM    750 GRAND CONCOURSE       10451.0  40.823104   \n",
       "\n",
       "          location_type  longitude  \\\n",
       "0  RESIDENTIAL BUILDING -73.915038   \n",
       "1  RESIDENTIAL BUILDING -73.896778   \n",
       "2  RESIDENTIAL BUILDING -73.881612   \n",
       "3  RESIDENTIAL BUILDING -73.899100   \n",
       "4  RESIDENTIAL BUILDING -73.924572   \n",
       "\n",
       "                              resolution_description  status  \\\n",
       "0  The Department of Housing Preservation and Dev...  Closed   \n",
       "1  The Department of Housing Preservation and Dev...  Closed   \n",
       "2  The Department of Housing Preservation and Dev...  Closed   \n",
       "3  The complaint you filed is a duplicate of a co...  Closed   \n",
       "4  The Department of Housing Preservation and Dev...  Closed   \n",
       "\n",
       "        street_name  unique_key  \n",
       "0   TOWNSEND AVENUE    31930038  \n",
       "1   PROSPECT AVENUE    31930075  \n",
       "2  BOTANICAL SQUARE    31930602  \n",
       "3   GRAND CONCOURSE    31930609  \n",
       "4   GRAND CONCOURSE    31930628  "
      ]
     },
     "execution_count": 54,
     "metadata": {},
     "output_type": "execute_result"
    }
   ],
   "source": [
    "df.head()"
   ]
  },
  {
   "cell_type": "code",
   "execution_count": 55,
   "metadata": {},
   "outputs": [],
   "source": [
    "#Drop away the unneccesary features\n",
    "df.drop(['address_type', 'borough','city','closed_date','complaint_type','created_date','incident_address',\n",
    "         'latitude','location_type','longitude','resolution_description','status','street_name', 'unique_key'], axis=1, inplace=True)"
   ]
  },
  {
   "cell_type": "code",
   "execution_count": 56,
   "metadata": {},
   "outputs": [
    {
     "data": {
      "text/html": [
       "<div>\n",
       "<style scoped>\n",
       "    .dataframe tbody tr th:only-of-type {\n",
       "        vertical-align: middle;\n",
       "    }\n",
       "\n",
       "    .dataframe tbody tr th {\n",
       "        vertical-align: top;\n",
       "    }\n",
       "\n",
       "    .dataframe thead th {\n",
       "        text-align: right;\n",
       "    }\n",
       "</style>\n",
       "<table border=\"1\" class=\"dataframe\">\n",
       "  <thead>\n",
       "    <tr style=\"text-align: right;\">\n",
       "      <th></th>\n",
       "      <th>incident_zip</th>\n",
       "    </tr>\n",
       "  </thead>\n",
       "  <tbody>\n",
       "    <tr>\n",
       "      <th>0</th>\n",
       "      <td>10452.0</td>\n",
       "    </tr>\n",
       "    <tr>\n",
       "      <th>1</th>\n",
       "      <td>10459.0</td>\n",
       "    </tr>\n",
       "    <tr>\n",
       "      <th>2</th>\n",
       "      <td>10458.0</td>\n",
       "    </tr>\n",
       "    <tr>\n",
       "      <th>3</th>\n",
       "      <td>10468.0</td>\n",
       "    </tr>\n",
       "    <tr>\n",
       "      <th>4</th>\n",
       "      <td>10451.0</td>\n",
       "    </tr>\n",
       "  </tbody>\n",
       "</table>\n",
       "</div>"
      ],
      "text/plain": [
       "   incident_zip\n",
       "0       10452.0\n",
       "1       10459.0\n",
       "2       10458.0\n",
       "3       10468.0\n",
       "4       10451.0"
      ]
     },
     "execution_count": 56,
     "metadata": {},
     "output_type": "execute_result"
    }
   ],
   "source": [
    "df.head()"
   ]
  },
  {
   "cell_type": "code",
   "execution_count": 57,
   "metadata": {},
   "outputs": [
    {
     "data": {
      "text/plain": [
       "(533283, 1)"
      ]
     },
     "execution_count": 57,
     "metadata": {},
     "output_type": "execute_result"
    }
   ],
   "source": [
    "df.shape"
   ]
  },
  {
   "cell_type": "code",
   "execution_count": 58,
   "metadata": {},
   "outputs": [],
   "source": [
    "#df.to_csv('q3pt2.csv',index=False)"
   ]
  },
  {
   "cell_type": "code",
   "execution_count": 59,
   "metadata": {},
   "outputs": [],
   "source": [
    "df3 = pd.merge(df2,df,how='left',on='incident_zip')"
   ]
  },
  {
   "cell_type": "code",
   "execution_count": 60,
   "metadata": {},
   "outputs": [],
   "source": [
    "#df3.to_csv('q3.csv')"
   ]
  },
  {
   "cell_type": "markdown",
   "metadata": {},
   "source": [
    "## Data Exploration and Feature Selection for combined file"
   ]
  },
  {
   "cell_type": "code",
   "execution_count": 61,
   "metadata": {},
   "outputs": [],
   "source": [
    "body = client_*********.get_object(Bucket='*******',Key='********')['Body']\n",
    "# add missing __iter__ method, so pandas accepts body as file-like object\n",
    "if not hasattr(body, \"__iter__\"): body.__iter__ = types.MethodType( __iter__, body )\n",
    "\n",
    "df3 = pd.read_csv(body)\n",
    "\n"
   ]
  },
  {
   "cell_type": "code",
   "execution_count": 62,
   "metadata": {},
   "outputs": [
    {
     "name": "stdout",
     "output_type": "stream",
     "text": [
      "<class 'pandas.core.frame.DataFrame'>\n",
      "RangeIndex: 86590 entries, 0 to 86589\n",
      "Data columns (total 17 columns):\n",
      "BldgArea        86590 non-null int64\n",
      "BldgDepth       86590 non-null float64\n",
      "BuiltFAR        86590 non-null float64\n",
      "CommFAR         86590 non-null float64\n",
      "FacilFAR        86590 non-null float64\n",
      "Lot             86590 non-null int64\n",
      "LotArea         86590 non-null int64\n",
      "LotDepth        86590 non-null float64\n",
      "NumBldgs        86590 non-null int64\n",
      "NumFloors       86590 non-null float64\n",
      "OfficeArea      86590 non-null int64\n",
      "ResArea         86590 non-null int64\n",
      "ResidFAR        86590 non-null float64\n",
      "RetailArea      86590 non-null int64\n",
      "YearBuilt       86590 non-null int64\n",
      "YearAlter1      86590 non-null int64\n",
      "incident_zip    86590 non-null int64\n",
      "dtypes: float64(7), int64(10)\n",
      "memory usage: 11.2 MB\n"
     ]
    }
   ],
   "source": [
    "df3.info()"
   ]
  },
  {
   "cell_type": "code",
   "execution_count": 63,
   "metadata": {},
   "outputs": [
    {
     "data": {
      "text/html": [
       "<div>\n",
       "<style scoped>\n",
       "    .dataframe tbody tr th:only-of-type {\n",
       "        vertical-align: middle;\n",
       "    }\n",
       "\n",
       "    .dataframe tbody tr th {\n",
       "        vertical-align: top;\n",
       "    }\n",
       "\n",
       "    .dataframe thead th {\n",
       "        text-align: right;\n",
       "    }\n",
       "</style>\n",
       "<table border=\"1\" class=\"dataframe\">\n",
       "  <thead>\n",
       "    <tr style=\"text-align: right;\">\n",
       "      <th></th>\n",
       "      <th>BldgArea</th>\n",
       "      <th>BldgDepth</th>\n",
       "      <th>BuiltFAR</th>\n",
       "      <th>CommFAR</th>\n",
       "      <th>FacilFAR</th>\n",
       "      <th>Lot</th>\n",
       "      <th>LotArea</th>\n",
       "      <th>LotDepth</th>\n",
       "      <th>NumBldgs</th>\n",
       "      <th>NumFloors</th>\n",
       "      <th>OfficeArea</th>\n",
       "      <th>ResArea</th>\n",
       "      <th>ResidFAR</th>\n",
       "      <th>RetailArea</th>\n",
       "      <th>YearBuilt</th>\n",
       "      <th>YearAlter1</th>\n",
       "      <th>incident_zip</th>\n",
       "    </tr>\n",
       "  </thead>\n",
       "  <tbody>\n",
       "    <tr>\n",
       "      <th>0</th>\n",
       "      <td>0</td>\n",
       "      <td>0.0</td>\n",
       "      <td>0.00</td>\n",
       "      <td>5.0</td>\n",
       "      <td>6.5</td>\n",
       "      <td>1</td>\n",
       "      <td>15000</td>\n",
       "      <td>200.0</td>\n",
       "      <td>1</td>\n",
       "      <td>0.0</td>\n",
       "      <td>0</td>\n",
       "      <td>0</td>\n",
       "      <td>6.02</td>\n",
       "      <td>0</td>\n",
       "      <td>2019</td>\n",
       "      <td>2019</td>\n",
       "      <td>10454</td>\n",
       "    </tr>\n",
       "    <tr>\n",
       "      <th>1</th>\n",
       "      <td>752</td>\n",
       "      <td>16.0</td>\n",
       "      <td>0.05</td>\n",
       "      <td>5.0</td>\n",
       "      <td>6.5</td>\n",
       "      <td>4</td>\n",
       "      <td>13770</td>\n",
       "      <td>100.0</td>\n",
       "      <td>2</td>\n",
       "      <td>1.0</td>\n",
       "      <td>272</td>\n",
       "      <td>0</td>\n",
       "      <td>6.02</td>\n",
       "      <td>0</td>\n",
       "      <td>88</td>\n",
       "      <td>25</td>\n",
       "      <td>10454</td>\n",
       "    </tr>\n",
       "    <tr>\n",
       "      <th>2</th>\n",
       "      <td>39375</td>\n",
       "      <td>200.0</td>\n",
       "      <td>1.13</td>\n",
       "      <td>5.0</td>\n",
       "      <td>6.5</td>\n",
       "      <td>10</td>\n",
       "      <td>35000</td>\n",
       "      <td>200.0</td>\n",
       "      <td>1</td>\n",
       "      <td>2.0</td>\n",
       "      <td>0</td>\n",
       "      <td>0</td>\n",
       "      <td>6.02</td>\n",
       "      <td>0</td>\n",
       "      <td>88</td>\n",
       "      <td>2019</td>\n",
       "      <td>10454</td>\n",
       "    </tr>\n",
       "    <tr>\n",
       "      <th>3</th>\n",
       "      <td>12500</td>\n",
       "      <td>85.0</td>\n",
       "      <td>5.00</td>\n",
       "      <td>5.0</td>\n",
       "      <td>6.5</td>\n",
       "      <td>17</td>\n",
       "      <td>2500</td>\n",
       "      <td>100.0</td>\n",
       "      <td>1</td>\n",
       "      <td>5.0</td>\n",
       "      <td>0</td>\n",
       "      <td>12500</td>\n",
       "      <td>6.02</td>\n",
       "      <td>0</td>\n",
       "      <td>88</td>\n",
       "      <td>18</td>\n",
       "      <td>10454</td>\n",
       "    </tr>\n",
       "    <tr>\n",
       "      <th>4</th>\n",
       "      <td>8595</td>\n",
       "      <td>70.0</td>\n",
       "      <td>4.58</td>\n",
       "      <td>5.0</td>\n",
       "      <td>6.5</td>\n",
       "      <td>18</td>\n",
       "      <td>1875</td>\n",
       "      <td>75.0</td>\n",
       "      <td>1</td>\n",
       "      <td>5.0</td>\n",
       "      <td>0</td>\n",
       "      <td>6876</td>\n",
       "      <td>6.02</td>\n",
       "      <td>1719</td>\n",
       "      <td>99</td>\n",
       "      <td>10</td>\n",
       "      <td>10454</td>\n",
       "    </tr>\n",
       "  </tbody>\n",
       "</table>\n",
       "</div>"
      ],
      "text/plain": [
       "   BldgArea  BldgDepth  BuiltFAR  CommFAR  FacilFAR  Lot  LotArea  LotDepth  \\\n",
       "0         0        0.0      0.00      5.0       6.5    1    15000     200.0   \n",
       "1       752       16.0      0.05      5.0       6.5    4    13770     100.0   \n",
       "2     39375      200.0      1.13      5.0       6.5   10    35000     200.0   \n",
       "3     12500       85.0      5.00      5.0       6.5   17     2500     100.0   \n",
       "4      8595       70.0      4.58      5.0       6.5   18     1875      75.0   \n",
       "\n",
       "   NumBldgs  NumFloors  OfficeArea  ResArea  ResidFAR  RetailArea  YearBuilt  \\\n",
       "0         1        0.0           0        0      6.02           0       2019   \n",
       "1         2        1.0         272        0      6.02           0         88   \n",
       "2         1        2.0           0        0      6.02           0         88   \n",
       "3         1        5.0           0    12500      6.02           0         88   \n",
       "4         1        5.0           0     6876      6.02        1719         99   \n",
       "\n",
       "   YearAlter1  incident_zip  \n",
       "0        2019         10454  \n",
       "1          25         10454  \n",
       "2        2019         10454  \n",
       "3          18         10454  \n",
       "4          10         10454  "
      ]
     },
     "execution_count": 63,
     "metadata": {},
     "output_type": "execute_result"
    }
   ],
   "source": [
    "df3.head()"
   ]
  },
  {
   "cell_type": "code",
   "execution_count": 64,
   "metadata": {},
   "outputs": [
    {
     "data": {
      "text/plain": [
       "10469    11078\n",
       "10466     8965\n",
       "10465     7853\n",
       "10461     7324\n",
       "10473     4719\n",
       "10467     4577\n",
       "10462     4513\n",
       "10472     4266\n",
       "10457     2956\n",
       "10460     2805\n",
       "10456     2802\n",
       "10458     2721\n",
       "10459     2558\n",
       "10470     2269\n",
       "10463     2140\n",
       "10471     2135\n",
       "10453     2041\n",
       "10455     1754\n",
       "10454     1649\n",
       "10468     1580\n",
       "10452     1478\n",
       "10464     1403\n",
       "10474     1153\n",
       "10451     1128\n",
       "10475      723\n",
       "Name: incident_zip, dtype: int64"
      ]
     },
     "execution_count": 64,
     "metadata": {},
     "output_type": "execute_result"
    }
   ],
   "source": [
    "#This is the number of heat/hot water row counts per Zipcode\n",
    "df3['incident_zip'].value_counts()"
   ]
  },
  {
   "cell_type": "code",
   "execution_count": 65,
   "metadata": {},
   "outputs": [
    {
     "data": {
      "text/plain": [
       "(86590, 17)"
      ]
     },
     "execution_count": 65,
     "metadata": {},
     "output_type": "execute_result"
    }
   ],
   "source": [
    "df3.shape"
   ]
  },
  {
   "cell_type": "code",
   "execution_count": 66,
   "metadata": {},
   "outputs": [],
   "source": [
    "df3['Count'] = df3.groupby('incident_zip')['incident_zip'].transform('count') #Create a new Count column"
   ]
  },
  {
   "cell_type": "code",
   "execution_count": 67,
   "metadata": {},
   "outputs": [
    {
     "data": {
      "text/html": [
       "<div>\n",
       "<style scoped>\n",
       "    .dataframe tbody tr th:only-of-type {\n",
       "        vertical-align: middle;\n",
       "    }\n",
       "\n",
       "    .dataframe tbody tr th {\n",
       "        vertical-align: top;\n",
       "    }\n",
       "\n",
       "    .dataframe thead th {\n",
       "        text-align: right;\n",
       "    }\n",
       "</style>\n",
       "<table border=\"1\" class=\"dataframe\">\n",
       "  <thead>\n",
       "    <tr style=\"text-align: right;\">\n",
       "      <th></th>\n",
       "      <th>BldgArea</th>\n",
       "      <th>BldgDepth</th>\n",
       "      <th>BuiltFAR</th>\n",
       "      <th>CommFAR</th>\n",
       "      <th>FacilFAR</th>\n",
       "      <th>Lot</th>\n",
       "      <th>LotArea</th>\n",
       "      <th>LotDepth</th>\n",
       "      <th>NumBldgs</th>\n",
       "      <th>NumFloors</th>\n",
       "      <th>OfficeArea</th>\n",
       "      <th>ResArea</th>\n",
       "      <th>ResidFAR</th>\n",
       "      <th>RetailArea</th>\n",
       "      <th>YearBuilt</th>\n",
       "      <th>YearAlter1</th>\n",
       "      <th>incident_zip</th>\n",
       "      <th>Count</th>\n",
       "    </tr>\n",
       "  </thead>\n",
       "  <tbody>\n",
       "    <tr>\n",
       "      <th>0</th>\n",
       "      <td>0</td>\n",
       "      <td>0.0</td>\n",
       "      <td>0.00</td>\n",
       "      <td>5.0</td>\n",
       "      <td>6.5</td>\n",
       "      <td>1</td>\n",
       "      <td>15000</td>\n",
       "      <td>200.0</td>\n",
       "      <td>1</td>\n",
       "      <td>0.0</td>\n",
       "      <td>0</td>\n",
       "      <td>0</td>\n",
       "      <td>6.02</td>\n",
       "      <td>0</td>\n",
       "      <td>2019</td>\n",
       "      <td>2019</td>\n",
       "      <td>10454</td>\n",
       "      <td>1649</td>\n",
       "    </tr>\n",
       "    <tr>\n",
       "      <th>1</th>\n",
       "      <td>752</td>\n",
       "      <td>16.0</td>\n",
       "      <td>0.05</td>\n",
       "      <td>5.0</td>\n",
       "      <td>6.5</td>\n",
       "      <td>4</td>\n",
       "      <td>13770</td>\n",
       "      <td>100.0</td>\n",
       "      <td>2</td>\n",
       "      <td>1.0</td>\n",
       "      <td>272</td>\n",
       "      <td>0</td>\n",
       "      <td>6.02</td>\n",
       "      <td>0</td>\n",
       "      <td>88</td>\n",
       "      <td>25</td>\n",
       "      <td>10454</td>\n",
       "      <td>1649</td>\n",
       "    </tr>\n",
       "    <tr>\n",
       "      <th>2</th>\n",
       "      <td>39375</td>\n",
       "      <td>200.0</td>\n",
       "      <td>1.13</td>\n",
       "      <td>5.0</td>\n",
       "      <td>6.5</td>\n",
       "      <td>10</td>\n",
       "      <td>35000</td>\n",
       "      <td>200.0</td>\n",
       "      <td>1</td>\n",
       "      <td>2.0</td>\n",
       "      <td>0</td>\n",
       "      <td>0</td>\n",
       "      <td>6.02</td>\n",
       "      <td>0</td>\n",
       "      <td>88</td>\n",
       "      <td>2019</td>\n",
       "      <td>10454</td>\n",
       "      <td>1649</td>\n",
       "    </tr>\n",
       "    <tr>\n",
       "      <th>3</th>\n",
       "      <td>12500</td>\n",
       "      <td>85.0</td>\n",
       "      <td>5.00</td>\n",
       "      <td>5.0</td>\n",
       "      <td>6.5</td>\n",
       "      <td>17</td>\n",
       "      <td>2500</td>\n",
       "      <td>100.0</td>\n",
       "      <td>1</td>\n",
       "      <td>5.0</td>\n",
       "      <td>0</td>\n",
       "      <td>12500</td>\n",
       "      <td>6.02</td>\n",
       "      <td>0</td>\n",
       "      <td>88</td>\n",
       "      <td>18</td>\n",
       "      <td>10454</td>\n",
       "      <td>1649</td>\n",
       "    </tr>\n",
       "    <tr>\n",
       "      <th>4</th>\n",
       "      <td>8595</td>\n",
       "      <td>70.0</td>\n",
       "      <td>4.58</td>\n",
       "      <td>5.0</td>\n",
       "      <td>6.5</td>\n",
       "      <td>18</td>\n",
       "      <td>1875</td>\n",
       "      <td>75.0</td>\n",
       "      <td>1</td>\n",
       "      <td>5.0</td>\n",
       "      <td>0</td>\n",
       "      <td>6876</td>\n",
       "      <td>6.02</td>\n",
       "      <td>1719</td>\n",
       "      <td>99</td>\n",
       "      <td>10</td>\n",
       "      <td>10454</td>\n",
       "      <td>1649</td>\n",
       "    </tr>\n",
       "  </tbody>\n",
       "</table>\n",
       "</div>"
      ],
      "text/plain": [
       "   BldgArea  BldgDepth  BuiltFAR  CommFAR  FacilFAR  Lot  LotArea  LotDepth  \\\n",
       "0         0        0.0      0.00      5.0       6.5    1    15000     200.0   \n",
       "1       752       16.0      0.05      5.0       6.5    4    13770     100.0   \n",
       "2     39375      200.0      1.13      5.0       6.5   10    35000     200.0   \n",
       "3     12500       85.0      5.00      5.0       6.5   17     2500     100.0   \n",
       "4      8595       70.0      4.58      5.0       6.5   18     1875      75.0   \n",
       "\n",
       "   NumBldgs  NumFloors  OfficeArea  ResArea  ResidFAR  RetailArea  YearBuilt  \\\n",
       "0         1        0.0           0        0      6.02           0       2019   \n",
       "1         2        1.0         272        0      6.02           0         88   \n",
       "2         1        2.0           0        0      6.02           0         88   \n",
       "3         1        5.0           0    12500      6.02           0         88   \n",
       "4         1        5.0           0     6876      6.02        1719         99   \n",
       "\n",
       "   YearAlter1  incident_zip  Count  \n",
       "0        2019         10454   1649  \n",
       "1          25         10454   1649  \n",
       "2        2019         10454   1649  \n",
       "3          18         10454   1649  \n",
       "4          10         10454   1649  "
      ]
     },
     "execution_count": 67,
     "metadata": {},
     "output_type": "execute_result"
    }
   ],
   "source": [
    "df3.head()"
   ]
  },
  {
   "cell_type": "code",
   "execution_count": 68,
   "metadata": {},
   "outputs": [
    {
     "data": {
      "text/plain": [
       "(86590, 18)"
      ]
     },
     "execution_count": 68,
     "metadata": {},
     "output_type": "execute_result"
    }
   ],
   "source": [
    "df3.shape"
   ]
  },
  {
   "cell_type": "code",
   "execution_count": 69,
   "metadata": {},
   "outputs": [],
   "source": [
    "#df4 = df3"
   ]
  },
  {
   "cell_type": "code",
   "execution_count": 70,
   "metadata": {},
   "outputs": [],
   "source": [
    "#Save for Question 4\n",
    "#df4.to_csv('q4.csv', index=False)"
   ]
  },
  {
   "cell_type": "markdown",
   "metadata": {},
   "source": [
    "### Use Pearson correlation"
   ]
  },
  {
   "cell_type": "code",
   "execution_count": 71,
   "metadata": {},
   "outputs": [],
   "source": [
    "sns.set_style(\"whitegrid\")"
   ]
  },
  {
   "cell_type": "code",
   "execution_count": 72,
   "metadata": {},
   "outputs": [
    {
     "data": {
      "text/plain": [
       "<matplotlib.axes._subplots.AxesSubplot at 0x1eb68eef358>"
      ]
     },
     "execution_count": 72,
     "metadata": {},
     "output_type": "execute_result"
    },
    {
     "data": {
      "image/png": "[encoded data removed]",
      "text/plain": [
       "<Figure size 432x288 with 1 Axes>"
      ]
     },
     "metadata": {},
     "output_type": "display_data"
    }
   ],
   "source": [
    "sns.scatterplot(x=df3.BldgArea,y=df3.ResArea) #Linear correlation for both variables"
   ]
  },
  {
   "cell_type": "code",
   "execution_count": 73,
   "metadata": {},
   "outputs": [
    {
     "data": {
      "text/plain": [
       "<matplotlib.axes._subplots.AxesSubplot at 0x1eb66c4c860>"
      ]
     },
     "execution_count": 73,
     "metadata": {},
     "output_type": "execute_result"
    },
    {
     "data": {
      "image/png": "[encoded data removed]",
      "text/plain": [
       "<Figure size 432x288 with 1 Axes>"
      ]
     },
     "metadata": {},
     "output_type": "display_data"
    }
   ],
   "source": [
    "sns.scatterplot(x=df3.FacilFAR,y=df3.ResidFAR) #Linear correlation for both variables"
   ]
  },
  {
   "cell_type": "code",
   "execution_count": 74,
   "metadata": {},
   "outputs": [
    {
     "data": {
      "text/plain": [
       "<matplotlib.axes._subplots.AxesSubplot at 0x1eb66cb0860>"
      ]
     },
     "execution_count": 74,
     "metadata": {},
     "output_type": "execute_result"
    },
    {
     "data": {
      "image/png": "[encoded data removed]",
      "text/plain": [
       "<Figure size 1440x720 with 2 Axes>"
      ]
     },
     "metadata": {},
     "output_type": "display_data"
    }
   ],
   "source": [
    "plt.figure(figsize=(20,10))\n",
    "sns.heatmap(df3.corr(),annot=True)"
   ]
  },
  {
   "cell_type": "markdown",
   "metadata": {},
   "source": [
    "### Note: Count has correlations with: FacilFAR, ResidFAR and Incident Zip."
   ]
  },
  {
   "cell_type": "markdown",
   "metadata": {},
   "source": [
    "## Insights on relationships between Heat/Hot Water complaints with Building characteristics"
   ]
  },
  {
   "cell_type": "code",
   "execution_count": 76,
   "metadata": {},
   "outputs": [
    {
     "data": {
      "text/plain": [
       "Text(0.5, 1.0, 'Building Area relationship with Heat/Hot Water cases')"
      ]
     },
     "execution_count": 76,
     "metadata": {},
     "output_type": "execute_result"
    },
    {
     "data": {
      "image/png": "[encoded data removed]",
      "text/plain": [
       "<Figure size 1440x720 with 1 Axes>"
      ]
     },
     "metadata": {},
     "output_type": "display_data"
    }
   ],
   "source": [
    "plt.figure(figsize=(20,10))\n",
    "sns.barplot(x=df3.incident_zip,y=df3.BldgArea)\n",
    "plt.xticks(rotation=90)\n",
    "plt.xlabel(\"Heat/Hot Water cases by Zipcode\", size=20)\n",
    "plt.ylabel(\"Building Area\", size=20)\n",
    "plt.title(\"Building Area relationship with Heat/Hot Water cases\",size=20)"
   ]
  },
  {
   "cell_type": "code",
   "execution_count": 77,
   "metadata": {},
   "outputs": [
    {
     "data": {
      "text/plain": [
       "Text(0.5, 1.0, 'Lot Area relationship with Heat/Hot Water cases')"
      ]
     },
     "execution_count": 77,
     "metadata": {},
     "output_type": "execute_result"
    },
    {
     "data": {
      "image/png": "[encoded data removed]",
      "text/plain": [
       "<Figure size 1440x720 with 1 Axes>"
      ]
     },
     "metadata": {},
     "output_type": "display_data"
    }
   ],
   "source": [
    "plt.figure(figsize=(20,10))\n",
    "sns.barplot(x=df3.incident_zip,y=df3.LotArea)\n",
    "plt.xticks(rotation=90)\n",
    "plt.xlabel(\"Heat/Hot Water cases by Zipcode\", size=20)\n",
    "plt.ylabel(\"Lot Area\", size=20)\n",
    "plt.title(\"Lot Area relationship with Heat/Hot Water cases\",size=20)"
   ]
  },
  {
   "cell_type": "code",
   "execution_count": 78,
   "metadata": {},
   "outputs": [
    {
     "data": {
      "text/plain": [
       "Text(0.5, 1.0, 'Number of Years relationship with Heat/Hot Water cases')"
      ]
     },
     "execution_count": 78,
     "metadata": {},
     "output_type": "execute_result"
    },
    {
     "data": {
      "image/png": "[encoded data removed]",
      "text/plain": [
       "<Figure size 1440x720 with 1 Axes>"
      ]
     },
     "metadata": {},
     "output_type": "display_data"
    }
   ],
   "source": [
    "plt.figure(figsize=(20,10))\n",
    "sns.barplot(x=df3.incident_zip,y=df3.YearBuilt)\n",
    "plt.xticks(rotation=90)\n",
    "plt.xlabel(\"Heat/Hot Water cases by Zipcode\", size=20)\n",
    "plt.ylabel(\"Number of years\", size=20)\n",
    "plt.title(\"Number of Years relationship with Heat/Hot Water cases\",size=20)"
   ]
  },
  {
   "cell_type": "code",
   "execution_count": 79,
   "metadata": {},
   "outputs": [
    {
     "data": {
      "text/plain": [
       "Text(0.5, 1.0, 'Number of Buildings relationship with Heat/Hot Water cases')"
      ]
     },
     "execution_count": 79,
     "metadata": {},
     "output_type": "execute_result"
    },
    {
     "data": {
      "image/png": "[encoded data removed]",
      "text/plain": [
       "<Figure size 1440x720 with 1 Axes>"
      ]
     },
     "metadata": {},
     "output_type": "display_data"
    }
   ],
   "source": [
    "plt.figure(figsize=(20,10))\n",
    "sns.barplot(x=df3.incident_zip,y=df3.NumBldgs)\n",
    "plt.xticks(rotation=90)\n",
    "plt.xlabel(\"Heat/Hot Water cases by Zipcode\", size=20)\n",
    "plt.ylabel(\"Number of Buildings\", size=20)\n",
    "plt.title(\"Number of Buildings relationship with Heat/Hot Water cases\",size=20)"
   ]
  },
  {
   "cell_type": "code",
   "execution_count": 80,
   "metadata": {},
   "outputs": [
    {
     "data": {
      "text/plain": [
       "Text(0.5, 1.0, 'Number of Floors relationship with Heat/Hot Water cases')"
      ]
     },
     "execution_count": 80,
     "metadata": {},
     "output_type": "execute_result"
    },
    {
     "data": {
      "image/png": "[encoded data removed]",
      "text/plain": [
       "<Figure size 1440x720 with 1 Axes>"
      ]
     },
     "metadata": {},
     "output_type": "display_data"
    }
   ],
   "source": [
    "plt.figure(figsize=(20,10))\n",
    "sns.barplot(x=df3.incident_zip,y=df3.NumFloors)\n",
    "plt.xticks(rotation=90)\n",
    "plt.xlabel(\"Heat/Hot Water cases by Zipcode\", size=20)\n",
    "plt.ylabel(\"Number of Floors\", size=20)\n",
    "plt.title(\"Number of Floors relationship with Heat/Hot Water cases\",size=20)"
   ]
  },
  {
   "cell_type": "markdown",
   "metadata": {},
   "source": [
    "# Decide output variable"
   ]
  },
  {
   "cell_type": "code",
   "execution_count": 81,
   "metadata": {},
   "outputs": [
    {
     "data": {
      "text/html": [
       "<div>\n",
       "<style scoped>\n",
       "    .dataframe tbody tr th:only-of-type {\n",
       "        vertical-align: middle;\n",
       "    }\n",
       "\n",
       "    .dataframe tbody tr th {\n",
       "        vertical-align: top;\n",
       "    }\n",
       "\n",
       "    .dataframe thead th {\n",
       "        text-align: right;\n",
       "    }\n",
       "</style>\n",
       "<table border=\"1\" class=\"dataframe\">\n",
       "  <thead>\n",
       "    <tr style=\"text-align: right;\">\n",
       "      <th></th>\n",
       "      <th>BldgArea</th>\n",
       "      <th>BldgDepth</th>\n",
       "      <th>BuiltFAR</th>\n",
       "      <th>CommFAR</th>\n",
       "      <th>FacilFAR</th>\n",
       "      <th>Lot</th>\n",
       "      <th>LotArea</th>\n",
       "      <th>LotDepth</th>\n",
       "      <th>NumBldgs</th>\n",
       "      <th>NumFloors</th>\n",
       "      <th>OfficeArea</th>\n",
       "      <th>ResArea</th>\n",
       "      <th>ResidFAR</th>\n",
       "      <th>RetailArea</th>\n",
       "      <th>YearBuilt</th>\n",
       "      <th>YearAlter1</th>\n",
       "      <th>incident_zip</th>\n",
       "      <th>Count</th>\n",
       "    </tr>\n",
       "  </thead>\n",
       "  <tbody>\n",
       "    <tr>\n",
       "      <th>0</th>\n",
       "      <td>0</td>\n",
       "      <td>0.0</td>\n",
       "      <td>0.00</td>\n",
       "      <td>5.0</td>\n",
       "      <td>6.5</td>\n",
       "      <td>1</td>\n",
       "      <td>15000</td>\n",
       "      <td>200.0</td>\n",
       "      <td>1</td>\n",
       "      <td>0.0</td>\n",
       "      <td>0</td>\n",
       "      <td>0</td>\n",
       "      <td>6.02</td>\n",
       "      <td>0</td>\n",
       "      <td>2019</td>\n",
       "      <td>2019</td>\n",
       "      <td>10454</td>\n",
       "      <td>1649</td>\n",
       "    </tr>\n",
       "    <tr>\n",
       "      <th>1</th>\n",
       "      <td>752</td>\n",
       "      <td>16.0</td>\n",
       "      <td>0.05</td>\n",
       "      <td>5.0</td>\n",
       "      <td>6.5</td>\n",
       "      <td>4</td>\n",
       "      <td>13770</td>\n",
       "      <td>100.0</td>\n",
       "      <td>2</td>\n",
       "      <td>1.0</td>\n",
       "      <td>272</td>\n",
       "      <td>0</td>\n",
       "      <td>6.02</td>\n",
       "      <td>0</td>\n",
       "      <td>88</td>\n",
       "      <td>25</td>\n",
       "      <td>10454</td>\n",
       "      <td>1649</td>\n",
       "    </tr>\n",
       "    <tr>\n",
       "      <th>2</th>\n",
       "      <td>39375</td>\n",
       "      <td>200.0</td>\n",
       "      <td>1.13</td>\n",
       "      <td>5.0</td>\n",
       "      <td>6.5</td>\n",
       "      <td>10</td>\n",
       "      <td>35000</td>\n",
       "      <td>200.0</td>\n",
       "      <td>1</td>\n",
       "      <td>2.0</td>\n",
       "      <td>0</td>\n",
       "      <td>0</td>\n",
       "      <td>6.02</td>\n",
       "      <td>0</td>\n",
       "      <td>88</td>\n",
       "      <td>2019</td>\n",
       "      <td>10454</td>\n",
       "      <td>1649</td>\n",
       "    </tr>\n",
       "    <tr>\n",
       "      <th>3</th>\n",
       "      <td>12500</td>\n",
       "      <td>85.0</td>\n",
       "      <td>5.00</td>\n",
       "      <td>5.0</td>\n",
       "      <td>6.5</td>\n",
       "      <td>17</td>\n",
       "      <td>2500</td>\n",
       "      <td>100.0</td>\n",
       "      <td>1</td>\n",
       "      <td>5.0</td>\n",
       "      <td>0</td>\n",
       "      <td>12500</td>\n",
       "      <td>6.02</td>\n",
       "      <td>0</td>\n",
       "      <td>88</td>\n",
       "      <td>18</td>\n",
       "      <td>10454</td>\n",
       "      <td>1649</td>\n",
       "    </tr>\n",
       "    <tr>\n",
       "      <th>4</th>\n",
       "      <td>8595</td>\n",
       "      <td>70.0</td>\n",
       "      <td>4.58</td>\n",
       "      <td>5.0</td>\n",
       "      <td>6.5</td>\n",
       "      <td>18</td>\n",
       "      <td>1875</td>\n",
       "      <td>75.0</td>\n",
       "      <td>1</td>\n",
       "      <td>5.0</td>\n",
       "      <td>0</td>\n",
       "      <td>6876</td>\n",
       "      <td>6.02</td>\n",
       "      <td>1719</td>\n",
       "      <td>99</td>\n",
       "      <td>10</td>\n",
       "      <td>10454</td>\n",
       "      <td>1649</td>\n",
       "    </tr>\n",
       "  </tbody>\n",
       "</table>\n",
       "</div>"
      ],
      "text/plain": [
       "   BldgArea  BldgDepth  BuiltFAR  CommFAR  FacilFAR  Lot  LotArea  LotDepth  \\\n",
       "0         0        0.0      0.00      5.0       6.5    1    15000     200.0   \n",
       "1       752       16.0      0.05      5.0       6.5    4    13770     100.0   \n",
       "2     39375      200.0      1.13      5.0       6.5   10    35000     200.0   \n",
       "3     12500       85.0      5.00      5.0       6.5   17     2500     100.0   \n",
       "4      8595       70.0      4.58      5.0       6.5   18     1875      75.0   \n",
       "\n",
       "   NumBldgs  NumFloors  OfficeArea  ResArea  ResidFAR  RetailArea  YearBuilt  \\\n",
       "0         1        0.0           0        0      6.02           0       2019   \n",
       "1         2        1.0         272        0      6.02           0         88   \n",
       "2         1        2.0           0        0      6.02           0         88   \n",
       "3         1        5.0           0    12500      6.02           0         88   \n",
       "4         1        5.0           0     6876      6.02        1719         99   \n",
       "\n",
       "   YearAlter1  incident_zip  Count  \n",
       "0        2019         10454   1649  \n",
       "1          25         10454   1649  \n",
       "2        2019         10454   1649  \n",
       "3          18         10454   1649  \n",
       "4          10         10454   1649  "
      ]
     },
     "execution_count": 81,
     "metadata": {},
     "output_type": "execute_result"
    }
   ],
   "source": [
    "df3.head()"
   ]
  },
  {
   "cell_type": "code",
   "execution_count": 82,
   "metadata": {},
   "outputs": [],
   "source": [
    "#Let Count column be target variable\n",
    "X = df3.drop('Count',axis=1)\n",
    "y = df3['Count'] #Target variable"
   ]
  },
  {
   "cell_type": "code",
   "execution_count": 83,
   "metadata": {},
   "outputs": [
    {
     "data": {
      "text/plain": [
       "(86590, 17)"
      ]
     },
     "execution_count": 83,
     "metadata": {},
     "output_type": "execute_result"
    }
   ],
   "source": [
    "X.shape"
   ]
  },
  {
   "cell_type": "code",
   "execution_count": 84,
   "metadata": {},
   "outputs": [
    {
     "data": {
      "text/plain": [
       "(86590,)"
      ]
     },
     "execution_count": 84,
     "metadata": {},
     "output_type": "execute_result"
    }
   ],
   "source": [
    "y.shape"
   ]
  },
  {
   "cell_type": "markdown",
   "metadata": {},
   "source": [
    "## Standardise Variable to Identify Key Feature(s)"
   ]
  },
  {
   "cell_type": "code",
   "execution_count": 96,
   "metadata": {},
   "outputs": [
    {
     "data": {
      "text/html": [
       "<div>\n",
       "<style scoped>\n",
       "    .dataframe tbody tr th:only-of-type {\n",
       "        vertical-align: middle;\n",
       "    }\n",
       "\n",
       "    .dataframe tbody tr th {\n",
       "        vertical-align: top;\n",
       "    }\n",
       "\n",
       "    .dataframe thead th {\n",
       "        text-align: right;\n",
       "    }\n",
       "</style>\n",
       "<table border=\"1\" class=\"dataframe\">\n",
       "  <thead>\n",
       "    <tr style=\"text-align: right;\">\n",
       "      <th></th>\n",
       "      <th>BldgArea</th>\n",
       "      <th>BldgDepth</th>\n",
       "      <th>BuiltFAR</th>\n",
       "      <th>CommFAR</th>\n",
       "      <th>FacilFAR</th>\n",
       "      <th>Lot</th>\n",
       "      <th>LotArea</th>\n",
       "      <th>LotDepth</th>\n",
       "      <th>NumBldgs</th>\n",
       "      <th>NumFloors</th>\n",
       "      <th>OfficeArea</th>\n",
       "      <th>ResArea</th>\n",
       "      <th>ResidFAR</th>\n",
       "      <th>RetailArea</th>\n",
       "      <th>YearBuilt</th>\n",
       "      <th>YearAlter1</th>\n",
       "      <th>incident_zip</th>\n",
       "      <th>Count</th>\n",
       "    </tr>\n",
       "  </thead>\n",
       "  <tbody>\n",
       "    <tr>\n",
       "      <th>0</th>\n",
       "      <td>0</td>\n",
       "      <td>0.0</td>\n",
       "      <td>0.00</td>\n",
       "      <td>5.0</td>\n",
       "      <td>6.5</td>\n",
       "      <td>1</td>\n",
       "      <td>15000</td>\n",
       "      <td>200.0</td>\n",
       "      <td>1</td>\n",
       "      <td>0.0</td>\n",
       "      <td>0</td>\n",
       "      <td>0</td>\n",
       "      <td>6.02</td>\n",
       "      <td>0</td>\n",
       "      <td>2019</td>\n",
       "      <td>2019</td>\n",
       "      <td>10454</td>\n",
       "      <td>1649</td>\n",
       "    </tr>\n",
       "    <tr>\n",
       "      <th>1</th>\n",
       "      <td>752</td>\n",
       "      <td>16.0</td>\n",
       "      <td>0.05</td>\n",
       "      <td>5.0</td>\n",
       "      <td>6.5</td>\n",
       "      <td>4</td>\n",
       "      <td>13770</td>\n",
       "      <td>100.0</td>\n",
       "      <td>2</td>\n",
       "      <td>1.0</td>\n",
       "      <td>272</td>\n",
       "      <td>0</td>\n",
       "      <td>6.02</td>\n",
       "      <td>0</td>\n",
       "      <td>88</td>\n",
       "      <td>25</td>\n",
       "      <td>10454</td>\n",
       "      <td>1649</td>\n",
       "    </tr>\n",
       "    <tr>\n",
       "      <th>2</th>\n",
       "      <td>39375</td>\n",
       "      <td>200.0</td>\n",
       "      <td>1.13</td>\n",
       "      <td>5.0</td>\n",
       "      <td>6.5</td>\n",
       "      <td>10</td>\n",
       "      <td>35000</td>\n",
       "      <td>200.0</td>\n",
       "      <td>1</td>\n",
       "      <td>2.0</td>\n",
       "      <td>0</td>\n",
       "      <td>0</td>\n",
       "      <td>6.02</td>\n",
       "      <td>0</td>\n",
       "      <td>88</td>\n",
       "      <td>2019</td>\n",
       "      <td>10454</td>\n",
       "      <td>1649</td>\n",
       "    </tr>\n",
       "    <tr>\n",
       "      <th>3</th>\n",
       "      <td>12500</td>\n",
       "      <td>85.0</td>\n",
       "      <td>5.00</td>\n",
       "      <td>5.0</td>\n",
       "      <td>6.5</td>\n",
       "      <td>17</td>\n",
       "      <td>2500</td>\n",
       "      <td>100.0</td>\n",
       "      <td>1</td>\n",
       "      <td>5.0</td>\n",
       "      <td>0</td>\n",
       "      <td>12500</td>\n",
       "      <td>6.02</td>\n",
       "      <td>0</td>\n",
       "      <td>88</td>\n",
       "      <td>18</td>\n",
       "      <td>10454</td>\n",
       "      <td>1649</td>\n",
       "    </tr>\n",
       "    <tr>\n",
       "      <th>4</th>\n",
       "      <td>8595</td>\n",
       "      <td>70.0</td>\n",
       "      <td>4.58</td>\n",
       "      <td>5.0</td>\n",
       "      <td>6.5</td>\n",
       "      <td>18</td>\n",
       "      <td>1875</td>\n",
       "      <td>75.0</td>\n",
       "      <td>1</td>\n",
       "      <td>5.0</td>\n",
       "      <td>0</td>\n",
       "      <td>6876</td>\n",
       "      <td>6.02</td>\n",
       "      <td>1719</td>\n",
       "      <td>99</td>\n",
       "      <td>10</td>\n",
       "      <td>10454</td>\n",
       "      <td>1649</td>\n",
       "    </tr>\n",
       "  </tbody>\n",
       "</table>\n",
       "</div>"
      ],
      "text/plain": [
       "   BldgArea  BldgDepth  BuiltFAR  CommFAR  FacilFAR  Lot  LotArea  LotDepth  \\\n",
       "0         0        0.0      0.00      5.0       6.5    1    15000     200.0   \n",
       "1       752       16.0      0.05      5.0       6.5    4    13770     100.0   \n",
       "2     39375      200.0      1.13      5.0       6.5   10    35000     200.0   \n",
       "3     12500       85.0      5.00      5.0       6.5   17     2500     100.0   \n",
       "4      8595       70.0      4.58      5.0       6.5   18     1875      75.0   \n",
       "\n",
       "   NumBldgs  NumFloors  OfficeArea  ResArea  ResidFAR  RetailArea  YearBuilt  \\\n",
       "0         1        0.0           0        0      6.02           0       2019   \n",
       "1         2        1.0         272        0      6.02           0         88   \n",
       "2         1        2.0           0        0      6.02           0         88   \n",
       "3         1        5.0           0    12500      6.02           0         88   \n",
       "4         1        5.0           0     6876      6.02        1719         99   \n",
       "\n",
       "   YearAlter1  incident_zip  Count  \n",
       "0        2019         10454   1649  \n",
       "1          25         10454   1649  \n",
       "2        2019         10454   1649  \n",
       "3          18         10454   1649  \n",
       "4          10         10454   1649  "
      ]
     },
     "execution_count": 96,
     "metadata": {},
     "output_type": "execute_result"
    }
   ],
   "source": [
    "df3.head()"
   ]
  },
  {
   "cell_type": "code",
   "execution_count": 97,
   "metadata": {},
   "outputs": [
    {
     "name": "stdout",
     "output_type": "stream",
     "text": [
      "<class 'pandas.core.frame.DataFrame'>\n",
      "RangeIndex: 86590 entries, 0 to 86589\n",
      "Data columns (total 18 columns):\n",
      "BldgArea        86590 non-null int64\n",
      "BldgDepth       86590 non-null float64\n",
      "BuiltFAR        86590 non-null float64\n",
      "CommFAR         86590 non-null float64\n",
      "FacilFAR        86590 non-null float64\n",
      "Lot             86590 non-null int64\n",
      "LotArea         86590 non-null int64\n",
      "LotDepth        86590 non-null float64\n",
      "NumBldgs        86590 non-null int64\n",
      "NumFloors       86590 non-null float64\n",
      "OfficeArea      86590 non-null int64\n",
      "ResArea         86590 non-null int64\n",
      "ResidFAR        86590 non-null float64\n",
      "RetailArea      86590 non-null int64\n",
      "YearBuilt       86590 non-null int64\n",
      "YearAlter1      86590 non-null int64\n",
      "incident_zip    86590 non-null int64\n",
      "Count           86590 non-null int64\n",
      "dtypes: float64(7), int64(11)\n",
      "memory usage: 11.9 MB\n"
     ]
    }
   ],
   "source": [
    "df3.info()"
   ]
  },
  {
   "cell_type": "code",
   "execution_count": 98,
   "metadata": {},
   "outputs": [],
   "source": [
    "from sklearn.linear_model import LinearRegression"
   ]
  },
  {
   "cell_type": "code",
   "execution_count": 99,
   "metadata": {},
   "outputs": [],
   "source": [
    "model = LinearRegression()"
   ]
  },
  {
   "cell_type": "code",
   "execution_count": 100,
   "metadata": {},
   "outputs": [
    {
     "data": {
      "text/plain": [
       "LinearRegression(copy_X=True, fit_intercept=True, n_jobs=None,\n",
       "         normalize=False)"
      ]
     },
     "execution_count": 100,
     "metadata": {},
     "output_type": "execute_result"
    }
   ],
   "source": [
    "model.fit(X,y)"
   ]
  },
  {
   "cell_type": "code",
   "execution_count": 101,
   "metadata": {},
   "outputs": [
    {
     "data": {
      "text/html": [
       "<div>\n",
       "<style scoped>\n",
       "    .dataframe tbody tr th:only-of-type {\n",
       "        vertical-align: middle;\n",
       "    }\n",
       "\n",
       "    .dataframe tbody tr th {\n",
       "        vertical-align: top;\n",
       "    }\n",
       "\n",
       "    .dataframe thead th {\n",
       "        text-align: right;\n",
       "    }\n",
       "</style>\n",
       "<table border=\"1\" class=\"dataframe\">\n",
       "  <thead>\n",
       "    <tr style=\"text-align: right;\">\n",
       "      <th></th>\n",
       "      <th>coefficient</th>\n",
       "    </tr>\n",
       "    <tr>\n",
       "      <th>name</th>\n",
       "      <th></th>\n",
       "    </tr>\n",
       "  </thead>\n",
       "  <tbody>\n",
       "    <tr>\n",
       "      <th>FacilFAR</th>\n",
       "      <td>550.328182</td>\n",
       "    </tr>\n",
       "    <tr>\n",
       "      <th>CommFAR</th>\n",
       "      <td>341.536867</td>\n",
       "    </tr>\n",
       "    <tr>\n",
       "      <th>ResidFAR</th>\n",
       "      <td>267.935881</td>\n",
       "    </tr>\n",
       "    <tr>\n",
       "      <th>incident_zip</th>\n",
       "      <td>86.379692</td>\n",
       "    </tr>\n",
       "    <tr>\n",
       "      <th>NumFloors</th>\n",
       "      <td>80.853274</td>\n",
       "    </tr>\n",
       "    <tr>\n",
       "      <th>NumBldgs</th>\n",
       "      <td>28.446459</td>\n",
       "    </tr>\n",
       "    <tr>\n",
       "      <th>BldgDepth</th>\n",
       "      <td>9.573782</td>\n",
       "    </tr>\n",
       "    <tr>\n",
       "      <th>LotDepth</th>\n",
       "      <td>1.623709</td>\n",
       "    </tr>\n",
       "    <tr>\n",
       "      <th>YearBuilt</th>\n",
       "      <td>1.056498</td>\n",
       "    </tr>\n",
       "    <tr>\n",
       "      <th>Lot</th>\n",
       "      <td>1.005908</td>\n",
       "    </tr>\n",
       "    <tr>\n",
       "      <th>BuiltFAR</th>\n",
       "      <td>0.750655</td>\n",
       "    </tr>\n",
       "    <tr>\n",
       "      <th>YearAlter1</th>\n",
       "      <td>0.203054</td>\n",
       "    </tr>\n",
       "    <tr>\n",
       "      <th>RetailArea</th>\n",
       "      <td>0.015288</td>\n",
       "    </tr>\n",
       "    <tr>\n",
       "      <th>OfficeArea</th>\n",
       "      <td>0.003486</td>\n",
       "    </tr>\n",
       "    <tr>\n",
       "      <th>BldgArea</th>\n",
       "      <td>0.002054</td>\n",
       "    </tr>\n",
       "    <tr>\n",
       "      <th>ResArea</th>\n",
       "      <td>0.001587</td>\n",
       "    </tr>\n",
       "    <tr>\n",
       "      <th>LotArea</th>\n",
       "      <td>0.000107</td>\n",
       "    </tr>\n",
       "  </tbody>\n",
       "</table>\n",
       "</div>"
      ],
      "text/plain": [
       "              coefficient\n",
       "name                     \n",
       "FacilFAR       550.328182\n",
       "CommFAR        341.536867\n",
       "ResidFAR       267.935881\n",
       "incident_zip    86.379692\n",
       "NumFloors       80.853274\n",
       "NumBldgs        28.446459\n",
       "BldgDepth        9.573782\n",
       "LotDepth         1.623709\n",
       "YearBuilt        1.056498\n",
       "Lot              1.005908\n",
       "BuiltFAR         0.750655\n",
       "YearAlter1       0.203054\n",
       "RetailArea       0.015288\n",
       "OfficeArea       0.003486\n",
       "BldgArea         0.002054\n",
       "ResArea          0.001587\n",
       "LotArea          0.000107"
      ]
     },
     "execution_count": 101,
     "metadata": {},
     "output_type": "execute_result"
    }
   ],
   "source": [
    "result = pd.DataFrame(list(zip(model.coef_, df3.columns)), columns=['coefficient', 'name']).set_index('name')\n",
    "np.abs(result).sort_values(by='coefficient', ascending=False)"
   ]
  },
  {
   "cell_type": "code",
   "execution_count": 102,
   "metadata": {},
   "outputs": [],
   "source": [
    "from sklearn.preprocessing import StandardScaler  \n",
    "from sklearn.pipeline import make_pipeline  \n",
    "scaler = StandardScaler()  \n",
    "Stand_coef_linear_reg = make_pipeline(scaler, model)"
   ]
  },
  {
   "cell_type": "code",
   "execution_count": 103,
   "metadata": {},
   "outputs": [
    {
     "data": {
      "text/html": [
       "<div>\n",
       "<style scoped>\n",
       "    .dataframe tbody tr th:only-of-type {\n",
       "        vertical-align: middle;\n",
       "    }\n",
       "\n",
       "    .dataframe tbody tr th {\n",
       "        vertical-align: top;\n",
       "    }\n",
       "\n",
       "    .dataframe thead th {\n",
       "        text-align: right;\n",
       "    }\n",
       "</style>\n",
       "<table border=\"1\" class=\"dataframe\">\n",
       "  <thead>\n",
       "    <tr style=\"text-align: right;\">\n",
       "      <th></th>\n",
       "      <th>coefficient</th>\n",
       "    </tr>\n",
       "    <tr>\n",
       "      <th>name</th>\n",
       "      <th></th>\n",
       "    </tr>\n",
       "  </thead>\n",
       "  <tbody>\n",
       "    <tr>\n",
       "      <th>FacilFAR</th>\n",
       "      <td>879.215150</td>\n",
       "    </tr>\n",
       "    <tr>\n",
       "      <th>incident_zip</th>\n",
       "      <td>508.461938</td>\n",
       "    </tr>\n",
       "    <tr>\n",
       "      <th>Lot</th>\n",
       "      <td>429.205310</td>\n",
       "    </tr>\n",
       "    <tr>\n",
       "      <th>YearBuilt</th>\n",
       "      <td>403.640013</td>\n",
       "    </tr>\n",
       "    <tr>\n",
       "      <th>ResidFAR</th>\n",
       "      <td>349.584657</td>\n",
       "    </tr>\n",
       "    <tr>\n",
       "      <th>BldgDepth</th>\n",
       "      <td>290.322999</td>\n",
       "    </tr>\n",
       "    <tr>\n",
       "      <th>CommFAR</th>\n",
       "      <td>191.764598</td>\n",
       "    </tr>\n",
       "    <tr>\n",
       "      <th>BldgArea</th>\n",
       "      <td>130.515137</td>\n",
       "    </tr>\n",
       "    <tr>\n",
       "      <th>YearAlter1</th>\n",
       "      <td>116.807238</td>\n",
       "    </tr>\n",
       "    <tr>\n",
       "      <th>NumFloors</th>\n",
       "      <td>116.555527</td>\n",
       "    </tr>\n",
       "    <tr>\n",
       "      <th>LotDepth</th>\n",
       "      <td>102.634938</td>\n",
       "    </tr>\n",
       "    <tr>\n",
       "      <th>ResArea</th>\n",
       "      <td>91.300202</td>\n",
       "    </tr>\n",
       "    <tr>\n",
       "      <th>RetailArea</th>\n",
       "      <td>76.468738</td>\n",
       "    </tr>\n",
       "    <tr>\n",
       "      <th>NumBldgs</th>\n",
       "      <td>51.670037</td>\n",
       "    </tr>\n",
       "    <tr>\n",
       "      <th>OfficeArea</th>\n",
       "      <td>42.479324</td>\n",
       "    </tr>\n",
       "    <tr>\n",
       "      <th>LotArea</th>\n",
       "      <td>31.293025</td>\n",
       "    </tr>\n",
       "    <tr>\n",
       "      <th>BuiltFAR</th>\n",
       "      <td>1.358927</td>\n",
       "    </tr>\n",
       "  </tbody>\n",
       "</table>\n",
       "</div>"
      ],
      "text/plain": [
       "              coefficient\n",
       "name                     \n",
       "FacilFAR       879.215150\n",
       "incident_zip   508.461938\n",
       "Lot            429.205310\n",
       "YearBuilt      403.640013\n",
       "ResidFAR       349.584657\n",
       "BldgDepth      290.322999\n",
       "CommFAR        191.764598\n",
       "BldgArea       130.515137\n",
       "YearAlter1     116.807238\n",
       "NumFloors      116.555527\n",
       "LotDepth       102.634938\n",
       "ResArea         91.300202\n",
       "RetailArea      76.468738\n",
       "NumBldgs        51.670037\n",
       "OfficeArea      42.479324\n",
       "LotArea         31.293025\n",
       "BuiltFAR         1.358927"
      ]
     },
     "execution_count": 103,
     "metadata": {},
     "output_type": "execute_result"
    }
   ],
   "source": [
    "Stand_coef_linear_reg.fit(X,y)\n",
    "result = pd.DataFrame(list(zip(Stand_coef_linear_reg.steps[1][1].coef_, df3.columns)), \n",
    "                      columns=['coefficient', 'name']).set_index('name')\n",
    "np.abs(result).sort_values(by='coefficient', ascending=False)"
   ]
  },
  {
   "cell_type": "markdown",
   "metadata": {},
   "source": [
    "# Random Forest method"
   ]
  },
  {
   "cell_type": "code",
   "execution_count": 104,
   "metadata": {},
   "outputs": [
    {
     "data": {
      "text/plain": [
       "(86590, 17)"
      ]
     },
     "execution_count": 104,
     "metadata": {},
     "output_type": "execute_result"
    }
   ],
   "source": [
    "X.shape"
   ]
  },
  {
   "cell_type": "code",
   "execution_count": 105,
   "metadata": {},
   "outputs": [
    {
     "data": {
      "text/plain": [
       "(86590,)"
      ]
     },
     "execution_count": 105,
     "metadata": {},
     "output_type": "execute_result"
    }
   ],
   "source": [
    "y.shape"
   ]
  },
  {
   "cell_type": "code",
   "execution_count": 106,
   "metadata": {},
   "outputs": [],
   "source": [
    "X_train, X_test, y_train, y_test = train_test_split(X, y, \n",
    "                                                    test_size=0.2, \n",
    "                                                    random_state=42)"
   ]
  },
  {
   "cell_type": "code",
   "execution_count": 107,
   "metadata": {},
   "outputs": [
    {
     "data": {
      "text/plain": [
       "(69272, 17)"
      ]
     },
     "execution_count": 107,
     "metadata": {},
     "output_type": "execute_result"
    }
   ],
   "source": [
    "X_train.shape"
   ]
  },
  {
   "cell_type": "code",
   "execution_count": 108,
   "metadata": {},
   "outputs": [
    {
     "data": {
      "text/plain": [
       "(17318, 17)"
      ]
     },
     "execution_count": 108,
     "metadata": {},
     "output_type": "execute_result"
    }
   ],
   "source": [
    "X_test.shape"
   ]
  },
  {
   "cell_type": "code",
   "execution_count": 109,
   "metadata": {},
   "outputs": [],
   "source": [
    "forest = RandomForestRegressor(n_estimators=500, criterion='mse', \n",
    "                               random_state=42, n_jobs=-1)"
   ]
  },
  {
   "cell_type": "code",
   "execution_count": 110,
   "metadata": {},
   "outputs": [
    {
     "data": {
      "text/plain": [
       "RandomForestRegressor(bootstrap=True, criterion='mse', max_depth=None,\n",
       "           max_features='auto', max_leaf_nodes=None,\n",
       "           min_impurity_decrease=0.0, min_impurity_split=None,\n",
       "           min_samples_leaf=1, min_samples_split=2,\n",
       "           min_weight_fraction_leaf=0.0, n_estimators=500, n_jobs=-1,\n",
       "           oob_score=False, random_state=42, verbose=0, warm_start=False)"
      ]
     },
     "execution_count": 110,
     "metadata": {},
     "output_type": "execute_result"
    }
   ],
   "source": [
    "forest.fit(X_train, y_train)"
   ]
  },
  {
   "cell_type": "code",
   "execution_count": 111,
   "metadata": {},
   "outputs": [],
   "source": [
    "y_train_pred = forest.predict(X_train)"
   ]
  },
  {
   "cell_type": "code",
   "execution_count": 112,
   "metadata": {},
   "outputs": [],
   "source": [
    "y_test_pred = forest.predict(X_test)"
   ]
  },
  {
   "cell_type": "code",
   "execution_count": 113,
   "metadata": {},
   "outputs": [
    {
     "name": "stdout",
     "output_type": "stream",
     "text": [
      "MSE train: 70.4814, test: 632.4381\n"
     ]
    }
   ],
   "source": [
    "print(\"MSE train: {0:.4f}, test: {1:.4f}\".\\\n",
    "      format(mean_squared_error(y_train, y_train_pred), \n",
    "             mean_squared_error(y_test, y_test_pred)))"
   ]
  },
  {
   "cell_type": "code",
   "execution_count": 114,
   "metadata": {},
   "outputs": [
    {
     "name": "stdout",
     "output_type": "stream",
     "text": [
      "R^2 train: 1.0000, test: 0.9999\n"
     ]
    }
   ],
   "source": [
    "print(\"R^2 train: {0:.4f}, test: {1:.4f}\".\\\n",
    "      format(r2_score(y_train, y_train_pred),\n",
    "             r2_score(y_test, y_test_pred)))"
   ]
  },
  {
   "cell_type": "code",
   "execution_count": 115,
   "metadata": {},
   "outputs": [
    {
     "data": {
      "text/plain": [
       "array([2.84457614e-05, 8.71286612e-05, 3.56223127e-05, 8.25288986e-04,\n",
       "       3.21329533e-01, 3.20311396e-03, 2.59113727e-04, 7.30092761e-05,\n",
       "       2.67100873e-05, 1.64458431e-04, 1.00161855e-06, 1.96093747e-05,\n",
       "       6.54365491e-04, 2.29711814e-05, 3.11425742e-04, 5.13856076e-06,\n",
       "       6.72953064e-01])"
      ]
     },
     "execution_count": 115,
     "metadata": {},
     "output_type": "execute_result"
    }
   ],
   "source": [
    "forest.feature_importances_"
   ]
  },
  {
   "cell_type": "code",
   "execution_count": 116,
   "metadata": {},
   "outputs": [
    {
     "data": {
      "text/plain": [
       "Index(['BldgArea', 'BldgDepth', 'BuiltFAR', 'CommFAR', 'FacilFAR', 'Lot',\n",
       "       'LotArea', 'LotDepth', 'NumBldgs', 'NumFloors', 'OfficeArea', 'ResArea',\n",
       "       'ResidFAR', 'RetailArea', 'YearBuilt', 'YearAlter1', 'incident_zip'],\n",
       "      dtype='object')"
      ]
     },
     "execution_count": 116,
     "metadata": {},
     "output_type": "execute_result"
    }
   ],
   "source": [
    "X.columns"
   ]
  },
  {
   "cell_type": "code",
   "execution_count": 117,
   "metadata": {},
   "outputs": [],
   "source": [
    "result = pd.DataFrame(forest.feature_importances_, X.columns)\n",
    "result.columns = ['feature']"
   ]
  },
  {
   "cell_type": "code",
   "execution_count": 118,
   "metadata": {},
   "outputs": [
    {
     "data": {
      "text/html": [
       "<div>\n",
       "<style scoped>\n",
       "    .dataframe tbody tr th:only-of-type {\n",
       "        vertical-align: middle;\n",
       "    }\n",
       "\n",
       "    .dataframe tbody tr th {\n",
       "        vertical-align: top;\n",
       "    }\n",
       "\n",
       "    .dataframe thead th {\n",
       "        text-align: right;\n",
       "    }\n",
       "</style>\n",
       "<table border=\"1\" class=\"dataframe\">\n",
       "  <thead>\n",
       "    <tr style=\"text-align: right;\">\n",
       "      <th></th>\n",
       "      <th>feature</th>\n",
       "    </tr>\n",
       "  </thead>\n",
       "  <tbody>\n",
       "    <tr>\n",
       "      <th>incident_zip</th>\n",
       "      <td>0.672953</td>\n",
       "    </tr>\n",
       "    <tr>\n",
       "      <th>FacilFAR</th>\n",
       "      <td>0.321330</td>\n",
       "    </tr>\n",
       "    <tr>\n",
       "      <th>Lot</th>\n",
       "      <td>0.003203</td>\n",
       "    </tr>\n",
       "    <tr>\n",
       "      <th>CommFAR</th>\n",
       "      <td>0.000825</td>\n",
       "    </tr>\n",
       "    <tr>\n",
       "      <th>ResidFAR</th>\n",
       "      <td>0.000654</td>\n",
       "    </tr>\n",
       "    <tr>\n",
       "      <th>YearBuilt</th>\n",
       "      <td>0.000311</td>\n",
       "    </tr>\n",
       "    <tr>\n",
       "      <th>LotArea</th>\n",
       "      <td>0.000259</td>\n",
       "    </tr>\n",
       "    <tr>\n",
       "      <th>NumFloors</th>\n",
       "      <td>0.000164</td>\n",
       "    </tr>\n",
       "    <tr>\n",
       "      <th>BldgDepth</th>\n",
       "      <td>0.000087</td>\n",
       "    </tr>\n",
       "    <tr>\n",
       "      <th>LotDepth</th>\n",
       "      <td>0.000073</td>\n",
       "    </tr>\n",
       "    <tr>\n",
       "      <th>BuiltFAR</th>\n",
       "      <td>0.000036</td>\n",
       "    </tr>\n",
       "    <tr>\n",
       "      <th>BldgArea</th>\n",
       "      <td>0.000028</td>\n",
       "    </tr>\n",
       "    <tr>\n",
       "      <th>NumBldgs</th>\n",
       "      <td>0.000027</td>\n",
       "    </tr>\n",
       "    <tr>\n",
       "      <th>RetailArea</th>\n",
       "      <td>0.000023</td>\n",
       "    </tr>\n",
       "    <tr>\n",
       "      <th>ResArea</th>\n",
       "      <td>0.000020</td>\n",
       "    </tr>\n",
       "    <tr>\n",
       "      <th>YearAlter1</th>\n",
       "      <td>0.000005</td>\n",
       "    </tr>\n",
       "    <tr>\n",
       "      <th>OfficeArea</th>\n",
       "      <td>0.000001</td>\n",
       "    </tr>\n",
       "  </tbody>\n",
       "</table>\n",
       "</div>"
      ],
      "text/plain": [
       "               feature\n",
       "incident_zip  0.672953\n",
       "FacilFAR      0.321330\n",
       "Lot           0.003203\n",
       "CommFAR       0.000825\n",
       "ResidFAR      0.000654\n",
       "YearBuilt     0.000311\n",
       "LotArea       0.000259\n",
       "NumFloors     0.000164\n",
       "BldgDepth     0.000087\n",
       "LotDepth      0.000073\n",
       "BuiltFAR      0.000036\n",
       "BldgArea      0.000028\n",
       "NumBldgs      0.000027\n",
       "RetailArea    0.000023\n",
       "ResArea       0.000020\n",
       "YearAlter1    0.000005\n",
       "OfficeArea    0.000001"
      ]
     },
     "execution_count": 118,
     "metadata": {},
     "output_type": "execute_result"
    }
   ],
   "source": [
    "result.sort_values(by='feature', ascending=False)"
   ]
  },
  {
   "cell_type": "code",
   "execution_count": 119,
   "metadata": {},
   "outputs": [
    {
     "data": {
      "text/plain": [
       "<matplotlib.axes._subplots.AxesSubplot at 0x1eb6ce0f588>"
      ]
     },
     "execution_count": 119,
     "metadata": {},
     "output_type": "execute_result"
    },
    {
     "data": {
      "text/plain": [
       "<Figure size 1440x720 with 0 Axes>"
      ]
     },
     "metadata": {},
     "output_type": "display_data"
    },
    {
     "data": {
      "image/png": "[encoded data removed]",
      "text/plain": [
       "<Figure size 432x288 with 1 Axes>"
      ]
     },
     "metadata": {},
     "output_type": "display_data"
    }
   ],
   "source": [
    "plt.figure(figsize=(20,10))\n",
    "result.sort_values(by='feature', ascending=False).plot(kind='bar')"
   ]
  },
  {
   "cell_type": "markdown",
   "metadata": {},
   "source": [
    "Feature importance found are incident_zip and FacilFAR using Random Forest."
   ]
  },
  {
   "cell_type": "markdown",
   "metadata": {},
   "source": [
    "# XGBoost method"
   ]
  },
  {
   "cell_type": "code",
   "execution_count": 120,
   "metadata": {},
   "outputs": [],
   "source": [
    "xgb_reg = XGBRegressor(max_depth=5,n_estimators=1000,n_jobs=-1)"
   ]
  },
  {
   "cell_type": "code",
   "execution_count": 121,
   "metadata": {},
   "outputs": [
    {
     "data": {
      "text/plain": [
       "XGBRegressor(base_score=0.5, booster='gbtree', colsample_bylevel=1,\n",
       "       colsample_bytree=1, gamma=0, learning_rate=0.1, max_delta_step=0,\n",
       "       max_depth=5, min_child_weight=1, missing=None, n_estimators=1000,\n",
       "       n_jobs=-1, nthread=None, objective='reg:linear', random_state=0,\n",
       "       reg_alpha=0, reg_lambda=1, scale_pos_weight=1, seed=None,\n",
       "       silent=True, subsample=1)"
      ]
     },
     "execution_count": 121,
     "metadata": {},
     "output_type": "execute_result"
    }
   ],
   "source": [
    "xgb_reg.fit(X_train, y_train)"
   ]
  },
  {
   "cell_type": "code",
   "execution_count": 122,
   "metadata": {},
   "outputs": [],
   "source": [
    "y_train_pred = xgb_reg.predict(X_train)"
   ]
  },
  {
   "cell_type": "code",
   "execution_count": 123,
   "metadata": {},
   "outputs": [],
   "source": [
    "y_test_pred = xgb_reg.predict(X_test)"
   ]
  },
  {
   "cell_type": "code",
   "execution_count": 124,
   "metadata": {},
   "outputs": [
    {
     "name": "stdout",
     "output_type": "stream",
     "text": [
      "MSE train: 5.2236, test: 59.2027\n"
     ]
    }
   ],
   "source": [
    "print(\"MSE train: {0:.4f}, test: {1:.4f}\".\\\n",
    "      format(mean_squared_error(y_train, y_train_pred), \n",
    "             mean_squared_error(y_test, y_test_pred)))"
   ]
  },
  {
   "cell_type": "code",
   "execution_count": 125,
   "metadata": {},
   "outputs": [
    {
     "name": "stdout",
     "output_type": "stream",
     "text": [
      "R^2 train: 1.0000, test: 1.0000\n"
     ]
    }
   ],
   "source": [
    "print(\"R^2 train: {0:.4f}, test: {1:.4f}\".\\\n",
    "      format(r2_score(y_train, y_train_pred),\n",
    "             r2_score(y_test, y_test_pred)))"
   ]
  },
  {
   "cell_type": "code",
   "execution_count": 126,
   "metadata": {},
   "outputs": [
    {
     "data": {
      "text/plain": [
       "<Figure size 1440x720 with 0 Axes>"
      ]
     },
     "metadata": {},
     "output_type": "display_data"
    },
    {
     "data": {
      "image/png": "[encoded data removed]",
      "text/plain": [
       "<Figure size 432x288 with 1 Axes>"
      ]
     },
     "metadata": {},
     "output_type": "display_data"
    }
   ],
   "source": [
    "# plot feature importance\n",
    "\n",
    "plt.figure(figsize=(20,10))\n",
    "plot_importance(xgb_reg, max_num_features = 20)\n",
    "plt.show()"
   ]
  },
  {
   "cell_type": "markdown",
   "metadata": {},
   "source": [
    "## Concluding Remarks - Some of the building characteristics like Incident Zip, FacilFAR, Lot seems to have some relationship with Number of Heating Complaints as verified by Random Forest and XGBoost algorithms."
   ]
  },
  {
   "cell_type": "code",
   "execution_count": null,
   "metadata": {},
   "outputs": [],
   "source": []
  }
 ],
 "metadata": {
  "kernelspec": {
   "display_name": "Python 3",
   "language": "python",
   "name": "python3"
  },
  "language_info": {
   "codemirror_mode": {
    "name": "ipython",
    "version": 3
   },
   "file_extension": ".py",
   "mimetype": "text/x-python",
   "name": "python",
   "nbconvert_exporter": "python",
   "pygments_lexer": "ipython3",
   "version": "3.6.7"
  }
 },
 "nbformat": 4,
 "nbformat_minor": 2
}
