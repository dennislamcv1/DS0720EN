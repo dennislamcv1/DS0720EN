{
 "cells": [
  {
   "cell_type": "markdown",
   "metadata": {},
   "source": [
    "# This Notebook Answers Question 3 - Does the type of Complaints have obvious relationship with any particular characteristic(s) of the Houses ?"
   ]
  },
  {
   "cell_type": "markdown",
   "metadata": {},
   "source": [
    "# <font color=\"maroon\">Primary Land Use Tax Lot Output (PLUTO)</font>\n",
    "<font size=4>Data file contains:\n",
    "<li>Tax Lot, Building, and Geographic/Political/Administrative Districts information.</li>\n",
    "</font>\n",
    "<BR>\n",
    "<font size=4>Borough Code:\n",
    "<li>BX -- Bronx</li>\n",
    "<li>BK -- Brooklyn</li>\n",
    "<li>MN -- Manhattan</li>\n",
    "<li>QN -- Queens</li>\n",
    "<li>SI -- Staten Island</li>\n",
    "</font>"
   ]
  },
  {
   "cell_type": "code",
   "execution_count": 1,
   "metadata": {},
   "outputs": [
    {
     "name": "stdout",
     "output_type": "stream",
     "text": [
      "Requirement already up-to-date: pip in /opt/conda/envs/DSX-Python35/lib/python3.5/site-packages (18.1)\r\n"
     ]
    }
   ],
   "source": [
    "!pip install --upgrade pip"
   ]
  },
  {
   "cell_type": "code",
   "execution_count": 2,
   "metadata": {},
   "outputs": [
    {
     "name": "stdout",
     "output_type": "stream",
     "text": [
      "Requirement already satisfied: missingno in /opt/conda/envs/DSX-Python35/lib/python3.5/site-packages (0.4.1)\n",
      "Requirement already satisfied: numpy in /opt/conda/envs/DSX-Python35/lib/python3.5/site-packages (from missingno) (1.13.3)\n",
      "Requirement already satisfied: matplotlib in /opt/conda/envs/DSX-Python35/lib/python3.5/site-packages (from missingno) (3.0.2)\n",
      "Requirement already satisfied: seaborn in /opt/conda/envs/DSX-Python35/lib/python3.5/site-packages (from missingno) (0.8)\n",
      "Requirement already satisfied: scipy in /opt/conda/envs/DSX-Python35/lib/python3.5/site-packages (from missingno) (1.0.0)\n",
      "Requirement already satisfied: python-dateutil>=2.1 in /opt/conda/envs/DSX-Python35/lib/python3.5/site-packages (from matplotlib->missingno) (2.6.1)\n",
      "Requirement already satisfied: cycler>=0.10 in /opt/conda/envs/DSX-Python35/lib/python3.5/site-packages (from matplotlib->missingno) (0.10.0)\n",
      "Requirement already satisfied: pyparsing!=2.0.4,!=2.1.2,!=2.1.6,>=2.0.1 in /opt/conda/envs/DSX-Python35/lib/python3.5/site-packages (from matplotlib->missingno) (2.2.0)\n",
      "Requirement already satisfied: kiwisolver>=1.0.1 in /opt/conda/envs/DSX-Python35/lib/python3.5/site-packages (from matplotlib->missingno) (1.0.1)\n",
      "Requirement already satisfied: pandas in /opt/conda/envs/DSX-Python35/lib/python3.5/site-packages (from seaborn->missingno) (0.21.0)\n",
      "Requirement already satisfied: six>=1.5 in /opt/conda/envs/DSX-Python35/lib/python3.5/site-packages (from python-dateutil>=2.1->matplotlib->missingno) (1.11.0)\n",
      "Requirement already satisfied: setuptools in /opt/conda/envs/DSX-Python35/lib/python3.5/site-packages (from kiwisolver>=1.0.1->matplotlib->missingno) (36.5.0.post20170921)\n",
      "Requirement already satisfied: pytz>=2011k in /opt/conda/envs/DSX-Python35/lib/python3.5/site-packages (from pandas->seaborn->missingno) (2018.3)\n"
     ]
    }
   ],
   "source": [
    "!pip install missingno"
   ]
  },
  {
   "cell_type": "code",
   "execution_count": 3,
   "metadata": {},
   "outputs": [
    {
     "name": "stdout",
     "output_type": "stream",
     "text": [
      "Requirement already up-to-date: matplotlib in /opt/conda/envs/DSX-Python35/lib/python3.5/site-packages (3.0.2)\r\n",
      "Requirement already satisfied, skipping upgrade: numpy>=1.10.0 in /opt/conda/envs/DSX-Python35/lib/python3.5/site-packages (from matplotlib) (1.13.3)\r\n",
      "Requirement already satisfied, skipping upgrade: cycler>=0.10 in /opt/conda/envs/DSX-Python35/lib/python3.5/site-packages (from matplotlib) (0.10.0)\r\n",
      "Requirement already satisfied, skipping upgrade: python-dateutil>=2.1 in /opt/conda/envs/DSX-Python35/lib/python3.5/site-packages (from matplotlib) (2.6.1)\r\n",
      "Requirement already satisfied, skipping upgrade: kiwisolver>=1.0.1 in /opt/conda/envs/DSX-Python35/lib/python3.5/site-packages (from matplotlib) (1.0.1)\r\n",
      "Requirement already satisfied, skipping upgrade: pyparsing!=2.0.4,!=2.1.2,!=2.1.6,>=2.0.1 in /opt/conda/envs/DSX-Python35/lib/python3.5/site-packages (from matplotlib) (2.2.0)\r\n",
      "Requirement already satisfied, skipping upgrade: six in /opt/conda/envs/DSX-Python35/lib/python3.5/site-packages (from cycler>=0.10->matplotlib) (1.11.0)\r\n",
      "Requirement already satisfied, skipping upgrade: setuptools in /opt/conda/envs/DSX-Python35/lib/python3.5/site-packages (from kiwisolver>=1.0.1->matplotlib) (36.5.0.post20170921)\r\n"
     ]
    }
   ],
   "source": [
    "! pip install --upgrade matplotlib"
   ]
  },
  {
   "cell_type": "code",
   "execution_count": 4,
   "metadata": {},
   "outputs": [
    {
     "name": "stdout",
     "output_type": "stream",
     "text": [
      "Requirement already up-to-date: scikit-learn in /opt/conda/envs/DSX-Python35/lib/python3.5/site-packages (0.20.2)\n",
      "Requirement already satisfied, skipping upgrade: scipy>=0.13.3 in /opt/conda/envs/DSX-Python35/lib/python3.5/site-packages (from scikit-learn) (1.0.0)\n",
      "Requirement already satisfied, skipping upgrade: numpy>=1.8.2 in /opt/conda/envs/DSX-Python35/lib/python3.5/site-packages (from scikit-learn) (1.13.3)\n"
     ]
    }
   ],
   "source": [
    "!pip install --upgrade scikit-learn"
   ]
  },
  {
   "cell_type": "code",
   "execution_count": 5,
   "metadata": {},
   "outputs": [
    {
     "name": "stdout",
     "output_type": "stream",
     "text": [
      "Requirement already satisfied: xgboost==0.80 in /opt/conda/envs/DSX-Python35/lib/python3.5/site-packages (0.80)\n",
      "Requirement already satisfied: numpy in /opt/conda/envs/DSX-Python35/lib/python3.5/site-packages (from xgboost==0.80) (1.13.3)\n",
      "Requirement already satisfied: scipy in /opt/conda/envs/DSX-Python35/lib/python3.5/site-packages (from xgboost==0.80) (1.0.0)\n"
     ]
    }
   ],
   "source": [
    "!pip install xgboost==0.80"
   ]
  },
  {
   "cell_type": "code",
   "execution_count": 6,
   "metadata": {},
   "outputs": [
    {
     "name": "stdout",
     "output_type": "stream",
     "text": [
      "Requirement already satisfied: imblearn in /opt/conda/envs/DSX-Python35/lib/python3.5/site-packages (0.0)\r\n",
      "Requirement already satisfied: imbalanced-learn in /opt/conda/envs/DSX-Python35/lib/python3.5/site-packages (from imblearn) (0.4.3)\r\n",
      "Requirement already satisfied: scikit-learn>=0.20 in /opt/conda/envs/DSX-Python35/lib/python3.5/site-packages (from imbalanced-learn->imblearn) (0.20.2)\r\n",
      "Requirement already satisfied: scipy>=0.13.3 in /opt/conda/envs/DSX-Python35/lib/python3.5/site-packages (from imbalanced-learn->imblearn) (1.0.0)\r\n",
      "Requirement already satisfied: numpy>=1.8.2 in /opt/conda/envs/DSX-Python35/lib/python3.5/site-packages (from imbalanced-learn->imblearn) (1.13.3)\r\n"
     ]
    }
   ],
   "source": [
    "!pip install imblearn"
   ]
  },
  {
   "cell_type": "code",
   "execution_count": 7,
   "metadata": {},
   "outputs": [
    {
     "name": "stdout",
     "output_type": "stream",
     "text": [
      "Requirement already satisfied: TextBlob in /opt/conda/envs/DSX-Python35/lib/python3.5/site-packages (0.15.2)\r\n",
      "Requirement already satisfied: nltk>=3.1 in /opt/conda/envs/DSX-Python35/lib/python3.5/site-packages (from TextBlob) (3.2.4)\r\n",
      "Requirement already satisfied: six in /opt/conda/envs/DSX-Python35/lib/python3.5/site-packages (from nltk>=3.1->TextBlob) (1.11.0)\r\n"
     ]
    }
   ],
   "source": [
    "!pip install TextBlob"
   ]
  },
  {
   "cell_type": "code",
   "execution_count": 8,
   "metadata": {},
   "outputs": [
    {
     "name": "stdout",
     "output_type": "stream",
     "text": [
      "Requirement already satisfied: pandas-profiling in /opt/conda/envs/DSX-Python35/lib/python3.5/site-packages (1.4.1)\n",
      "Requirement already satisfied: jinja2>=2.8 in /opt/conda/envs/DSX-Python35/lib/python3.5/site-packages (from pandas-profiling) (2.9.6)\n",
      "Requirement already satisfied: six>=1.9 in /opt/conda/envs/DSX-Python35/lib/python3.5/site-packages (from pandas-profiling) (1.11.0)\n",
      "Requirement already satisfied: matplotlib>=1.4 in /opt/conda/envs/DSX-Python35/lib/python3.5/site-packages (from pandas-profiling) (3.0.2)\n",
      "Requirement already satisfied: pandas>=0.19 in /opt/conda/envs/DSX-Python35/lib/python3.5/site-packages (from pandas-profiling) (0.21.0)\n",
      "Requirement already satisfied: MarkupSafe>=0.23 in /opt/conda/envs/DSX-Python35/lib/python3.5/site-packages (from jinja2>=2.8->pandas-profiling) (1.0)\n",
      "Requirement already satisfied: kiwisolver>=1.0.1 in /opt/conda/envs/DSX-Python35/lib/python3.5/site-packages (from matplotlib>=1.4->pandas-profiling) (1.0.1)\n",
      "Requirement already satisfied: pyparsing!=2.0.4,!=2.1.2,!=2.1.6,>=2.0.1 in /opt/conda/envs/DSX-Python35/lib/python3.5/site-packages (from matplotlib>=1.4->pandas-profiling) (2.2.0)\n",
      "Requirement already satisfied: numpy>=1.10.0 in /opt/conda/envs/DSX-Python35/lib/python3.5/site-packages (from matplotlib>=1.4->pandas-profiling) (1.13.3)\n",
      "Requirement already satisfied: cycler>=0.10 in /opt/conda/envs/DSX-Python35/lib/python3.5/site-packages (from matplotlib>=1.4->pandas-profiling) (0.10.0)\n",
      "Requirement already satisfied: python-dateutil>=2.1 in /opt/conda/envs/DSX-Python35/lib/python3.5/site-packages (from matplotlib>=1.4->pandas-profiling) (2.6.1)\n",
      "Requirement already satisfied: pytz>=2011k in /opt/conda/envs/DSX-Python35/lib/python3.5/site-packages (from pandas>=0.19->pandas-profiling) (2018.3)\n",
      "Requirement already satisfied: setuptools in /opt/conda/envs/DSX-Python35/lib/python3.5/site-packages (from kiwisolver>=1.0.1->matplotlib>=1.4->pandas-profiling) (36.5.0.post20170921)\n"
     ]
    }
   ],
   "source": [
    "!pip install pandas-profiling "
   ]
  },
  {
   "cell_type": "code",
   "execution_count": 9,
   "metadata": {},
   "outputs": [
    {
     "name": "stderr",
     "output_type": "stream",
     "text": [
      "/opt/conda/envs/DSX-Python35/lib/python3.5/site-packages/statsmodels/compat/pandas.py:56: FutureWarning: The pandas.core.datetools module is deprecated and will be removed in a future version. Please use the pandas.tseries module instead.\n",
      "  from pandas.core import datetools\n"
     ]
    }
   ],
   "source": [
    "import matplotlib.pyplot as plt\n",
    "import pandas as pd\n",
    "import numpy as np\n",
    "import scipy as sp\n",
    "import zipfile, requests, io, os, sys, types, time\n",
    "import seaborn as sns\n",
    "import matplotlib.cm as cm\n",
    "import statsmodels.api as sm\n",
    "import itertools\n",
    "import matplotlib\n",
    "from sklearn.preprocessing import MinMaxScaler\n",
    "from sklearn.preprocessing import StandardScaler\n",
    "from sklearn.preprocessing import Normalizer\n",
    "from sklearn.preprocessing import Binarizer\n",
    "matplotlib.rcParams['axes.labelsize'] = 14\n",
    "matplotlib.rcParams['xtick.labelsize'] = 12\n",
    "matplotlib.rcParams['ytick.labelsize'] = 12\n",
    "matplotlib.rcParams['text.color'] = 'k'\n",
    "\n",
    "\n",
    "from scipy import stats\n",
    "from scipy.stats import norm, skew \n",
    "\n",
    "from sklearn.pipeline import Pipeline\n",
    "from sklearn.model_selection import train_test_split\n",
    "import seaborn as sns\n",
    "\n",
    "\n",
    "from sklearn.model_selection import train_test_split, KFold, cross_val_score, cross_val_predict\n",
    "from sklearn.linear_model import Lasso\n",
    "from sklearn.ensemble import RandomForestRegressor\n",
    "#import lightgbm as lgb\n",
    "from xgboost import XGBRegressor\n",
    "\n",
    "from sklearn.preprocessing import RobustScaler, StandardScaler, MaxAbsScaler\n",
    "from sklearn.metrics import mean_squared_error\n",
    "\n",
    "\n",
    "from dateutil import parser, rrule\n",
    "from datetime import datetime, time, date\n",
    "from sklearn.ensemble import RandomForestClassifier\n",
    "from sklearn.metrics import mean_squared_error, r2_score, precision_score, \\\n",
    "    recall_score, confusion_matrix, classification_report, \\\n",
    "    accuracy_score, f1_score\n",
    "\n",
    "from sklearn.linear_model import LogisticRegression\n",
    "from imblearn.over_sampling import SMOTE\n",
    "\n",
    "from IPython.display import display\n",
    "%matplotlib inline\n",
    "\n",
    "pd.options.display.float_format = '{:20,.3f}'.format\n",
    "pd.options.display.max_columns = None\n",
    "pd.options.display.max_colwidth = 1000\n",
    "np.set_printoptions(precision=3)"
   ]
  },
  {
   "cell_type": "markdown",
   "metadata": {},
   "source": [
    "# <font color=\"blue\" size=\"4\">Next We shall download the building data, Pluto Data, that was stores in Cloud Object Store atthe end of lab of Chapter 1.</font>"
   ]
  },
  {
   "cell_type": "code",
   "execution_count": 10,
   "metadata": {},
   "outputs": [],
   "source": [
    "# The code was removed by Watson Studio for sharing."
   ]
  },
  {
   "cell_type": "markdown",
   "metadata": {},
   "source": [
    "#### Since we ahave already identifiedthat Bronx has the highest heating complaints we shall only download the data for Bronx borough"
   ]
  },
  {
   "cell_type": "code",
   "execution_count": 11,
   "metadata": {},
   "outputs": [],
   "source": [
    "client_4583a2827cdd4084aebc758e0b87cb12.download_file(Bucket=bucket,Key='pluto_bx_raw_cos.pkl',Filename='./pluto_bx_raw_local.pkl')"
   ]
  },
  {
   "cell_type": "code",
   "execution_count": 12,
   "metadata": {},
   "outputs": [
    {
     "data": {
      "text/plain": [
       "(89854, 87)"
      ]
     },
     "execution_count": 12,
     "metadata": {},
     "output_type": "execute_result"
    }
   ],
   "source": [
    "df_bx = pd.read_pickle('./pluto_bx_raw_local.pkl')\n",
    "df_bx.shape"
   ]
  },
  {
   "cell_type": "code",
   "execution_count": 13,
   "metadata": {},
   "outputs": [
    {
     "name": "stdout",
     "output_type": "stream",
     "text": [
      "<class 'pandas.core.frame.DataFrame'>\n",
      "RangeIndex: 89854 entries, 0 to 89853\n",
      "Data columns (total 87 columns):\n",
      "Borough                 89854 non-null object\n",
      "Block                   89854 non-null int64\n",
      "Lot                     89854 non-null int64\n",
      "CD                      89854 non-null int64\n",
      "CT2010                  89447 non-null float64\n",
      "CB2010                  87342 non-null float64\n",
      "SchoolDist              89695 non-null float64\n",
      "Council                 89649 non-null float64\n",
      "ZipCode                 89525 non-null float64\n",
      "FireComp                89568 non-null object\n",
      "PolicePrct              89692 non-null float64\n",
      "HealthCenterDistrict    89727 non-null float64\n",
      "HealthArea              89630 non-null float64\n",
      "SanitBoro               89235 non-null float64\n",
      "SanitDistrict           89238 non-null float64\n",
      "SanitSub                88789 non-null object\n",
      "Address                 89785 non-null object\n",
      "ZoneDist1               89795 non-null object\n",
      "ZoneDist2               2553 non-null object\n",
      "ZoneDist3               34 non-null object\n",
      "ZoneDist4               2 non-null object\n",
      "Overlay1                8827 non-null object\n",
      "Overlay2                96 non-null object\n",
      "SPDist1                 4602 non-null object\n",
      "SPDist2                 0 non-null float64\n",
      "SPDist3                 0 non-null float64\n",
      "LtdHeight               0 non-null float64\n",
      "SplitZone               89788 non-null object\n",
      "BldgClass               89788 non-null object\n",
      "LandUse                 89440 non-null float64\n",
      "Easements               89854 non-null int64\n",
      "OwnerType               16374 non-null object\n",
      "OwnerName               89280 non-null object\n",
      "LotArea                 89854 non-null int64\n",
      "BldgArea                89854 non-null int64\n",
      "ComArea                 89854 non-null int64\n",
      "ResArea                 89854 non-null int64\n",
      "OfficeArea              89854 non-null int64\n",
      "RetailArea              89854 non-null int64\n",
      "GarageArea              89854 non-null int64\n",
      "StrgeArea               89854 non-null int64\n",
      "FactryArea              89854 non-null int64\n",
      "OtherArea               89854 non-null int64\n",
      "AreaSource              89854 non-null int64\n",
      "NumBldgs                89854 non-null int64\n",
      "NumFloors               89854 non-null float64\n",
      "UnitsRes                89854 non-null int64\n",
      "UnitsTotal              89854 non-null int64\n",
      "LotFront                89854 non-null float64\n",
      "LotDepth                89854 non-null float64\n",
      "BldgFront               89854 non-null float64\n",
      "BldgDepth               89854 non-null float64\n",
      "Ext                     29034 non-null object\n",
      "ProxCode                89788 non-null float64\n",
      "IrrLotCode              89788 non-null object\n",
      "LotType                 89788 non-null float64\n",
      "BsmtCode                89788 non-null float64\n",
      "AssessLand              89854 non-null int64\n",
      "AssessTot               89854 non-null int64\n",
      "ExemptLand              89854 non-null int64\n",
      "ExemptTot               89854 non-null int64\n",
      "YearBuilt               89854 non-null int64\n",
      "YearAlter1              89854 non-null int64\n",
      "YearAlter2              89854 non-null int64\n",
      "HistDist                854 non-null object\n",
      "Landmark                111 non-null object\n",
      "BuiltFAR                89854 non-null float64\n",
      "ResidFAR                89854 non-null float64\n",
      "CommFAR                 89854 non-null float64\n",
      "FacilFAR                89854 non-null float64\n",
      "BoroCode                89854 non-null int64\n",
      "BBL                     89854 non-null int64\n",
      "CondoNo                 89854 non-null int64\n",
      "Tract2010               89854 non-null int64\n",
      "XCoord                  86595 non-null float64\n",
      "YCoord                  86595 non-null float64\n",
      "ZoneMap                 89817 non-null object\n",
      "ZMCode                  1688 non-null object\n",
      "Sanborn                 89735 non-null object\n",
      "TaxMap                  89735 non-null float64\n",
      "EDesigNum               1470 non-null object\n",
      "APPBBL                  89788 non-null float64\n",
      "APPDate                 10969 non-null object\n",
      "PLUTOMapID              89854 non-null int64\n",
      "FIRM07_FLAG             3511 non-null float64\n",
      "PFIRM15_FLAG            3332 non-null float64\n",
      "Version                 89854 non-null object\n",
      "dtypes: float64(32), int64(30), object(25)\n",
      "memory usage: 59.6+ MB\n"
     ]
    }
   ],
   "source": [
    "df_bx.info()"
   ]
  },
  {
   "cell_type": "markdown",
   "metadata": {},
   "source": [
    "#### Let us select the columns as recommended in the instruction"
   ]
  },
  {
   "cell_type": "code",
   "execution_count": 14,
   "metadata": {},
   "outputs": [],
   "source": [
    "df_bx = df_bx[['Address','BldgArea','BldgDepth','BuiltFAR',\n",
    "                'CommFAR','FacilFAR', \n",
    "                'Lot','LotArea','LotDepth','NumBldgs','NumFloors',\n",
    "                'OfficeArea','ResArea','ResidFAR','RetailArea',\n",
    "                'YearBuilt','YearAlter1','ZipCode', 'YCoord', 'XCoord'\n",
    "                ]]"
   ]
  },
  {
   "cell_type": "code",
   "execution_count": 15,
   "metadata": {},
   "outputs": [
    {
     "data": {
      "text/html": [
       "<div>\n",
       "<style scoped>\n",
       "    .dataframe tbody tr th:only-of-type {\n",
       "        vertical-align: middle;\n",
       "    }\n",
       "\n",
       "    .dataframe tbody tr th {\n",
       "        vertical-align: top;\n",
       "    }\n",
       "\n",
       "    .dataframe thead th {\n",
       "        text-align: right;\n",
       "    }\n",
       "</style>\n",
       "<table border=\"1\" class=\"dataframe\">\n",
       "  <thead>\n",
       "    <tr style=\"text-align: right;\">\n",
       "      <th></th>\n",
       "      <th>Address</th>\n",
       "      <th>BldgArea</th>\n",
       "      <th>BldgDepth</th>\n",
       "      <th>BuiltFAR</th>\n",
       "      <th>CommFAR</th>\n",
       "      <th>FacilFAR</th>\n",
       "      <th>Lot</th>\n",
       "      <th>LotArea</th>\n",
       "      <th>LotDepth</th>\n",
       "      <th>NumBldgs</th>\n",
       "      <th>NumFloors</th>\n",
       "      <th>OfficeArea</th>\n",
       "      <th>ResArea</th>\n",
       "      <th>ResidFAR</th>\n",
       "      <th>RetailArea</th>\n",
       "      <th>YearBuilt</th>\n",
       "      <th>YearAlter1</th>\n",
       "      <th>ZipCode</th>\n",
       "      <th>YCoord</th>\n",
       "      <th>XCoord</th>\n",
       "    </tr>\n",
       "  </thead>\n",
       "  <tbody>\n",
       "    <tr>\n",
       "      <th>0</th>\n",
       "      <td>122 BRUCKNER BOULEVARD</td>\n",
       "      <td>0</td>\n",
       "      <td>0.000</td>\n",
       "      <td>0.000</td>\n",
       "      <td>5.000</td>\n",
       "      <td>6.500</td>\n",
       "      <td>1</td>\n",
       "      <td>15000</td>\n",
       "      <td>200.000</td>\n",
       "      <td>1</td>\n",
       "      <td>0.000</td>\n",
       "      <td>0</td>\n",
       "      <td>0</td>\n",
       "      <td>6.020</td>\n",
       "      <td>0</td>\n",
       "      <td>0</td>\n",
       "      <td>0</td>\n",
       "      <td>10,454.000</td>\n",
       "      <td>232,162.000</td>\n",
       "      <td>1,005,957.000</td>\n",
       "    </tr>\n",
       "    <tr>\n",
       "      <th>1</th>\n",
       "      <td>126 BRUCKNER BOULEVARD</td>\n",
       "      <td>752</td>\n",
       "      <td>16.000</td>\n",
       "      <td>0.050</td>\n",
       "      <td>5.000</td>\n",
       "      <td>6.500</td>\n",
       "      <td>4</td>\n",
       "      <td>13770</td>\n",
       "      <td>100.000</td>\n",
       "      <td>2</td>\n",
       "      <td>1.000</td>\n",
       "      <td>272</td>\n",
       "      <td>0</td>\n",
       "      <td>6.020</td>\n",
       "      <td>0</td>\n",
       "      <td>1931</td>\n",
       "      <td>1994</td>\n",
       "      <td>10,454.000</td>\n",
       "      <td>232,156.000</td>\n",
       "      <td>1,006,076.000</td>\n",
       "    </tr>\n",
       "  </tbody>\n",
       "</table>\n",
       "</div>"
      ],
      "text/plain": [
       "                  Address  BldgArea            BldgDepth             BuiltFAR  \\\n",
       "0  122 BRUCKNER BOULEVARD         0                0.000                0.000   \n",
       "1  126 BRUCKNER BOULEVARD       752               16.000                0.050   \n",
       "\n",
       "               CommFAR             FacilFAR  Lot  LotArea  \\\n",
       "0                5.000                6.500    1    15000   \n",
       "1                5.000                6.500    4    13770   \n",
       "\n",
       "              LotDepth  NumBldgs            NumFloors  OfficeArea  ResArea  \\\n",
       "0              200.000         1                0.000           0        0   \n",
       "1              100.000         2                1.000         272        0   \n",
       "\n",
       "              ResidFAR  RetailArea  YearBuilt  YearAlter1  \\\n",
       "0                6.020           0          0           0   \n",
       "1                6.020           0       1931        1994   \n",
       "\n",
       "               ZipCode               YCoord               XCoord  \n",
       "0           10,454.000          232,162.000        1,005,957.000  \n",
       "1           10,454.000          232,156.000        1,006,076.000  "
      ]
     },
     "execution_count": 15,
     "metadata": {},
     "output_type": "execute_result"
    }
   ],
   "source": [
    "df_bx.head(2)"
   ]
  },
  {
   "cell_type": "code",
   "execution_count": 16,
   "metadata": {
    "scrolled": true
   },
   "outputs": [],
   "source": [
    "df_bx['ZipCode']              = df_bx['ZipCode'].fillna(0).astype(int)\n",
    "df_bx['NumFloors']            = df_bx['NumFloors'].fillna(0).astype(int)\n",
    "df_bx['NumBldgs']             = df_bx['NumBldgs'].fillna(0).astype(int)\n",
    "df_bx['LotDepth']             = df_bx['LotDepth'].fillna(0).astype(int)\n",
    "df_bx['BldgDepth']            = df_bx['BldgDepth'].fillna(0).astype(int)\n",
    "df_bx['BldgArea']             = df_bx['BldgArea'].fillna(0).astype(int)\n",
    "df_bx['Lot']                  = df_bx['Lot'].fillna(0).astype(int)\n",
    "df_bx['LotArea']              = df_bx['LotArea'].fillna(0).astype(int)\n",
    "df_bx['BuiltFAR']             = df_bx['BuiltFAR'].fillna(0).astype(int)\n",
    "df_bx['ResidFAR']             = df_bx['ResidFAR'].fillna(0).astype(int)\n",
    "df_bx['CommFAR']              = df_bx['CommFAR'].fillna(0).astype(int)\n",
    "df_bx['FacilFAR']             = df_bx['FacilFAR'].fillna(0).astype(int)\n",
    "df_bx['OfficeArea']           = df_bx['OfficeArea'].fillna(0).astype(int)\n",
    "df_bx['ResArea']              = df_bx['ResArea'].fillna(0).astype(int)\n",
    "df_bx['RetailArea']           = df_bx['RetailArea'].fillna(0).astype(int)\n",
    "df_bx['XCoord']               = df_bx['XCoord'].fillna(0).astype(int)\n",
    "df_bx['YCoord']               = df_bx['YCoord'].fillna(0).astype(int)"
   ]
  },
  {
   "cell_type": "markdown",
   "metadata": {},
   "source": [
    "#### Next let us get the complaint data that we saved in Cloud Object Store at the end of previous Notebook"
   ]
  },
  {
   "cell_type": "code",
   "execution_count": 68,
   "metadata": {},
   "outputs": [],
   "source": [
    "client_4583a2827cdd4084aebc758e0b87cb12.download_file(Bucket=bucket,Key='DataFromNoteBookQ2_cos.pkl',Filename='./DataFromNoteBookQ2_local.pkl')"
   ]
  },
  {
   "cell_type": "code",
   "execution_count": 69,
   "metadata": {},
   "outputs": [
    {
     "data": {
      "text/plain": [
       "(520749, 19)"
      ]
     },
     "execution_count": 69,
     "metadata": {},
     "output_type": "execute_result"
    }
   ],
   "source": [
    "df_complaint = pd.read_pickle('./DataFromNoteBookQ2_local.pkl')\n",
    "df_complaint.shape"
   ]
  },
  {
   "cell_type": "markdown",
   "metadata": {},
   "source": [
    "# <font color=\"maroon\">Join PLUTO and Complaint dataset based on address</font>"
   ]
  },
  {
   "cell_type": "markdown",
   "metadata": {},
   "source": [
    "# <font size=\"4\" color=\"blue\">Let's see how many addresses in complaints can be found in PLUTO dataset </font>"
   ]
  },
  {
   "cell_type": "code",
   "execution_count": 70,
   "metadata": {},
   "outputs": [
    {
     "name": "stdout",
     "output_type": "stream",
     "text": [
      "(520749, 19)\n",
      "(89854, 20)\n"
     ]
    }
   ],
   "source": [
    "print(df_complaint.shape)\n",
    "print(df_bx.shape)"
   ]
  },
  {
   "cell_type": "code",
   "execution_count": 71,
   "metadata": {},
   "outputs": [
    {
     "name": "stdout",
     "output_type": "stream",
     "text": [
      "Complaints incident address found in PLUTO dataset percentage: 80.682%\n"
     ]
    }
   ],
   "source": [
    "perc=((df_complaint['incident_address'].isin(df_bx['Address']).sum())/df_complaint.shape[0])*100\n",
    "\n",
    "print('Complaints incident address found in PLUTO dataset percentage: {:.3f}%'.format(perc))"
   ]
  },
  {
   "cell_type": "markdown",
   "metadata": {},
   "source": [
    "# <font color=\"blue\" size=\"4\">There is 80.682% Brooklyn complaint incident address can be found in Pluto dataset. (FYI. You may get a different number due to when the dataset was pulled from online.) </font>"
   ]
  },
  {
   "cell_type": "markdown",
   "metadata": {},
   "source": [
    "#### Removing Duplicates"
   ]
  },
  {
   "cell_type": "code",
   "execution_count": 72,
   "metadata": {},
   "outputs": [
    {
     "name": "stdout",
     "output_type": "stream",
     "text": [
      "(89785, 20)\n",
      "(87384, 20)\n"
     ]
    }
   ],
   "source": [
    "df_pluto_bx = df_bx[df_bx['Address'].notnull()]\n",
    "print(df_pluto_bx.shape)\n",
    "df_pluto_bx = df_pluto_bx.drop_duplicates(subset=['Address','ZipCode'], keep='first') #or last\n",
    "print(df_pluto_bx.shape)"
   ]
  },
  {
   "cell_type": "markdown",
   "metadata": {},
   "source": [
    "#### Next let us aggregate the number of Complaints at each address level so that we can try finding out if there is any relationship between the number of complaints and building characteristics"
   ]
  },
  {
   "cell_type": "code",
   "execution_count": 73,
   "metadata": {},
   "outputs": [],
   "source": [
    "df_complaint_aggr = df_complaint.groupby(['incident_address'], as_index=False).agg({'unique_key':'count'})\n",
    "df_complaint_aggr.columns = [\"Address\", \"complaintCnt\"]"
   ]
  },
  {
   "cell_type": "code",
   "execution_count": 74,
   "metadata": {},
   "outputs": [
    {
     "name": "stdout",
     "output_type": "stream",
     "text": [
      "<class 'pandas.core.frame.DataFrame'>\n",
      "Int64Index: 21340 entries, 0 to 21339\n",
      "Data columns (total 2 columns):\n",
      "Address         21340 non-null object\n",
      "complaintCnt    21340 non-null int64\n",
      "dtypes: int64(1), object(1)\n",
      "memory usage: 500.2+ KB\n"
     ]
    }
   ],
   "source": [
    "df_complaint_aggr.info()"
   ]
  },
  {
   "cell_type": "markdown",
   "metadata": {},
   "source": [
    "#### Now we merge the data between building dataset and aggregated complaint dataset"
   ]
  },
  {
   "cell_type": "code",
   "execution_count": 75,
   "metadata": {},
   "outputs": [
    {
     "name": "stdout",
     "output_type": "stream",
     "text": [
      "(89854, 21)\n",
      "(21340, 2)\n",
      "(89854, 20)\n"
     ]
    }
   ],
   "source": [
    "df_combo = pd.merge(df_bx, df_complaint_aggr, left_on=['Address'], right_on=['Address'], how='left')\n",
    "print(df_combo.shape)\n",
    "print(df_complaint_aggr.shape)\n",
    "print(df_bx.shape)"
   ]
  },
  {
   "cell_type": "code",
   "execution_count": 76,
   "metadata": {},
   "outputs": [
    {
     "data": {
      "text/html": [
       "<div>\n",
       "<style scoped>\n",
       "    .dataframe tbody tr th:only-of-type {\n",
       "        vertical-align: middle;\n",
       "    }\n",
       "\n",
       "    .dataframe tbody tr th {\n",
       "        vertical-align: top;\n",
       "    }\n",
       "\n",
       "    .dataframe thead th {\n",
       "        text-align: right;\n",
       "    }\n",
       "</style>\n",
       "<table border=\"1\" class=\"dataframe\">\n",
       "  <thead>\n",
       "    <tr style=\"text-align: right;\">\n",
       "      <th></th>\n",
       "      <th>Address</th>\n",
       "      <th>BldgArea</th>\n",
       "      <th>BldgDepth</th>\n",
       "      <th>BuiltFAR</th>\n",
       "      <th>CommFAR</th>\n",
       "      <th>FacilFAR</th>\n",
       "      <th>Lot</th>\n",
       "      <th>LotArea</th>\n",
       "      <th>LotDepth</th>\n",
       "      <th>NumBldgs</th>\n",
       "      <th>NumFloors</th>\n",
       "      <th>OfficeArea</th>\n",
       "      <th>ResArea</th>\n",
       "      <th>ResidFAR</th>\n",
       "      <th>RetailArea</th>\n",
       "      <th>YearBuilt</th>\n",
       "      <th>YearAlter1</th>\n",
       "      <th>ZipCode</th>\n",
       "      <th>YCoord</th>\n",
       "      <th>XCoord</th>\n",
       "      <th>complaintCnt</th>\n",
       "    </tr>\n",
       "  </thead>\n",
       "  <tbody>\n",
       "    <tr>\n",
       "      <th>0</th>\n",
       "      <td>122 BRUCKNER BOULEVARD</td>\n",
       "      <td>0</td>\n",
       "      <td>0</td>\n",
       "      <td>0</td>\n",
       "      <td>5</td>\n",
       "      <td>6</td>\n",
       "      <td>1</td>\n",
       "      <td>15000</td>\n",
       "      <td>200</td>\n",
       "      <td>1</td>\n",
       "      <td>0</td>\n",
       "      <td>0</td>\n",
       "      <td>0</td>\n",
       "      <td>6</td>\n",
       "      <td>0</td>\n",
       "      <td>0</td>\n",
       "      <td>0</td>\n",
       "      <td>10454</td>\n",
       "      <td>232162</td>\n",
       "      <td>1005957</td>\n",
       "      <td>nan</td>\n",
       "    </tr>\n",
       "    <tr>\n",
       "      <th>1</th>\n",
       "      <td>126 BRUCKNER BOULEVARD</td>\n",
       "      <td>752</td>\n",
       "      <td>16</td>\n",
       "      <td>0</td>\n",
       "      <td>5</td>\n",
       "      <td>6</td>\n",
       "      <td>4</td>\n",
       "      <td>13770</td>\n",
       "      <td>100</td>\n",
       "      <td>2</td>\n",
       "      <td>1</td>\n",
       "      <td>272</td>\n",
       "      <td>0</td>\n",
       "      <td>6</td>\n",
       "      <td>0</td>\n",
       "      <td>1931</td>\n",
       "      <td>1994</td>\n",
       "      <td>10454</td>\n",
       "      <td>232156</td>\n",
       "      <td>1006076</td>\n",
       "      <td>nan</td>\n",
       "    </tr>\n",
       "  </tbody>\n",
       "</table>\n",
       "</div>"
      ],
      "text/plain": [
       "                  Address  BldgArea  BldgDepth  BuiltFAR  CommFAR  FacilFAR  \\\n",
       "0  122 BRUCKNER BOULEVARD         0          0         0        5         6   \n",
       "1  126 BRUCKNER BOULEVARD       752         16         0        5         6   \n",
       "\n",
       "   Lot  LotArea  LotDepth  NumBldgs  NumFloors  OfficeArea  ResArea  ResidFAR  \\\n",
       "0    1    15000       200         1          0           0        0         6   \n",
       "1    4    13770       100         2          1         272        0         6   \n",
       "\n",
       "   RetailArea  YearBuilt  YearAlter1  ZipCode  YCoord   XCoord  \\\n",
       "0           0          0           0    10454  232162  1005957   \n",
       "1           0       1931        1994    10454  232156  1006076   \n",
       "\n",
       "          complaintCnt  \n",
       "0                  nan  \n",
       "1                  nan  "
      ]
     },
     "execution_count": 76,
     "metadata": {},
     "output_type": "execute_result"
    }
   ],
   "source": [
    "df_combo.head(2)"
   ]
  },
  {
   "cell_type": "code",
   "execution_count": 77,
   "metadata": {},
   "outputs": [],
   "source": [
    "df_combo['complaintCnt'] = df_combo.complaintCnt.fillna('0').astype(int)"
   ]
  },
  {
   "cell_type": "markdown",
   "metadata": {},
   "source": [
    "#### Let us filter out the data that has YearBuilt as 0 to remove bad data"
   ]
  },
  {
   "cell_type": "code",
   "execution_count": 78,
   "metadata": {},
   "outputs": [
    {
     "name": "stdout",
     "output_type": "stream",
     "text": [
      "(83487, 21)\n"
     ]
    }
   ],
   "source": [
    "df_combo = df_combo[df_combo['YearBuilt'] > 0]\n",
    "print(df_combo.shape)"
   ]
  },
  {
   "cell_type": "markdown",
   "metadata": {},
   "source": [
    "#### Let us create 2 new features Building Age from YearBuilt and Builkding Altered Age from YearAlter1"
   ]
  },
  {
   "cell_type": "code",
   "execution_count": 79,
   "metadata": {},
   "outputs": [
    {
     "name": "stdout",
     "output_type": "stream",
     "text": [
      "(83487, 22)\n"
     ]
    }
   ],
   "source": [
    "df_combo['bldg_age'] = df_combo.apply(lambda x: 2018-x['YearBuilt'] , axis=1)\n",
    "print(df_combo.shape)"
   ]
  },
  {
   "cell_type": "code",
   "execution_count": 80,
   "metadata": {},
   "outputs": [
    {
     "name": "stdout",
     "output_type": "stream",
     "text": [
      "(83487, 23)\n"
     ]
    }
   ],
   "source": [
    "df_combo['bldg_alt_age'] = df_combo.apply(lambda x: 2018-x['YearAlter1'] if x['YearAlter1']>0 else x['bldg_age'], axis=1)\n",
    "print(df_combo.shape)"
   ]
  },
  {
   "cell_type": "code",
   "execution_count": 81,
   "metadata": {},
   "outputs": [
    {
     "data": {
      "text/html": [
       "<div>\n",
       "<style scoped>\n",
       "    .dataframe tbody tr th:only-of-type {\n",
       "        vertical-align: middle;\n",
       "    }\n",
       "\n",
       "    .dataframe tbody tr th {\n",
       "        vertical-align: top;\n",
       "    }\n",
       "\n",
       "    .dataframe thead th {\n",
       "        text-align: right;\n",
       "    }\n",
       "</style>\n",
       "<table border=\"1\" class=\"dataframe\">\n",
       "  <thead>\n",
       "    <tr style=\"text-align: right;\">\n",
       "      <th></th>\n",
       "      <th>Address</th>\n",
       "      <th>BldgArea</th>\n",
       "      <th>BldgDepth</th>\n",
       "      <th>BuiltFAR</th>\n",
       "      <th>CommFAR</th>\n",
       "      <th>FacilFAR</th>\n",
       "      <th>Lot</th>\n",
       "      <th>LotArea</th>\n",
       "      <th>LotDepth</th>\n",
       "      <th>NumBldgs</th>\n",
       "      <th>NumFloors</th>\n",
       "      <th>OfficeArea</th>\n",
       "      <th>ResArea</th>\n",
       "      <th>ResidFAR</th>\n",
       "      <th>RetailArea</th>\n",
       "      <th>YearBuilt</th>\n",
       "      <th>YearAlter1</th>\n",
       "      <th>ZipCode</th>\n",
       "      <th>YCoord</th>\n",
       "      <th>XCoord</th>\n",
       "      <th>complaintCnt</th>\n",
       "      <th>bldg_age</th>\n",
       "      <th>bldg_alt_age</th>\n",
       "    </tr>\n",
       "  </thead>\n",
       "  <tbody>\n",
       "    <tr>\n",
       "      <th>1</th>\n",
       "      <td>126 BRUCKNER BOULEVARD</td>\n",
       "      <td>752</td>\n",
       "      <td>16</td>\n",
       "      <td>0</td>\n",
       "      <td>5</td>\n",
       "      <td>6</td>\n",
       "      <td>4</td>\n",
       "      <td>13770</td>\n",
       "      <td>100</td>\n",
       "      <td>2</td>\n",
       "      <td>1</td>\n",
       "      <td>272</td>\n",
       "      <td>0</td>\n",
       "      <td>6</td>\n",
       "      <td>0</td>\n",
       "      <td>1931</td>\n",
       "      <td>1994</td>\n",
       "      <td>10454</td>\n",
       "      <td>232156</td>\n",
       "      <td>1006076</td>\n",
       "      <td>0</td>\n",
       "      <td>87</td>\n",
       "      <td>24</td>\n",
       "    </tr>\n",
       "    <tr>\n",
       "      <th>2</th>\n",
       "      <td>138 BRUCKNER BOULEVARD</td>\n",
       "      <td>39375</td>\n",
       "      <td>200</td>\n",
       "      <td>1</td>\n",
       "      <td>5</td>\n",
       "      <td>6</td>\n",
       "      <td>10</td>\n",
       "      <td>35000</td>\n",
       "      <td>200</td>\n",
       "      <td>1</td>\n",
       "      <td>2</td>\n",
       "      <td>0</td>\n",
       "      <td>0</td>\n",
       "      <td>6</td>\n",
       "      <td>0</td>\n",
       "      <td>1931</td>\n",
       "      <td>0</td>\n",
       "      <td>10454</td>\n",
       "      <td>232036</td>\n",
       "      <td>1006187</td>\n",
       "      <td>0</td>\n",
       "      <td>87</td>\n",
       "      <td>87</td>\n",
       "    </tr>\n",
       "  </tbody>\n",
       "</table>\n",
       "</div>"
      ],
      "text/plain": [
       "                  Address  BldgArea  BldgDepth  BuiltFAR  CommFAR  FacilFAR  \\\n",
       "1  126 BRUCKNER BOULEVARD       752         16         0        5         6   \n",
       "2  138 BRUCKNER BOULEVARD     39375        200         1        5         6   \n",
       "\n",
       "   Lot  LotArea  LotDepth  NumBldgs  NumFloors  OfficeArea  ResArea  ResidFAR  \\\n",
       "1    4    13770       100         2          1         272        0         6   \n",
       "2   10    35000       200         1          2           0        0         6   \n",
       "\n",
       "   RetailArea  YearBuilt  YearAlter1  ZipCode  YCoord   XCoord  complaintCnt  \\\n",
       "1           0       1931        1994    10454  232156  1006076             0   \n",
       "2           0       1931           0    10454  232036  1006187             0   \n",
       "\n",
       "   bldg_age  bldg_alt_age  \n",
       "1        87            24  \n",
       "2        87            87  "
      ]
     },
     "execution_count": 81,
     "metadata": {},
     "output_type": "execute_result"
    }
   ],
   "source": [
    "df_combo.head(2)"
   ]
  },
  {
   "cell_type": "markdown",
   "metadata": {},
   "source": [
    "#### Now let us divide the number of complaints to 4 ranges  - \n",
    "a) 0 (No Complaint), \n",
    "b) 1 (Number of Complaints between 1 to 10)\n",
    "c) 10 (Number of Complaints between 11 to 100) and\n",
    "d) 100 (Number of Complaints above 100)"
   ]
  },
  {
   "cell_type": "code",
   "execution_count": 82,
   "metadata": {},
   "outputs": [],
   "source": [
    "def cnt_range(cnt):\n",
    "    if cnt <= 0:\n",
    "        rng = 0\n",
    "    elif cnt <= 10 and cnt > 0:\n",
    "        rng = 1\n",
    "    elif cnt <= 100 and cnt > 10:\n",
    "        rng = 10\n",
    "    elif cnt > 100:\n",
    "        rng = 100\n",
    "    else:\n",
    "        rng = 10\n",
    "    return rng"
   ]
  },
  {
   "cell_type": "code",
   "execution_count": 83,
   "metadata": {},
   "outputs": [
    {
     "data": {
      "text/plain": [
       "(83487, 24)"
      ]
     },
     "execution_count": 83,
     "metadata": {},
     "output_type": "execute_result"
    }
   ],
   "source": [
    "df_combo['complaint_range'] = df_combo['complaintCnt'].apply(lambda x: cnt_range(x))\n",
    "df_combo.shape"
   ]
  },
  {
   "cell_type": "code",
   "execution_count": 84,
   "metadata": {},
   "outputs": [
    {
     "data": {
      "text/html": [
       "<div>\n",
       "<style scoped>\n",
       "    .dataframe tbody tr th:only-of-type {\n",
       "        vertical-align: middle;\n",
       "    }\n",
       "\n",
       "    .dataframe tbody tr th {\n",
       "        vertical-align: top;\n",
       "    }\n",
       "\n",
       "    .dataframe thead th {\n",
       "        text-align: right;\n",
       "    }\n",
       "</style>\n",
       "<table border=\"1\" class=\"dataframe\">\n",
       "  <thead>\n",
       "    <tr style=\"text-align: right;\">\n",
       "      <th></th>\n",
       "      <th>Address</th>\n",
       "      <th>BldgArea</th>\n",
       "      <th>BldgDepth</th>\n",
       "      <th>BuiltFAR</th>\n",
       "      <th>CommFAR</th>\n",
       "      <th>FacilFAR</th>\n",
       "      <th>Lot</th>\n",
       "      <th>LotArea</th>\n",
       "      <th>LotDepth</th>\n",
       "      <th>NumBldgs</th>\n",
       "      <th>NumFloors</th>\n",
       "      <th>OfficeArea</th>\n",
       "      <th>ResArea</th>\n",
       "      <th>ResidFAR</th>\n",
       "      <th>RetailArea</th>\n",
       "      <th>YearBuilt</th>\n",
       "      <th>YearAlter1</th>\n",
       "      <th>ZipCode</th>\n",
       "      <th>YCoord</th>\n",
       "      <th>XCoord</th>\n",
       "      <th>complaintCnt</th>\n",
       "      <th>bldg_age</th>\n",
       "      <th>bldg_alt_age</th>\n",
       "    </tr>\n",
       "    <tr>\n",
       "      <th>complaint_range</th>\n",
       "      <th></th>\n",
       "      <th></th>\n",
       "      <th></th>\n",
       "      <th></th>\n",
       "      <th></th>\n",
       "      <th></th>\n",
       "      <th></th>\n",
       "      <th></th>\n",
       "      <th></th>\n",
       "      <th></th>\n",
       "      <th></th>\n",
       "      <th></th>\n",
       "      <th></th>\n",
       "      <th></th>\n",
       "      <th></th>\n",
       "      <th></th>\n",
       "      <th></th>\n",
       "      <th></th>\n",
       "      <th></th>\n",
       "      <th></th>\n",
       "      <th></th>\n",
       "      <th></th>\n",
       "      <th></th>\n",
       "    </tr>\n",
       "  </thead>\n",
       "  <tbody>\n",
       "    <tr>\n",
       "      <th>0</th>\n",
       "      <td>67154</td>\n",
       "      <td>67155</td>\n",
       "      <td>67155</td>\n",
       "      <td>67155</td>\n",
       "      <td>67155</td>\n",
       "      <td>67155</td>\n",
       "      <td>67155</td>\n",
       "      <td>67155</td>\n",
       "      <td>67155</td>\n",
       "      <td>67155</td>\n",
       "      <td>67155</td>\n",
       "      <td>67155</td>\n",
       "      <td>67155</td>\n",
       "      <td>67155</td>\n",
       "      <td>67155</td>\n",
       "      <td>67155</td>\n",
       "      <td>67155</td>\n",
       "      <td>67155</td>\n",
       "      <td>67155</td>\n",
       "      <td>67155</td>\n",
       "      <td>67155</td>\n",
       "      <td>67155</td>\n",
       "      <td>67155</td>\n",
       "    </tr>\n",
       "    <tr>\n",
       "      <th>1</th>\n",
       "      <td>10924</td>\n",
       "      <td>10924</td>\n",
       "      <td>10924</td>\n",
       "      <td>10924</td>\n",
       "      <td>10924</td>\n",
       "      <td>10924</td>\n",
       "      <td>10924</td>\n",
       "      <td>10924</td>\n",
       "      <td>10924</td>\n",
       "      <td>10924</td>\n",
       "      <td>10924</td>\n",
       "      <td>10924</td>\n",
       "      <td>10924</td>\n",
       "      <td>10924</td>\n",
       "      <td>10924</td>\n",
       "      <td>10924</td>\n",
       "      <td>10924</td>\n",
       "      <td>10924</td>\n",
       "      <td>10924</td>\n",
       "      <td>10924</td>\n",
       "      <td>10924</td>\n",
       "      <td>10924</td>\n",
       "      <td>10924</td>\n",
       "    </tr>\n",
       "    <tr>\n",
       "      <th>10</th>\n",
       "      <td>4483</td>\n",
       "      <td>4483</td>\n",
       "      <td>4483</td>\n",
       "      <td>4483</td>\n",
       "      <td>4483</td>\n",
       "      <td>4483</td>\n",
       "      <td>4483</td>\n",
       "      <td>4483</td>\n",
       "      <td>4483</td>\n",
       "      <td>4483</td>\n",
       "      <td>4483</td>\n",
       "      <td>4483</td>\n",
       "      <td>4483</td>\n",
       "      <td>4483</td>\n",
       "      <td>4483</td>\n",
       "      <td>4483</td>\n",
       "      <td>4483</td>\n",
       "      <td>4483</td>\n",
       "      <td>4483</td>\n",
       "      <td>4483</td>\n",
       "      <td>4483</td>\n",
       "      <td>4483</td>\n",
       "      <td>4483</td>\n",
       "    </tr>\n",
       "    <tr>\n",
       "      <th>100</th>\n",
       "      <td>925</td>\n",
       "      <td>925</td>\n",
       "      <td>925</td>\n",
       "      <td>925</td>\n",
       "      <td>925</td>\n",
       "      <td>925</td>\n",
       "      <td>925</td>\n",
       "      <td>925</td>\n",
       "      <td>925</td>\n",
       "      <td>925</td>\n",
       "      <td>925</td>\n",
       "      <td>925</td>\n",
       "      <td>925</td>\n",
       "      <td>925</td>\n",
       "      <td>925</td>\n",
       "      <td>925</td>\n",
       "      <td>925</td>\n",
       "      <td>925</td>\n",
       "      <td>925</td>\n",
       "      <td>925</td>\n",
       "      <td>925</td>\n",
       "      <td>925</td>\n",
       "      <td>925</td>\n",
       "    </tr>\n",
       "  </tbody>\n",
       "</table>\n",
       "</div>"
      ],
      "text/plain": [
       "                 Address  BldgArea  BldgDepth  BuiltFAR  CommFAR  FacilFAR  \\\n",
       "complaint_range                                                              \n",
       "0                  67154     67155      67155     67155    67155     67155   \n",
       "1                  10924     10924      10924     10924    10924     10924   \n",
       "10                  4483      4483       4483      4483     4483      4483   \n",
       "100                  925       925        925       925      925       925   \n",
       "\n",
       "                   Lot  LotArea  LotDepth  NumBldgs  NumFloors  OfficeArea  \\\n",
       "complaint_range                                                              \n",
       "0                67155    67155     67155     67155      67155       67155   \n",
       "1                10924    10924     10924     10924      10924       10924   \n",
       "10                4483     4483      4483      4483       4483        4483   \n",
       "100                925      925       925       925        925         925   \n",
       "\n",
       "                 ResArea  ResidFAR  RetailArea  YearBuilt  YearAlter1  \\\n",
       "complaint_range                                                         \n",
       "0                  67155     67155       67155      67155       67155   \n",
       "1                  10924     10924       10924      10924       10924   \n",
       "10                  4483      4483        4483       4483        4483   \n",
       "100                  925       925         925        925         925   \n",
       "\n",
       "                 ZipCode  YCoord  XCoord  complaintCnt  bldg_age  bldg_alt_age  \n",
       "complaint_range                                                                 \n",
       "0                  67155   67155   67155         67155     67155         67155  \n",
       "1                  10924   10924   10924         10924     10924         10924  \n",
       "10                  4483    4483    4483          4483      4483          4483  \n",
       "100                  925     925     925           925       925           925  "
      ]
     },
     "execution_count": 84,
     "metadata": {},
     "output_type": "execute_result"
    }
   ],
   "source": [
    "df_combo.groupby(['complaint_range']).count()"
   ]
  },
  {
   "cell_type": "markdown",
   "metadata": {},
   "source": [
    "#### The above table clearly shows that 80% of the addresses are not having any Heating Complaints and 10% of them have complaints less than 10 in last 8 years\n",
    "#### So let us try to investigate if there is any relationship with number of complaints and the characteristic of the buildings "
   ]
  },
  {
   "cell_type": "code",
   "execution_count": 38,
   "metadata": {},
   "outputs": [
    {
     "data": {
      "text/plain": [
       "(83487, 22)"
      ]
     },
     "execution_count": 38,
     "metadata": {},
     "output_type": "execute_result"
    }
   ],
   "source": [
    "df_combo_sub = df_combo[['Address','BldgArea','BldgDepth','BuiltFAR',\n",
    "                'CommFAR','FacilFAR',\n",
    "                'Lot','LotArea','LotDepth','NumBldgs','NumFloors',\n",
    "                'OfficeArea','ResArea','ResidFAR','RetailArea',\n",
    "                'bldg_age','bldg_alt_age','ZipCode', 'YCoord', 'XCoord',\n",
    "                'complaintCnt', 'complaint_range']]\n",
    "df_combo_sub.shape"
   ]
  },
  {
   "cell_type": "markdown",
   "metadata": {},
   "source": [
    "#### Let us create a function to identify the correlation between various features"
   ]
  },
  {
   "cell_type": "code",
   "execution_count": 85,
   "metadata": {},
   "outputs": [],
   "source": [
    "def order_corr(df,response): \n",
    "    df_new = df.corr()[[response]]   \n",
    "    df_new = df_new.dropna()    \n",
    "    df_new['abs'] = df_new[response].apply(lambda x: np.abs(x))    \n",
    "    df_new = df_new.sort_values(by='abs', ascending=False)[[response]]    \n",
    "    return df_new"
   ]
  },
  {
   "cell_type": "code",
   "execution_count": 86,
   "metadata": {},
   "outputs": [],
   "source": [
    "scaler = RobustScaler()"
   ]
  },
  {
   "cell_type": "code",
   "execution_count": 88,
   "metadata": {},
   "outputs": [
    {
     "name": "stdout",
     "output_type": "stream",
     "text": [
      "<class 'pandas.core.frame.DataFrame'>\n",
      "Int64Index: 83487 entries, 1 to 89845\n",
      "Data columns (total 24 columns):\n",
      "Address            83486 non-null object\n",
      "BldgArea           83487 non-null int64\n",
      "BldgDepth          83487 non-null int64\n",
      "BuiltFAR           83487 non-null int64\n",
      "CommFAR            83487 non-null int64\n",
      "FacilFAR           83487 non-null int64\n",
      "Lot                83487 non-null int64\n",
      "LotArea            83487 non-null int64\n",
      "LotDepth           83487 non-null int64\n",
      "NumBldgs           83487 non-null int64\n",
      "NumFloors          83487 non-null int64\n",
      "OfficeArea         83487 non-null int64\n",
      "ResArea            83487 non-null int64\n",
      "ResidFAR           83487 non-null int64\n",
      "RetailArea         83487 non-null int64\n",
      "YearBuilt          83487 non-null int64\n",
      "YearAlter1         83487 non-null int64\n",
      "ZipCode            83487 non-null int64\n",
      "YCoord             83487 non-null int64\n",
      "XCoord             83487 non-null int64\n",
      "complaintCnt       83487 non-null int64\n",
      "bldg_age           83487 non-null int64\n",
      "bldg_alt_age       83487 non-null int64\n",
      "complaint_range    83487 non-null int64\n",
      "dtypes: int64(23), object(1)\n",
      "memory usage: 15.9+ MB\n"
     ]
    }
   ],
   "source": [
    "df_combo.info()"
   ]
  },
  {
   "cell_type": "markdown",
   "metadata": {},
   "source": [
    "#### Let us move some fields out of feature list like YearBuilt, YearAlter1 which we are already taking care of as bld_age and bld_alt_age"
   ]
  },
  {
   "cell_type": "code",
   "execution_count": 96,
   "metadata": {},
   "outputs": [],
   "source": [
    "feats = df_combo.columns.tolist()\n",
    "response = 'complaint_range'\n",
    "feats.remove(response)\n",
    "feats.remove('complaintCnt')\n",
    "feats.remove('Address')\n",
    "feats.remove('YearBuilt')\n",
    "feats.remove('YearAlter1')\n",
    "\n",
    "\n",
    "X = df_combo[feats]\n",
    "y = df_combo[response]\n",
    "\n",
    "X, X_test, y, y_test = train_test_split(X, y, test_size=0.2, random_state=42)"
   ]
  },
  {
   "cell_type": "code",
   "execution_count": 97,
   "metadata": {},
   "outputs": [
    {
     "data": {
      "text/html": [
       "<div>\n",
       "<style scoped>\n",
       "    .dataframe tbody tr th:only-of-type {\n",
       "        vertical-align: middle;\n",
       "    }\n",
       "\n",
       "    .dataframe tbody tr th {\n",
       "        vertical-align: top;\n",
       "    }\n",
       "\n",
       "    .dataframe thead th {\n",
       "        text-align: right;\n",
       "    }\n",
       "</style>\n",
       "<table border=\"1\" class=\"dataframe\">\n",
       "  <thead>\n",
       "    <tr style=\"text-align: right;\">\n",
       "      <th></th>\n",
       "      <th>complaint_range</th>\n",
       "    </tr>\n",
       "  </thead>\n",
       "  <tbody>\n",
       "    <tr>\n",
       "      <th>complaint_range</th>\n",
       "      <td>1.000</td>\n",
       "    </tr>\n",
       "    <tr>\n",
       "      <th>complaintCnt</th>\n",
       "      <td>0.553</td>\n",
       "    </tr>\n",
       "    <tr>\n",
       "      <th>NumFloors</th>\n",
       "      <td>0.342</td>\n",
       "    </tr>\n",
       "    <tr>\n",
       "      <th>BuiltFAR</th>\n",
       "      <td>0.223</td>\n",
       "    </tr>\n",
       "    <tr>\n",
       "      <th>BldgDepth</th>\n",
       "      <td>0.213</td>\n",
       "    </tr>\n",
       "    <tr>\n",
       "      <th>ResidFAR</th>\n",
       "      <td>0.211</td>\n",
       "    </tr>\n",
       "    <tr>\n",
       "      <th>FacilFAR</th>\n",
       "      <td>0.187</td>\n",
       "    </tr>\n",
       "    <tr>\n",
       "      <th>ResArea</th>\n",
       "      <td>0.123</td>\n",
       "    </tr>\n",
       "    <tr>\n",
       "      <th>BldgArea</th>\n",
       "      <td>0.105</td>\n",
       "    </tr>\n",
       "    <tr>\n",
       "      <th>YearAlter1</th>\n",
       "      <td>0.089</td>\n",
       "    </tr>\n",
       "    <tr>\n",
       "      <th>bldg_age</th>\n",
       "      <td>0.062</td>\n",
       "    </tr>\n",
       "    <tr>\n",
       "      <th>YearBuilt</th>\n",
       "      <td>-0.062</td>\n",
       "    </tr>\n",
       "    <tr>\n",
       "      <th>LotDepth</th>\n",
       "      <td>0.029</td>\n",
       "    </tr>\n",
       "    <tr>\n",
       "      <th>RetailArea</th>\n",
       "      <td>0.012</td>\n",
       "    </tr>\n",
       "    <tr>\n",
       "      <th>NumBldgs</th>\n",
       "      <td>-0.012</td>\n",
       "    </tr>\n",
       "    <tr>\n",
       "      <th>CommFAR</th>\n",
       "      <td>-0.011</td>\n",
       "    </tr>\n",
       "    <tr>\n",
       "      <th>XCoord</th>\n",
       "      <td>-0.009</td>\n",
       "    </tr>\n",
       "    <tr>\n",
       "      <th>OfficeArea</th>\n",
       "      <td>-0.004</td>\n",
       "    </tr>\n",
       "    <tr>\n",
       "      <th>Lot</th>\n",
       "      <td>0.003</td>\n",
       "    </tr>\n",
       "    <tr>\n",
       "      <th>YCoord</th>\n",
       "      <td>0.003</td>\n",
       "    </tr>\n",
       "  </tbody>\n",
       "</table>\n",
       "</div>"
      ],
      "text/plain": [
       "                     complaint_range\n",
       "complaint_range                1.000\n",
       "complaintCnt                   0.553\n",
       "NumFloors                      0.342\n",
       "BuiltFAR                       0.223\n",
       "BldgDepth                      0.213\n",
       "ResidFAR                       0.211\n",
       "FacilFAR                       0.187\n",
       "ResArea                        0.123\n",
       "BldgArea                       0.105\n",
       "YearAlter1                     0.089\n",
       "bldg_age                       0.062\n",
       "YearBuilt                     -0.062\n",
       "LotDepth                       0.029\n",
       "RetailArea                     0.012\n",
       "NumBldgs                      -0.012\n",
       "CommFAR                       -0.011\n",
       "XCoord                        -0.009\n",
       "OfficeArea                    -0.004\n",
       "Lot                            0.003\n",
       "YCoord                         0.003"
      ]
     },
     "execution_count": 97,
     "metadata": {},
     "output_type": "execute_result"
    }
   ],
   "source": [
    "response = 'complaint_range'\n",
    "order_corr(df_combo,response).head(20)"
   ]
  },
  {
   "cell_type": "markdown",
   "metadata": {},
   "source": [
    "#### The above table shows that there are some corelation between complaint_range and some of the buiulding chracteristics like NumFloors, BuiltFAR, ResArea etc. Let us validate this with few more approaches."
   ]
  },
  {
   "cell_type": "markdown",
   "metadata": {},
   "source": [
    "#### Next let us try to find Feature Importance using Ensemble based techniques like Random Forest and XGBoost"
   ]
  },
  {
   "cell_type": "code",
   "execution_count": 102,
   "metadata": {},
   "outputs": [],
   "source": [
    "clsfRF = RandomForestClassifier(n_estimators=100, random_state=5)\n",
    "pipeRFC = Pipeline(steps=[('scaler', scaler), ('classification', clsfRF)])"
   ]
  },
  {
   "cell_type": "code",
   "execution_count": 103,
   "metadata": {},
   "outputs": [
    {
     "data": {
      "text/plain": [
       "Pipeline(memory=None,\n",
       "     steps=[('scaler', RobustScaler(copy=True, quantile_range=(25.0, 75.0), with_centering=True,\n",
       "       with_scaling=True)), ('classification', RandomForestClassifier(bootstrap=True, class_weight=None, criterion='gini',\n",
       "            max_depth=None, max_features='auto', max_leaf_nodes=None,\n",
       "            min...mators=100, n_jobs=None,\n",
       "            oob_score=False, random_state=5, verbose=0, warm_start=False))])"
      ]
     },
     "execution_count": 103,
     "metadata": {},
     "output_type": "execute_result"
    }
   ],
   "source": [
    "pipeRFC.fit(X, y)"
   ]
  },
  {
   "cell_type": "code",
   "execution_count": 104,
   "metadata": {},
   "outputs": [
    {
     "data": {
      "text/plain": [
       "RandomForestClassifier(bootstrap=True, class_weight=None, criterion='gini',\n",
       "            max_depth=None, max_features='auto', max_leaf_nodes=None,\n",
       "            min_impurity_decrease=0.0, min_impurity_split=None,\n",
       "            min_samples_leaf=1, min_samples_split=2,\n",
       "            min_weight_fraction_leaf=0.0, n_estimators=100, n_jobs=None,\n",
       "            oob_score=False, random_state=5, verbose=0, warm_start=False)"
      ]
     },
     "execution_count": 104,
     "metadata": {},
     "output_type": "execute_result"
    }
   ],
   "source": [
    "model = pipeRFC.steps[1][1]\n",
    "model"
   ]
  },
  {
   "cell_type": "code",
   "execution_count": 105,
   "metadata": {},
   "outputs": [
    {
     "name": "stdout",
     "output_type": "stream",
     "text": [
      "1.0\n"
     ]
    }
   ],
   "source": [
    "total_importance = sum(model.feature_importances_)\n",
    "col_names = X.columns.tolist()\n",
    "feat_importance = model.feature_importances_\n",
    "\n",
    "most_imp_ml_features = pd.DataFrame()\n",
    "most_imp_ml_features['name'] = col_names\n",
    "most_imp_ml_features['importance'] = feat_importance\n",
    "most_imp_ml_features['percentage_importance'] = most_imp_ml_features['importance'].apply(lambda x: 1.0 * x / total_importance)\n",
    "\n",
    "print(most_imp_ml_features.percentage_importance.sum())"
   ]
  },
  {
   "cell_type": "code",
   "execution_count": 106,
   "metadata": {},
   "outputs": [
    {
     "data": {
      "text/html": [
       "<div>\n",
       "<style scoped>\n",
       "    .dataframe tbody tr th:only-of-type {\n",
       "        vertical-align: middle;\n",
       "    }\n",
       "\n",
       "    .dataframe tbody tr th {\n",
       "        vertical-align: top;\n",
       "    }\n",
       "\n",
       "    .dataframe thead th {\n",
       "        text-align: right;\n",
       "    }\n",
       "</style>\n",
       "<table border=\"1\" class=\"dataframe\">\n",
       "  <thead>\n",
       "    <tr style=\"text-align: right;\">\n",
       "      <th></th>\n",
       "      <th>name</th>\n",
       "      <th>percentage_importance</th>\n",
       "    </tr>\n",
       "  </thead>\n",
       "  <tbody>\n",
       "    <tr>\n",
       "      <th>11</th>\n",
       "      <td>ResArea</td>\n",
       "      <td>0.142</td>\n",
       "    </tr>\n",
       "    <tr>\n",
       "      <th>16</th>\n",
       "      <td>XCoord</td>\n",
       "      <td>0.105</td>\n",
       "    </tr>\n",
       "    <tr>\n",
       "      <th>15</th>\n",
       "      <td>YCoord</td>\n",
       "      <td>0.104</td>\n",
       "    </tr>\n",
       "    <tr>\n",
       "      <th>5</th>\n",
       "      <td>Lot</td>\n",
       "      <td>0.095</td>\n",
       "    </tr>\n",
       "    <tr>\n",
       "      <th>0</th>\n",
       "      <td>BldgArea</td>\n",
       "      <td>0.091</td>\n",
       "    </tr>\n",
       "    <tr>\n",
       "      <th>6</th>\n",
       "      <td>LotArea</td>\n",
       "      <td>0.069</td>\n",
       "    </tr>\n",
       "    <tr>\n",
       "      <th>1</th>\n",
       "      <td>BldgDepth</td>\n",
       "      <td>0.067</td>\n",
       "    </tr>\n",
       "    <tr>\n",
       "      <th>9</th>\n",
       "      <td>NumFloors</td>\n",
       "      <td>0.052</td>\n",
       "    </tr>\n",
       "    <tr>\n",
       "      <th>18</th>\n",
       "      <td>bldg_alt_age</td>\n",
       "      <td>0.047</td>\n",
       "    </tr>\n",
       "    <tr>\n",
       "      <th>17</th>\n",
       "      <td>bldg_age</td>\n",
       "      <td>0.046</td>\n",
       "    </tr>\n",
       "    <tr>\n",
       "      <th>7</th>\n",
       "      <td>LotDepth</td>\n",
       "      <td>0.045</td>\n",
       "    </tr>\n",
       "    <tr>\n",
       "      <th>2</th>\n",
       "      <td>BuiltFAR</td>\n",
       "      <td>0.040</td>\n",
       "    </tr>\n",
       "    <tr>\n",
       "      <th>14</th>\n",
       "      <td>ZipCode</td>\n",
       "      <td>0.028</td>\n",
       "    </tr>\n",
       "    <tr>\n",
       "      <th>12</th>\n",
       "      <td>ResidFAR</td>\n",
       "      <td>0.025</td>\n",
       "    </tr>\n",
       "    <tr>\n",
       "      <th>4</th>\n",
       "      <td>FacilFAR</td>\n",
       "      <td>0.014</td>\n",
       "    </tr>\n",
       "    <tr>\n",
       "      <th>13</th>\n",
       "      <td>RetailArea</td>\n",
       "      <td>0.011</td>\n",
       "    </tr>\n",
       "    <tr>\n",
       "      <th>8</th>\n",
       "      <td>NumBldgs</td>\n",
       "      <td>0.010</td>\n",
       "    </tr>\n",
       "    <tr>\n",
       "      <th>10</th>\n",
       "      <td>OfficeArea</td>\n",
       "      <td>0.004</td>\n",
       "    </tr>\n",
       "    <tr>\n",
       "      <th>3</th>\n",
       "      <td>CommFAR</td>\n",
       "      <td>0.004</td>\n",
       "    </tr>\n",
       "  </tbody>\n",
       "</table>\n",
       "</div>"
      ],
      "text/plain": [
       "            name  percentage_importance\n",
       "11       ResArea                  0.142\n",
       "16        XCoord                  0.105\n",
       "15        YCoord                  0.104\n",
       "5            Lot                  0.095\n",
       "0       BldgArea                  0.091\n",
       "6        LotArea                  0.069\n",
       "1      BldgDepth                  0.067\n",
       "9      NumFloors                  0.052\n",
       "18  bldg_alt_age                  0.047\n",
       "17      bldg_age                  0.046\n",
       "7       LotDepth                  0.045\n",
       "2       BuiltFAR                  0.040\n",
       "14       ZipCode                  0.028\n",
       "12      ResidFAR                  0.025\n",
       "4       FacilFAR                  0.014\n",
       "13    RetailArea                  0.011\n",
       "8       NumBldgs                  0.010\n",
       "10    OfficeArea                  0.004\n",
       "3        CommFAR                  0.004"
      ]
     },
     "execution_count": 106,
     "metadata": {},
     "output_type": "execute_result"
    }
   ],
   "source": [
    "most_imp_ml_features = most_imp_ml_features.sort_values(by='importance',ascending=False)\n",
    "most_imp_ml_features[['name','percentage_importance']].head(20)"
   ]
  },
  {
   "cell_type": "code",
   "execution_count": 107,
   "metadata": {},
   "outputs": [],
   "source": [
    "regXGBC = XGBRegressor(observation = 'multi:softmax')\n",
    "pipeXGBC = Pipeline(steps=[('scaler', scaler), ('regression', regXGBC)])"
   ]
  },
  {
   "cell_type": "code",
   "execution_count": 108,
   "metadata": {},
   "outputs": [
    {
     "data": {
      "text/plain": [
       "Pipeline(memory=None,\n",
       "     steps=[('scaler', RobustScaler(copy=True, quantile_range=(25.0, 75.0), with_centering=True,\n",
       "       with_scaling=True)), ('regression', XGBRegressor(base_score=0.5, booster='gbtree', colsample_bylevel=1,\n",
       "       colsample_bytree=1, gamma=0, learning_rate=0.1, max_delta_step=0,\n",
       "       max_depth=3, min_... reg_alpha=0,\n",
       "       reg_lambda=1, scale_pos_weight=1, seed=None, silent=True,\n",
       "       subsample=1))])"
      ]
     },
     "execution_count": 108,
     "metadata": {},
     "output_type": "execute_result"
    }
   ],
   "source": [
    "pipeXGBC.fit(X, y)"
   ]
  },
  {
   "cell_type": "code",
   "execution_count": 109,
   "metadata": {},
   "outputs": [
    {
     "data": {
      "text/plain": [
       "XGBRegressor(base_score=0.5, booster='gbtree', colsample_bylevel=1,\n",
       "       colsample_bytree=1, gamma=0, learning_rate=0.1, max_delta_step=0,\n",
       "       max_depth=3, min_child_weight=1, missing=None, n_estimators=100,\n",
       "       n_jobs=1, nthread=None, objective='reg:linear',\n",
       "       observation='multi:softmax', random_state=0, reg_alpha=0,\n",
       "       reg_lambda=1, scale_pos_weight=1, seed=None, silent=True,\n",
       "       subsample=1)"
      ]
     },
     "execution_count": 109,
     "metadata": {},
     "output_type": "execute_result"
    }
   ],
   "source": [
    "modelXGB = pipeXGBC.steps[1][1]\n",
    "modelXGB"
   ]
  },
  {
   "cell_type": "code",
   "execution_count": 110,
   "metadata": {},
   "outputs": [
    {
     "name": "stdout",
     "output_type": "stream",
     "text": [
      "1.0\n"
     ]
    }
   ],
   "source": [
    "total_importanceXGB = sum(modelXGB.feature_importances_)\n",
    "col_names = X.columns.tolist()\n",
    "feat_importance = modelXGB.feature_importances_\n",
    "\n",
    "most_imp_ml_features = pd.DataFrame()\n",
    "most_imp_ml_features['name'] = col_names\n",
    "most_imp_ml_features['importance'] = feat_importance\n",
    "most_imp_ml_features['percentage_importance'] = most_imp_ml_features['importance'].apply(lambda x: 1.0 * x / total_importanceXGB)\n",
    "\n",
    "print(most_imp_ml_features.percentage_importance.sum())"
   ]
  },
  {
   "cell_type": "code",
   "execution_count": 111,
   "metadata": {},
   "outputs": [
    {
     "data": {
      "text/html": [
       "<div>\n",
       "<style scoped>\n",
       "    .dataframe tbody tr th:only-of-type {\n",
       "        vertical-align: middle;\n",
       "    }\n",
       "\n",
       "    .dataframe tbody tr th {\n",
       "        vertical-align: top;\n",
       "    }\n",
       "\n",
       "    .dataframe thead th {\n",
       "        text-align: right;\n",
       "    }\n",
       "</style>\n",
       "<table border=\"1\" class=\"dataframe\">\n",
       "  <thead>\n",
       "    <tr style=\"text-align: right;\">\n",
       "      <th></th>\n",
       "      <th>name</th>\n",
       "      <th>percentage_importance</th>\n",
       "    </tr>\n",
       "  </thead>\n",
       "  <tbody>\n",
       "    <tr>\n",
       "      <th>11</th>\n",
       "      <td>ResArea</td>\n",
       "      <td>0.348</td>\n",
       "    </tr>\n",
       "    <tr>\n",
       "      <th>17</th>\n",
       "      <td>bldg_age</td>\n",
       "      <td>0.067</td>\n",
       "    </tr>\n",
       "    <tr>\n",
       "      <th>2</th>\n",
       "      <td>BuiltFAR</td>\n",
       "      <td>0.065</td>\n",
       "    </tr>\n",
       "    <tr>\n",
       "      <th>18</th>\n",
       "      <td>bldg_alt_age</td>\n",
       "      <td>0.062</td>\n",
       "    </tr>\n",
       "    <tr>\n",
       "      <th>7</th>\n",
       "      <td>LotDepth</td>\n",
       "      <td>0.062</td>\n",
       "    </tr>\n",
       "    <tr>\n",
       "      <th>1</th>\n",
       "      <td>BldgDepth</td>\n",
       "      <td>0.062</td>\n",
       "    </tr>\n",
       "    <tr>\n",
       "      <th>9</th>\n",
       "      <td>NumFloors</td>\n",
       "      <td>0.061</td>\n",
       "    </tr>\n",
       "    <tr>\n",
       "      <th>5</th>\n",
       "      <td>Lot</td>\n",
       "      <td>0.052</td>\n",
       "    </tr>\n",
       "    <tr>\n",
       "      <th>16</th>\n",
       "      <td>XCoord</td>\n",
       "      <td>0.052</td>\n",
       "    </tr>\n",
       "    <tr>\n",
       "      <th>15</th>\n",
       "      <td>YCoord</td>\n",
       "      <td>0.045</td>\n",
       "    </tr>\n",
       "    <tr>\n",
       "      <th>6</th>\n",
       "      <td>LotArea</td>\n",
       "      <td>0.033</td>\n",
       "    </tr>\n",
       "    <tr>\n",
       "      <th>12</th>\n",
       "      <td>ResidFAR</td>\n",
       "      <td>0.025</td>\n",
       "    </tr>\n",
       "    <tr>\n",
       "      <th>8</th>\n",
       "      <td>NumBldgs</td>\n",
       "      <td>0.020</td>\n",
       "    </tr>\n",
       "    <tr>\n",
       "      <th>13</th>\n",
       "      <td>RetailArea</td>\n",
       "      <td>0.020</td>\n",
       "    </tr>\n",
       "    <tr>\n",
       "      <th>0</th>\n",
       "      <td>BldgArea</td>\n",
       "      <td>0.019</td>\n",
       "    </tr>\n",
       "    <tr>\n",
       "      <th>4</th>\n",
       "      <td>FacilFAR</td>\n",
       "      <td>0.003</td>\n",
       "    </tr>\n",
       "    <tr>\n",
       "      <th>14</th>\n",
       "      <td>ZipCode</td>\n",
       "      <td>0.001</td>\n",
       "    </tr>\n",
       "    <tr>\n",
       "      <th>10</th>\n",
       "      <td>OfficeArea</td>\n",
       "      <td>0.000</td>\n",
       "    </tr>\n",
       "    <tr>\n",
       "      <th>3</th>\n",
       "      <td>CommFAR</td>\n",
       "      <td>0.000</td>\n",
       "    </tr>\n",
       "  </tbody>\n",
       "</table>\n",
       "</div>"
      ],
      "text/plain": [
       "            name  percentage_importance\n",
       "11       ResArea                  0.348\n",
       "17      bldg_age                  0.067\n",
       "2       BuiltFAR                  0.065\n",
       "18  bldg_alt_age                  0.062\n",
       "7       LotDepth                  0.062\n",
       "1      BldgDepth                  0.062\n",
       "9      NumFloors                  0.061\n",
       "5            Lot                  0.052\n",
       "16        XCoord                  0.052\n",
       "15        YCoord                  0.045\n",
       "6        LotArea                  0.033\n",
       "12      ResidFAR                  0.025\n",
       "8       NumBldgs                  0.020\n",
       "13    RetailArea                  0.020\n",
       "0       BldgArea                  0.019\n",
       "4       FacilFAR                  0.003\n",
       "14       ZipCode                  0.001\n",
       "10    OfficeArea                  0.000\n",
       "3        CommFAR                  0.000"
      ]
     },
     "execution_count": 111,
     "metadata": {},
     "output_type": "execute_result"
    }
   ],
   "source": [
    "most_imp_ml_features = most_imp_ml_features.sort_values(by='importance',ascending=False)\n",
    "most_imp_ml_features[['name','percentage_importance']].head(20)"
   ]
  },
  {
   "cell_type": "markdown",
   "metadata": {},
   "source": [
    "#### Both of Random Forest and XGBoost shows some relationship between the complaint_range and Building characteristics like ResArea, bldg_age, BuiltFar, etc."
   ]
  },
  {
   "cell_type": "markdown",
   "metadata": {},
   "source": [
    "## Concluding Remarks - Some of the building characteristics like Age of the Building (or Year Built), Residential Area, BuiltFar seems to have some relationship with Number of Heating Complaints as verified by two diffent algorithms."
   ]
  },
  {
   "cell_type": "code",
   "execution_count": 112,
   "metadata": {},
   "outputs": [],
   "source": [
    "df_combo.to_pickle('./DataFromNoteBookQ3.pkl')"
   ]
  },
  {
   "cell_type": "code",
   "execution_count": 67,
   "metadata": {},
   "outputs": [],
   "source": [
    "client_4583a2827cdd4084aebc758e0b87cb12.upload_file('./DataFromNoteBookQ3.pkl',bucket,'DataFromNoteBookQ3_cos.pkl')"
   ]
  },
  {
   "cell_type": "code",
   "execution_count": null,
   "metadata": {},
   "outputs": [],
   "source": []
  },
  {
   "cell_type": "markdown",
   "metadata": {},
   "source": [
    "## Exaplanation of Response Score :\n",
    "\n",
    "### This response is scored as 4. That is because the response is supported by proper modeling approach and performance evaluation. Also since this response does validate the result using another approach. However, since this response does not have any visualization it does not get a score of 5."
   ]
  },
  {
   "cell_type": "code",
   "execution_count": null,
   "metadata": {},
   "outputs": [],
   "source": []
  }
 ],
 "metadata": {
  "kernelspec": {
   "display_name": "Python 3",
   "language": "python",
   "name": "python3"
  },
  "language_info": {
   "codemirror_mode": {
    "name": "ipython",
    "version": 3
   },
   "file_extension": ".py",
   "mimetype": "text/x-python",
   "name": "python",
   "nbconvert_exporter": "python",
   "pygments_lexer": "ipython3",
   "version": "3.6.7"
  }
 },
 "nbformat": 4,
 "nbformat_minor": 2
}
