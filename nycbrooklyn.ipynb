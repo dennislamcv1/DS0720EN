{
 "cells": [
  {
   "cell_type": "code",
   "execution_count": 1,
   "metadata": {},
   "outputs": [],
   "source": [
    "import numpy as np\n",
    "import pandas as pd\n",
    "import matplotlib.pyplot as plt\n",
    "import seaborn as sns\n",
    "import warnings\n",
    "warnings.filterwarnings('ignore')\n",
    "%matplotlib inline"
   ]
  },
  {
   "cell_type": "code",
   "execution_count": 2,
   "metadata": {},
   "outputs": [],
   "source": [
    "df = pd.read_csv('nycbrooklyn.csv')"
   ]
  },
  {
   "cell_type": "markdown",
   "metadata": {},
   "source": [
    "## Step 1"
   ]
  },
  {
   "cell_type": "code",
   "execution_count": null,
   "metadata": {},
   "outputs": [],
   "source": [
    "df.shape"
   ]
  },
  {
   "cell_type": "code",
   "execution_count": 22,
   "metadata": {},
   "outputs": [
    {
     "data": {
      "text/plain": [
       "array(['borough', 'complaint_type', 'incident_address', 'incident_zip',\n",
       "       'street_name', 'Lot', 'NumBldgs', 'NumFloors'], dtype=object)"
      ]
     },
     "execution_count": 22,
     "metadata": {},
     "output_type": "execute_result"
    }
   ],
   "source": [
    "df.columns.values"
   ]
  },
  {
   "cell_type": "code",
   "execution_count": 23,
   "metadata": {},
   "outputs": [
    {
     "data": {
      "text/plain": [
       "borough              object\n",
       "complaint_type       object\n",
       "incident_address     object\n",
       "incident_zip          int64\n",
       "street_name          object\n",
       "Lot                   int64\n",
       "NumBldgs              int64\n",
       "NumFloors           float64\n",
       "dtype: object"
      ]
     },
     "execution_count": 23,
     "metadata": {},
     "output_type": "execute_result"
    }
   ],
   "source": [
    "df.dtypes"
   ]
  },
  {
   "cell_type": "code",
   "execution_count": 11,
   "metadata": {},
   "outputs": [
    {
     "data": {
      "text/html": [
       "<div>\n",
       "<style scoped>\n",
       "    .dataframe tbody tr th:only-of-type {\n",
       "        vertical-align: middle;\n",
       "    }\n",
       "\n",
       "    .dataframe tbody tr th {\n",
       "        vertical-align: top;\n",
       "    }\n",
       "\n",
       "    .dataframe thead th {\n",
       "        text-align: right;\n",
       "    }\n",
       "</style>\n",
       "<table border=\"1\" class=\"dataframe\">\n",
       "  <thead>\n",
       "    <tr style=\"text-align: right;\">\n",
       "      <th></th>\n",
       "      <th>borough</th>\n",
       "      <th>complaint_type</th>\n",
       "      <th>incident_address</th>\n",
       "      <th>incident_zip</th>\n",
       "      <th>street_name</th>\n",
       "      <th>Lot</th>\n",
       "      <th>NumBldgs</th>\n",
       "      <th>NumFloors</th>\n",
       "    </tr>\n",
       "  </thead>\n",
       "  <tbody>\n",
       "    <tr>\n",
       "      <th>0</th>\n",
       "      <td>BROOKLYN</td>\n",
       "      <td>DOOR/WINDOW</td>\n",
       "      <td>351 63 STREET</td>\n",
       "      <td>11220</td>\n",
       "      <td>63 STREET</td>\n",
       "      <td>9</td>\n",
       "      <td>1</td>\n",
       "      <td>4.0</td>\n",
       "    </tr>\n",
       "    <tr>\n",
       "      <th>1</th>\n",
       "      <td>BROOKLYN</td>\n",
       "      <td>DOOR/WINDOW</td>\n",
       "      <td>351 63 STREET</td>\n",
       "      <td>11220</td>\n",
       "      <td>63 STREET</td>\n",
       "      <td>10</td>\n",
       "      <td>1</td>\n",
       "      <td>2.0</td>\n",
       "    </tr>\n",
       "    <tr>\n",
       "      <th>2</th>\n",
       "      <td>BROOKLYN</td>\n",
       "      <td>DOOR/WINDOW</td>\n",
       "      <td>351 63 STREET</td>\n",
       "      <td>11220</td>\n",
       "      <td>63 STREET</td>\n",
       "      <td>11</td>\n",
       "      <td>1</td>\n",
       "      <td>2.0</td>\n",
       "    </tr>\n",
       "    <tr>\n",
       "      <th>3</th>\n",
       "      <td>BROOKLYN</td>\n",
       "      <td>DOOR/WINDOW</td>\n",
       "      <td>351 63 STREET</td>\n",
       "      <td>11220</td>\n",
       "      <td>63 STREET</td>\n",
       "      <td>12</td>\n",
       "      <td>1</td>\n",
       "      <td>2.0</td>\n",
       "    </tr>\n",
       "    <tr>\n",
       "      <th>4</th>\n",
       "      <td>BROOKLYN</td>\n",
       "      <td>DOOR/WINDOW</td>\n",
       "      <td>351 63 STREET</td>\n",
       "      <td>11220</td>\n",
       "      <td>63 STREET</td>\n",
       "      <td>13</td>\n",
       "      <td>1</td>\n",
       "      <td>2.0</td>\n",
       "    </tr>\n",
       "  </tbody>\n",
       "</table>\n",
       "</div>"
      ],
      "text/plain": [
       "    borough complaint_type incident_address  incident_zip street_name  Lot  \\\n",
       "0  BROOKLYN    DOOR/WINDOW    351 63 STREET         11220   63 STREET    9   \n",
       "1  BROOKLYN    DOOR/WINDOW    351 63 STREET         11220   63 STREET   10   \n",
       "2  BROOKLYN    DOOR/WINDOW    351 63 STREET         11220   63 STREET   11   \n",
       "3  BROOKLYN    DOOR/WINDOW    351 63 STREET         11220   63 STREET   12   \n",
       "4  BROOKLYN    DOOR/WINDOW    351 63 STREET         11220   63 STREET   13   \n",
       "\n",
       "   NumBldgs  NumFloors  \n",
       "0         1        4.0  \n",
       "1         1        2.0  \n",
       "2         1        2.0  \n",
       "3         1        2.0  \n",
       "4         1        2.0  "
      ]
     },
     "execution_count": 11,
     "metadata": {},
     "output_type": "execute_result"
    }
   ],
   "source": [
    "df.head()"
   ]
  },
  {
   "cell_type": "markdown",
   "metadata": {},
   "source": [
    "## Step 2"
   ]
  },
  {
   "cell_type": "code",
   "execution_count": 10,
   "metadata": {},
   "outputs": [
    {
     "data": {
      "text/plain": [
       "borough              object\n",
       "complaint_type       object\n",
       "incident_address     object\n",
       "incident_zip          int64\n",
       "street_name          object\n",
       "Lot                   int64\n",
       "NumBldgs              int64\n",
       "NumFloors           float64\n",
       "dtype: object"
      ]
     },
     "execution_count": 10,
     "metadata": {},
     "output_type": "execute_result"
    }
   ],
   "source": [
    "df.dtypes"
   ]
  },
  {
   "cell_type": "code",
   "execution_count": null,
   "metadata": {},
   "outputs": [],
   "source": [
    "df.columns.values"
   ]
  },
  {
   "cell_type": "code",
   "execution_count": null,
   "metadata": {},
   "outputs": [],
   "source": [
    "df['borough'].value_counts(sort=False)"
   ]
  },
  {
   "cell_type": "code",
   "execution_count": null,
   "metadata": {},
   "outputs": [],
   "source": [
    "df['complaint_type'].value_counts(sort=False)"
   ]
  },
  {
   "cell_type": "code",
   "execution_count": null,
   "metadata": {},
   "outputs": [],
   "source": [
    "df['incident_address'].value_counts(sort=False)"
   ]
  },
  {
   "cell_type": "code",
   "execution_count": null,
   "metadata": {},
   "outputs": [],
   "source": [
    "df['incident_zip'].value_counts(sort=False)"
   ]
  },
  {
   "cell_type": "code",
   "execution_count": null,
   "metadata": {},
   "outputs": [],
   "source": [
    "df['street_name'].value_counts(sort=False)"
   ]
  },
  {
   "cell_type": "code",
   "execution_count": 24,
   "metadata": {},
   "outputs": [
    {
     "data": {
      "text/plain": [
       "1       52143\n",
       "2       17574\n",
       "3       19179\n",
       "4       19482\n",
       "5       20532\n",
       "6       21068\n",
       "7       19439\n",
       "8       18196\n",
       "9       20330\n",
       "10      20158\n",
       "11      19914\n",
       "12      24777\n",
       "13      22838\n",
       "14      21451\n",
       "15      22087\n",
       "16      21870\n",
       "17      20905\n",
       "18      22044\n",
       "19      19833\n",
       "20      19643\n",
       "21      20803\n",
       "22      19243\n",
       "23      19620\n",
       "24      21002\n",
       "25      21734\n",
       "26      19139\n",
       "27      19115\n",
       "28      18270\n",
       "29      18043\n",
       "30      17671\n",
       "        ...  \n",
       "311       122\n",
       "312       122\n",
       "313       122\n",
       "314       122\n",
       "315       122\n",
       "316       122\n",
       "317       122\n",
       "318       122\n",
       "319       122\n",
       "322       122\n",
       "325       122\n",
       "326       122\n",
       "331       122\n",
       "7503     5695\n",
       "7502    11765\n",
       "7501    23912\n",
       "7507      122\n",
       "337       122\n",
       "7506      228\n",
       "338       122\n",
       "7505     1155\n",
       "7504     3295\n",
       "341       122\n",
       "7508      122\n",
       "401       122\n",
       "404       122\n",
       "501       122\n",
       "504       122\n",
       "506       122\n",
       "508       122\n",
       "Name: Lot, Length: 206, dtype: int64"
      ]
     },
     "execution_count": 24,
     "metadata": {},
     "output_type": "execute_result"
    }
   ],
   "source": [
    "df['Lot'].value_counts(sort=False)"
   ]
  },
  {
   "cell_type": "code",
   "execution_count": null,
   "metadata": {},
   "outputs": [],
   "source": [
    "df['NumBldgs'].value_counts(sort=False)"
   ]
  },
  {
   "cell_type": "code",
   "execution_count": null,
   "metadata": {},
   "outputs": [],
   "source": [
    "df['NumFloors'].value_counts(sort=False)"
   ]
  },
  {
   "cell_type": "code",
   "execution_count": null,
   "metadata": {},
   "outputs": [],
   "source": [
    "plt.figure(figsize=(10,20))\n",
    "plt.boxplot(df['NumFloors'])"
   ]
  },
  {
   "cell_type": "code",
   "execution_count": 14,
   "metadata": {},
   "outputs": [
    {
     "data": {
      "text/plain": [
       "borough             0\n",
       "complaint_type      0\n",
       "incident_address    0\n",
       "incident_zip        0\n",
       "street_name         0\n",
       "Lot                 0\n",
       "NumBldgs            0\n",
       "NumFloors           0\n",
       "dtype: int64"
      ]
     },
     "execution_count": 14,
     "metadata": {},
     "output_type": "execute_result"
    }
   ],
   "source": [
    "df.isnull().sum()"
   ]
  },
  {
   "cell_type": "markdown",
   "metadata": {},
   "source": [
    "## Step 3: Visualization"
   ]
  },
  {
   "cell_type": "code",
   "execution_count": null,
   "metadata": {},
   "outputs": [],
   "source": [
    "#sns.pairplot(df)"
   ]
  },
  {
   "cell_type": "code",
   "execution_count": null,
   "metadata": {},
   "outputs": [],
   "source": [
    "#sns.swarmplot(x=df['NumFloors'], y=df['complaint_type'], data=df);"
   ]
  },
  {
   "cell_type": "code",
   "execution_count": null,
   "metadata": {},
   "outputs": [],
   "source": [
    "sns.countplot(x=df['borough'])"
   ]
  },
  {
   "cell_type": "code",
   "execution_count": 7,
   "metadata": {},
   "outputs": [
    {
     "data": {
      "text/plain": [
       "[Text(0, 0, '0.0'),\n",
       " Text(0, 0, '1.0'),\n",
       " Text(0, 0, '1.25'),\n",
       " Text(0, 0, '1.5'),\n",
       " Text(0, 0, '2.0'),\n",
       " Text(0, 0, '2.25'),\n",
       " Text(0, 0, '2.5'),\n",
       " Text(0, 0, '2.75'),\n",
       " Text(0, 0, '3.0'),\n",
       " Text(0, 0, '3.5'),\n",
       " Text(0, 0, '3.67'),\n",
       " Text(0, 0, '3.75'),\n",
       " Text(0, 0, '4.0'),\n",
       " Text(0, 0, '4.5'),\n",
       " Text(0, 0, '5.0'),\n",
       " Text(0, 0, '6.0'),\n",
       " Text(0, 0, '6.5'),\n",
       " Text(0, 0, '7.0'),\n",
       " Text(0, 0, '8.0'),\n",
       " Text(0, 0, '9.0'),\n",
       " Text(0, 0, '10.0'),\n",
       " Text(0, 0, '11.0'),\n",
       " Text(0, 0, '12.0'),\n",
       " Text(0, 0, '13.0'),\n",
       " Text(0, 0, '14.0'),\n",
       " Text(0, 0, '15.0'),\n",
       " Text(0, 0, '17.0'),\n",
       " Text(0, 0, '18.0'),\n",
       " Text(0, 0, '19.0'),\n",
       " Text(0, 0, '20.0'),\n",
       " Text(0, 0, '21.0'),\n",
       " Text(0, 0, '22.0'),\n",
       " Text(0, 0, '23.0'),\n",
       " Text(0, 0, '24.0'),\n",
       " Text(0, 0, '25.0'),\n",
       " Text(0, 0, '26.0'),\n",
       " Text(0, 0, '27.0'),\n",
       " Text(0, 0, '28.0'),\n",
       " Text(0, 0, '28.5'),\n",
       " Text(0, 0, '29.0'),\n",
       " Text(0, 0, '30.0'),\n",
       " Text(0, 0, '31.0'),\n",
       " Text(0, 0, '32.0'),\n",
       " Text(0, 0, '33.0'),\n",
       " Text(0, 0, '36.0'),\n",
       " Text(0, 0, '40.0'),\n",
       " Text(0, 0, '50.0'),\n",
       " Text(0, 0, '51.0'),\n",
       " Text(0, 0, '53.0'),\n",
       " Text(0, 0, '54.0'),\n",
       " Text(0, 0, '57.0')]"
      ]
     },
     "execution_count": 7,
     "metadata": {},
     "output_type": "execute_result"
    },
    {
     "data": {
      "image/png": "[encoded data removed]",
      "text/plain": [
       "<Figure size 720x720 with 1 Axes>"
      ]
     },
     "metadata": {
      "needs_background": "light"
     },
     "output_type": "display_data"
    }
   ],
   "source": [
    "plt.figure(figsize=(10,10))\n",
    "ax = sns.countplot(x=df['NumFloors'], orient='h')\n",
    "ax.set_xticklabels(ax.get_xticklabels(),rotation=90)"
   ]
  },
  {
   "cell_type": "code",
   "execution_count": 9,
   "metadata": {},
   "outputs": [
    {
     "data": {
      "text/plain": [
       "Text(0.5, 1.0, 'Figure')"
      ]
     },
     "execution_count": 9,
     "metadata": {},
     "output_type": "execute_result"
    },
    {
     "data": {
      "image/png": "[encoded data removed]",
      "text/plain": [
       "<Figure size 720x720 with 1 Axes>"
      ]
     },
     "metadata": {
      "needs_background": "light"
     },
     "output_type": "display_data"
    }
   ],
   "source": [
    "plt.figure(figsize=(10,10))\n",
    "ax = sns.countplot(x=df['complaint_type'], orient=\"h\")\n",
    "ax.set_xticklabels(ax.get_xticklabels(),rotation=90)\n",
    "plt.title(\"Figure\")"
   ]
  },
  {
   "cell_type": "code",
   "execution_count": 12,
   "metadata": {},
   "outputs": [
    {
     "data": {
      "text/html": [
       "<div>\n",
       "<style scoped>\n",
       "    .dataframe tbody tr th:only-of-type {\n",
       "        vertical-align: middle;\n",
       "    }\n",
       "\n",
       "    .dataframe tbody tr th {\n",
       "        vertical-align: top;\n",
       "    }\n",
       "\n",
       "    .dataframe thead th {\n",
       "        text-align: right;\n",
       "    }\n",
       "</style>\n",
       "<table border=\"1\" class=\"dataframe\">\n",
       "  <thead>\n",
       "    <tr style=\"text-align: right;\">\n",
       "      <th></th>\n",
       "      <th>incident_zip</th>\n",
       "      <th>Lot</th>\n",
       "      <th>NumBldgs</th>\n",
       "      <th>NumFloors</th>\n",
       "    </tr>\n",
       "  </thead>\n",
       "  <tbody>\n",
       "    <tr>\n",
       "      <th>incident_zip</th>\n",
       "      <td>1.000000</td>\n",
       "      <td>-0.047437</td>\n",
       "      <td>-0.017291</td>\n",
       "      <td>-0.218224</td>\n",
       "    </tr>\n",
       "    <tr>\n",
       "      <th>Lot</th>\n",
       "      <td>-0.047437</td>\n",
       "      <td>1.000000</td>\n",
       "      <td>0.068201</td>\n",
       "      <td>0.224807</td>\n",
       "    </tr>\n",
       "    <tr>\n",
       "      <th>NumBldgs</th>\n",
       "      <td>-0.017291</td>\n",
       "      <td>0.068201</td>\n",
       "      <td>1.000000</td>\n",
       "      <td>0.183904</td>\n",
       "    </tr>\n",
       "    <tr>\n",
       "      <th>NumFloors</th>\n",
       "      <td>-0.218224</td>\n",
       "      <td>0.224807</td>\n",
       "      <td>0.183904</td>\n",
       "      <td>1.000000</td>\n",
       "    </tr>\n",
       "  </tbody>\n",
       "</table>\n",
       "</div>"
      ],
      "text/plain": [
       "              incident_zip       Lot  NumBldgs  NumFloors\n",
       "incident_zip      1.000000 -0.047437 -0.017291  -0.218224\n",
       "Lot              -0.047437  1.000000  0.068201   0.224807\n",
       "NumBldgs         -0.017291  0.068201  1.000000   0.183904\n",
       "NumFloors        -0.218224  0.224807  0.183904   1.000000"
      ]
     },
     "execution_count": 12,
     "metadata": {},
     "output_type": "execute_result"
    }
   ],
   "source": [
    "df.corr()"
   ]
  },
  {
   "cell_type": "code",
   "execution_count": 17,
   "metadata": {},
   "outputs": [
    {
     "data": {
      "text/plain": [
       "<matplotlib.axes._subplots.AxesSubplot at 0x1d080017048>"
      ]
     },
     "execution_count": 17,
     "metadata": {},
     "output_type": "execute_result"
    },
    {
     "data": {
      "image/png": "[encoded data removed]",
      "text/plain": [
       "<Figure size 432x288 with 2 Axes>"
      ]
     },
     "metadata": {
      "needs_background": "light"
     },
     "output_type": "display_data"
    }
   ],
   "source": [
    "sns.heatmap(df.corr(), cmap=\"YlGnBu\", annot=True)"
   ]
  },
  {
   "cell_type": "code",
   "execution_count": 30,
   "metadata": {},
   "outputs": [
    {
     "data": {
      "text/plain": [
       "<matplotlib.axes._subplots.AxesSubplot at 0x1d0f05aa128>"
      ]
     },
     "execution_count": 30,
     "metadata": {},
     "output_type": "execute_result"
    },
    {
     "data": {
      "image/png": "[encoded data removed]",
      "text/plain": [
       "<Figure size 1440x720 with 1 Axes>"
      ]
     },
     "metadata": {},
     "output_type": "display_data"
    }
   ],
   "source": [
    "plt.figure(figsize=(20,10))\n",
    "sns.set_style(style='ticks')\n",
    "sns.countplot(x=df['Lot'], orient=\"h\")"
   ]
  },
  {
   "cell_type": "code",
   "execution_count": null,
   "metadata": {},
   "outputs": [],
   "source": []
  }
 ],
 "metadata": {
  "kernelspec": {
   "display_name": "Python 3",
   "language": "python",
   "name": "python3"
  },
  "language_info": {
   "codemirror_mode": {
    "name": "ipython",
    "version": 3
   },
   "file_extension": ".py",
   "mimetype": "text/x-python",
   "name": "python",
   "nbconvert_exporter": "python",
   "pygments_lexer": "ipython3",
   "version": "3.6.7"
  }
 },
 "nbformat": 4,
 "nbformat_minor": 2
}
